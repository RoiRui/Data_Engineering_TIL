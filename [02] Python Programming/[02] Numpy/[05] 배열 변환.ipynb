{
 "cells": [
  {
   "cell_type": "markdown",
   "id": "04808b11",
   "metadata": {},
   "source": [
    "## 🗂️ 배열 변환"
   ]
  },
  {
   "cell_type": "code",
   "execution_count": 1,
   "id": "150868b9",
   "metadata": {},
   "outputs": [],
   "source": [
    "import numpy as np"
   ]
  },
  {
   "cell_type": "code",
   "execution_count": 2,
   "id": "b6a132ab",
   "metadata": {},
   "outputs": [],
   "source": [
    "arr1 = np.array([1, 2, 3])\n",
    "arr2 = np.array([[1, 2, 3],\n",
    "                 [4, 5, 6],\n",
    "                 [7, 8, 9]])\n",
    "arr3 = np.array([[[1, 2, 3],\n",
    "                  [4, 5, 6],\n",
    "                  [7, 8, 9]],\n",
    "                 [[10, 11, 12],\n",
    "                  [13, 14, 15],\n",
    "                  [16, 17, 18]],\n",
    "                 [[19, 20, 21],\n",
    "                  [22, 23, 24],\n",
    "                  [25, 26, 27]]])"
   ]
  },
  {
   "attachments": {
    "image.png": {
     "image/png": "[encoded data removed]"
    }
   },
   "cell_type": "markdown",
   "id": "c3325815",
   "metadata": {},
   "source": [
    "#### 📌 배열 전치\n",
    "![image.png](attachment:image.png)"
   ]
  },
  {
   "cell_type": "code",
   "execution_count": 3,
   "id": "30df5f9a",
   "metadata": {},
   "outputs": [
    {
     "name": "stdout",
     "output_type": "stream",
     "text": [
      "[[1 2 3]\n",
      " [4 5 6]\n",
      " [7 8 9]]\n"
     ]
    }
   ],
   "source": [
    "print(arr2)"
   ]
  },
  {
   "cell_type": "code",
   "execution_count": 4,
   "id": "f87e78a3",
   "metadata": {},
   "outputs": [
    {
     "name": "stdout",
     "output_type": "stream",
     "text": [
      "[[1 4 7]\n",
      " [2 5 8]\n",
      " [3 6 9]]\n"
     ]
    }
   ],
   "source": [
    "print(arr2.T)"
   ]
  },
  {
   "cell_type": "code",
   "execution_count": 5,
   "id": "4de149d3",
   "metadata": {},
   "outputs": [
    {
     "name": "stdout",
     "output_type": "stream",
     "text": [
      "[[[ 1  2  3]\n",
      "  [ 4  5  6]\n",
      "  [ 7  8  9]]\n",
      "\n",
      " [[10 11 12]\n",
      "  [13 14 15]\n",
      "  [16 17 18]]\n",
      "\n",
      " [[19 20 21]\n",
      "  [22 23 24]\n",
      "  [25 26 27]]]\n"
     ]
    }
   ],
   "source": [
    "print(arr3)"
   ]
  },
  {
   "cell_type": "code",
   "execution_count": 6,
   "id": "882fae51",
   "metadata": {
    "scrolled": true
   },
   "outputs": [
    {
     "name": "stdout",
     "output_type": "stream",
     "text": [
      "[[[ 1 10 19]\n",
      "  [ 4 13 22]\n",
      "  [ 7 16 25]]\n",
      "\n",
      " [[ 2 11 20]\n",
      "  [ 5 14 23]\n",
      "  [ 8 17 26]]\n",
      "\n",
      " [[ 3 12 21]\n",
      "  [ 6 15 24]\n",
      "  [ 9 18 27]]]\n"
     ]
    }
   ],
   "source": [
    "print(arr3.T)"
   ]
  },
  {
   "cell_type": "markdown",
   "id": "87ad4205",
   "metadata": {},
   "source": [
    "#### 📌 배열 축 변경\n",
    "- ```swapaxes()```\n",
    "    - 2차원 배열\n",
    "        - axis 0 : 2차원 축\n",
    "        - axis 1 : 1차원 축\n",
    "    - 3차원 배열\n",
    "        - axis 0 : 3차원 축\n",
    "        - axis 1 : 2차원 축\n",
    "        - axis 2 : 1차원 축"
   ]
  },
  {
   "cell_type": "code",
   "execution_count": 7,
   "id": "f3c5b33f",
   "metadata": {},
   "outputs": [
    {
     "name": "stdout",
     "output_type": "stream",
     "text": [
      "[[1 2 3]\n",
      " [4 5 6]\n",
      " [7 8 9]]\n"
     ]
    }
   ],
   "source": [
    "print(arr2)"
   ]
  },
  {
   "cell_type": "code",
   "execution_count": 8,
   "id": "0be15a20",
   "metadata": {},
   "outputs": [
    {
     "name": "stdout",
     "output_type": "stream",
     "text": [
      "[[1 4 7]\n",
      " [2 5 8]\n",
      " [3 6 9]]\n"
     ]
    }
   ],
   "source": [
    "print(arr2.swapaxes(0, 1))"
   ]
  },
  {
   "cell_type": "code",
   "execution_count": 9,
   "id": "ce77c090",
   "metadata": {},
   "outputs": [
    {
     "name": "stdout",
     "output_type": "stream",
     "text": [
      "[[[ 1  2  3]\n",
      "  [ 4  5  6]\n",
      "  [ 7  8  9]]\n",
      "\n",
      " [[10 11 12]\n",
      "  [13 14 15]\n",
      "  [16 17 18]]\n",
      "\n",
      " [[19 20 21]\n",
      "  [22 23 24]\n",
      "  [25 26 27]]]\n"
     ]
    }
   ],
   "source": [
    "print(arr3)"
   ]
  },
  {
   "cell_type": "code",
   "execution_count": 10,
   "id": "0b0009d3",
   "metadata": {
    "scrolled": true
   },
   "outputs": [
    {
     "name": "stdout",
     "output_type": "stream",
     "text": [
      "[[[ 1  2  3]\n",
      "  [10 11 12]\n",
      "  [19 20 21]]\n",
      "\n",
      " [[ 4  5  6]\n",
      "  [13 14 15]\n",
      "  [22 23 24]]\n",
      "\n",
      " [[ 7  8  9]\n",
      "  [16 17 18]\n",
      "  [25 26 27]]]\n"
     ]
    }
   ],
   "source": [
    "print(arr3.swapaxes(0, 1))"
   ]
  },
  {
   "cell_type": "markdown",
   "id": "5efdd175",
   "metadata": {},
   "source": [
    "#### 📌 배열 축 추가\n",
    "- ```newaxis()```"
   ]
  },
  {
   "cell_type": "code",
   "execution_count": 11,
   "id": "349d0f3c",
   "metadata": {},
   "outputs": [
    {
     "name": "stdout",
     "output_type": "stream",
     "text": [
      "[1 2 3 4 5 6 7 8 9]\n",
      "[[1 2 3 4 5 6 7 8 9]]\n",
      "[[1]\n",
      " [2]\n",
      " [3]\n",
      " [4]\n",
      " [5]\n",
      " [6]\n",
      " [7]\n",
      " [8]\n",
      " [9]]\n"
     ]
    }
   ],
   "source": [
    "arr = np.arange(1, 10)\n",
    "print(arr)\n",
    "print(arr[np.newaxis, :])\n",
    "print(arr[:, np.newaxis])"
   ]
  },
  {
   "cell_type": "markdown",
   "id": "9861a028",
   "metadata": {},
   "source": [
    "#### 📌 배열 재구조화\n",
    "- ```reshape()``` : 배열의 형상을 변경"
   ]
  },
  {
   "cell_type": "code",
   "execution_count": 12,
   "id": "5dc4d0a6",
   "metadata": {},
   "outputs": [
    {
     "name": "stdout",
     "output_type": "stream",
     "text": [
      "[1 2 3 4 5 6 7 8 9]\n",
      "[[1 2 3]\n",
      " [4 5 6]\n",
      " [7 8 9]]\n"
     ]
    }
   ],
   "source": [
    "arr = np.arange(1, 10)\n",
    "print(arr)\n",
    "print(arr.reshape(3, 3))"
   ]
  },
  {
   "cell_type": "markdown",
   "id": "e6354dbe",
   "metadata": {},
   "source": [
    "- ```resize()``` : 배열의 형상을 변경"
   ]
  },
  {
   "cell_type": "code",
   "execution_count": 13,
   "id": "ac99406d",
   "metadata": {},
   "outputs": [
    {
     "name": "stdout",
     "output_type": "stream",
     "text": [
      "[1 2 3 4 5 6 7 8 9]\n",
      "[[1 2 3]\n",
      " [4 5 6]\n",
      " [7 8 9]]\n"
     ]
    }
   ],
   "source": [
    "arr = np.arange(1, 10)\n",
    "print(arr)\n",
    "arr.resize(3, 3)\n",
    "print(arr)"
   ]
  },
  {
   "cell_type": "markdown",
   "id": "a3ad9770",
   "metadata": {},
   "source": [
    "- ```reshape()``` vs ```resize()```"
   ]
  },
  {
   "cell_type": "code",
   "execution_count": 14,
   "id": "8b43e2b6",
   "metadata": {},
   "outputs": [
    {
     "ename": "ValueError",
     "evalue": "cannot reshape array of size 15 into shape (3,3)",
     "output_type": "error",
     "traceback": [
      "\u001b[1;31m---------------------------------------------------------------------------\u001b[0m",
      "\u001b[1;31mValueError\u001b[0m                                Traceback (most recent call last)",
      "Input \u001b[1;32mIn [14]\u001b[0m, in \u001b[0;36m<cell line: 3>\u001b[1;34m()\u001b[0m\n\u001b[0;32m      1\u001b[0m \u001b[38;5;66;03m# reshape는 데이터의 개수와 정확히 일치하지 않는다면 에러 발생\u001b[39;00m\n\u001b[0;32m      2\u001b[0m arr \u001b[38;5;241m=\u001b[39m np\u001b[38;5;241m.\u001b[39marange(\u001b[38;5;241m1\u001b[39m, \u001b[38;5;241m16\u001b[39m)\n\u001b[1;32m----> 3\u001b[0m \u001b[38;5;28mprint\u001b[39m(\u001b[43marr\u001b[49m\u001b[38;5;241;43m.\u001b[39;49m\u001b[43mreshape\u001b[49m\u001b[43m(\u001b[49m\u001b[38;5;241;43m3\u001b[39;49m\u001b[43m,\u001b[49m\u001b[43m \u001b[49m\u001b[38;5;241;43m3\u001b[39;49m\u001b[43m)\u001b[49m)\n",
      "\u001b[1;31mValueError\u001b[0m: cannot reshape array of size 15 into shape (3,3)"
     ]
    }
   ],
   "source": [
    "# reshape는 데이터의 개수와 정확히 일치하지 않는다면 에러 발생\n",
    "arr = np.arange(1, 16)\n",
    "print(arr.reshape(3, 3))"
   ]
  },
  {
   "cell_type": "code",
   "execution_count": 15,
   "id": "fbfb20c3",
   "metadata": {},
   "outputs": [
    {
     "name": "stdout",
     "output_type": "stream",
     "text": [
      "[[1 2 3]\n",
      " [4 5 0]\n",
      " [0 0 0]]\n"
     ]
    }
   ],
   "source": [
    "# size는 데이터의 개수가 모자라면 남은 공간을 0으로 채움\n",
    "arr = np.arange(1, 6)\n",
    "arr.resize(3, 3)\n",
    "print(arr)"
   ]
  },
  {
   "cell_type": "code",
   "execution_count": 16,
   "id": "0726ce5c",
   "metadata": {},
   "outputs": [
    {
     "name": "stdout",
     "output_type": "stream",
     "text": [
      "[[0 1 2]\n",
      " [3 4 5]\n",
      " [6 7 8]]\n"
     ]
    }
   ],
   "source": [
    "# size는 데이터의 개수가 남는다면 삭제함\n",
    "arr = np.arange(0, 15)\n",
    "arr.resize(3, 3)\n",
    "print(arr)"
   ]
  },
  {
   "cell_type": "code",
   "execution_count": 17,
   "id": "7da275c3",
   "metadata": {},
   "outputs": [
    {
     "name": "stdout",
     "output_type": "stream",
     "text": [
      "None\n"
     ]
    }
   ],
   "source": [
    "# size는 처리된 배열을 return 하지 않기 때문에 단독적으로 실행시켜야 함\n",
    "arr = np.arange(1, 10)\n",
    "arr_sub = arr.resize(3, 3)\n",
    "print(arr_sub)"
   ]
  },
  {
   "cell_type": "code",
   "execution_count": 18,
   "id": "3a9991b9",
   "metadata": {},
   "outputs": [
    {
     "name": "stdout",
     "output_type": "stream",
     "text": [
      "[[1 2 3]\n",
      " [4 5 6]\n",
      " [7 8 9]]\n"
     ]
    }
   ],
   "source": [
    "arr.resize(3, 3)\n",
    "print(arr)"
   ]
  },
  {
   "cell_type": "code",
   "execution_count": 19,
   "id": "62225574",
   "metadata": {},
   "outputs": [
    {
     "name": "stdout",
     "output_type": "stream",
     "text": [
      "[[1 2 3]\n",
      " [4 5 6]\n",
      " [7 8 9]]\n"
     ]
    }
   ],
   "source": [
    "arr_sub = arr.reshape(3, 3)\n",
    "print(arr_sub)"
   ]
  },
  {
   "cell_type": "markdown",
   "id": "410e4b41",
   "metadata": {},
   "source": [
    "- ```ravel()``` : 1차원 배열으로 변환"
   ]
  },
  {
   "cell_type": "code",
   "execution_count": 20,
   "id": "c14e4b27",
   "metadata": {},
   "outputs": [
    {
     "name": "stdout",
     "output_type": "stream",
     "text": [
      "[[9 2 2]\n",
      " [9 2 1]\n",
      " [6 8 5]]\n",
      "[9 2 2 9 2 1 6 8 5]\n"
     ]
    }
   ],
   "source": [
    "arr = np.random.randint(1, 10, (3, 3))\n",
    "print(arr)\n",
    "print(arr.ravel())"
   ]
  },
  {
   "cell_type": "markdown",
   "id": "2accdce4",
   "metadata": {},
   "source": [
    "- ```flatten()``` : 1차원 배열으로 변환"
   ]
  },
  {
   "cell_type": "code",
   "execution_count": 21,
   "id": "b8d3e468",
   "metadata": {},
   "outputs": [
    {
     "name": "stdout",
     "output_type": "stream",
     "text": [
      "[[8 6 1]\n",
      " [1 6 4]\n",
      " [7 9 2]]\n",
      "[8 6 1 1 6 4 7 9 2]\n"
     ]
    }
   ],
   "source": [
    "arr = np.random.randint(1, 10, (3, 3))\n",
    "print(arr)\n",
    "print(arr.flatten())"
   ]
  },
  {
   "cell_type": "markdown",
   "id": "5655c1dc",
   "metadata": {},
   "source": [
    "- ```ravel()``` vs ```flatten()```"
   ]
  },
  {
   "cell_type": "code",
   "execution_count": 22,
   "id": "b06cd328",
   "metadata": {},
   "outputs": [
    {
     "name": "stdout",
     "output_type": "stream",
     "text": [
      "변경 전 arr\n",
      " [[7 6 1]\n",
      " [7 9 8]\n",
      " [3 9 3]]\n",
      "변경 후 arr\n",
      " [[-999    6    1]\n",
      " [   7    9    8]\n",
      " [   3    9    3]]\n",
      "arr_sub\n",
      " [-999    6    1    7    9    8    3    9    3]\n"
     ]
    }
   ],
   "source": [
    "# ravel을 통해 변환된 배열은 원본 배열과 메모리를 공유함\n",
    "arr = np.random.randint(1, 10, (3, 3))\n",
    "print(\"변경 전 arr\\n\", arr)\n",
    "arr_sub = arr.ravel() # arr와 arr_sub가 메모리를 공유함\n",
    "arr_sub[0] = -999\n",
    "print(\"변경 후 arr\\n\", arr)\n",
    "print(\"arr_sub\\n\", arr_sub)"
   ]
  },
  {
   "cell_type": "code",
   "execution_count": 23,
   "id": "91eb92d3",
   "metadata": {},
   "outputs": [
    {
     "name": "stdout",
     "output_type": "stream",
     "text": [
      "변경 전 arr\n",
      " [[7 6 4]\n",
      " [7 4 6]\n",
      " [4 3 5]]\n",
      "변경 후 arr\n",
      " [[7 6 4]\n",
      " [7 4 6]\n",
      " [4 3 5]]\n",
      "arr_sub\n",
      " [-999    6    4    7    4    6    4    3    5]\n"
     ]
    }
   ],
   "source": [
    "# flatten을 통해 변환된 배열은 원본 배열과 메모리를 공유하지 않음\n",
    "arr = np.random.randint(1, 10, (3, 3))\n",
    "print(\"변경 전 arr\\n\", arr)\n",
    "arr_sub = arr.flatten() # arr와 arr_sub가 메모리를 공유하지 않음\n",
    "arr_sub[0] = -999\n",
    "print(\"변경 후 arr\\n\", arr)\n",
    "print(\"arr_sub\\n\", arr_sub)"
   ]
  }
 ],
 "metadata": {
  "kernelspec": {
   "display_name": "Python 3 (ipykernel)",
   "language": "python",
   "name": "python3"
  },
  "language_info": {
   "codemirror_mode": {
    "name": "ipython",
    "version": 3
   },
   "file_extension": ".py",
   "mimetype": "text/x-python",
   "name": "python",
   "nbconvert_exporter": "python",
   "pygments_lexer": "ipython3",
   "version": "3.9.12"
  }
 },
 "nbformat": 4,
 "nbformat_minor": 5
}
