{
 "cells": [
  {
   "cell_type": "markdown",
   "id": "19ff5c96",
   "metadata": {},
   "source": [
    "## 🗂️ 배열 입출력\n",
    "\n",
    "|함수|설명|파일 종류|\n",
    "|:--:|:--:|:-------:|\n",
    "|np.save()|Numpy 배열 객체 1개를 파일에 저장|바이너리|\n",
    "|np.savez()|Numpy 배열 객체 여러 개를 파일에 저장|바이너리|\n",
    "|np.load()|Numpy 배열 저장 파일로부터 객체 로딩|바이너리|\n",
    "|np.savetxt()|텍스트 파일에 Numpy 배열 객체 저장|텍스트|\n",
    "|np.loadtxt()|텍스트 파일로부터 배열 로딩|텍스트|"
   ]
  },
  {
   "cell_type": "code",
   "execution_count": 1,
   "id": "5b485868",
   "metadata": {},
   "outputs": [],
   "source": [
    "import numpy as np"
   ]
  },
  {
   "cell_type": "code",
   "execution_count": 2,
   "id": "600e0be0",
   "metadata": {},
   "outputs": [
    {
     "name": "stdout",
     "output_type": "stream",
     "text": [
      "[[3 7 9 1 6]\n",
      " [1 8 8 9 2]\n",
      " [1 7 1 3 7]\n",
      " [2 5 2 7 3]\n",
      " [5 1 1 1 5]]\n",
      "[[8 6 7 3 9]\n",
      " [2 3 8 9 7]\n",
      " [2 6 4 4 8]\n",
      " [4 6 5 5 3]\n",
      " [2 7 7 2 1]]\n"
     ]
    }
   ],
   "source": [
    "arr1 = np.random.randint(1, 10, (5, 5))\n",
    "arr2 = np.random.randint(1, 10, (5, 5))\n",
    "print(arr1)\n",
    "print(arr2)"
   ]
  },
  {
   "cell_type": "code",
   "execution_count": 3,
   "id": "966f4e50",
   "metadata": {},
   "outputs": [],
   "source": [
    "np.save(\"arr1\", arr1)"
   ]
  },
  {
   "attachments": {
    "image.png": {
     "image/png": "[encoded data removed]"
    }
   },
   "cell_type": "markdown",
   "id": "4aba79f5",
   "metadata": {},
   "source": [
    "![image.png](attachment:image.png)"
   ]
  },
  {
   "cell_type": "code",
   "execution_count": 4,
   "id": "6553df6a",
   "metadata": {},
   "outputs": [],
   "source": [
    "np.savez(\"arr1 arr2\", arr1, arr2)"
   ]
  },
  {
   "attachments": {
    "image.png": {
     "image/png": "[encoded data removed]"
    }
   },
   "cell_type": "markdown",
   "id": "97bb6ab5",
   "metadata": {},
   "source": [
    "![image.png](attachment:image.png)"
   ]
  },
  {
   "cell_type": "code",
   "execution_count": 5,
   "id": "44036568",
   "metadata": {},
   "outputs": [
    {
     "name": "stdout",
     "output_type": "stream",
     "text": [
      "[[3 7 9 1 6]\n",
      " [1 8 8 9 2]\n",
      " [1 7 1 3 7]\n",
      " [2 5 2 7 3]\n",
      " [5 1 1 1 5]]\n"
     ]
    }
   ],
   "source": [
    "npy = np.load(\"arr1.npy\")\n",
    "print(npy)"
   ]
  },
  {
   "cell_type": "code",
   "execution_count": 6,
   "id": "4b25091a",
   "metadata": {},
   "outputs": [
    {
     "name": "stdout",
     "output_type": "stream",
     "text": [
      "['arr_0', 'arr_1']\n",
      "[[3 7 9 1 6]\n",
      " [1 8 8 9 2]\n",
      " [1 7 1 3 7]\n",
      " [2 5 2 7 3]\n",
      " [5 1 1 1 5]]\n",
      "[[8 6 7 3 9]\n",
      " [2 3 8 9 7]\n",
      " [2 6 4 4 8]\n",
      " [4 6 5 5 3]\n",
      " [2 7 7 2 1]]\n"
     ]
    }
   ],
   "source": [
    "npz = np.load(\"arr1 arr2.npz\")\n",
    "print(npz.files)\n",
    "print(npz[\"arr_0\"])\n",
    "print(npz[\"arr_1\"])"
   ]
  },
  {
   "cell_type": "code",
   "execution_count": 7,
   "id": "51d34259",
   "metadata": {},
   "outputs": [],
   "source": [
    "np.savetxt(\"arr1.csv\", arr1, delimiter = \",\") # delimiter : 구분자"
   ]
  },
  {
   "attachments": {
    "image.png": {
     "image/png": "[encoded data removed]"
    }
   },
   "cell_type": "markdown",
   "id": "807e07d6",
   "metadata": {},
   "source": [
    "![image.png](attachment:image.png)"
   ]
  },
  {
   "cell_type": "code",
   "execution_count": 8,
   "id": "2b021a1e",
   "metadata": {},
   "outputs": [
    {
     "name": "stdout",
     "output_type": "stream",
     "text": [
      "[[3. 7. 9. 1. 6.]\n",
      " [1. 8. 8. 9. 2.]\n",
      " [1. 7. 1. 3. 7.]\n",
      " [2. 5. 2. 7. 3.]\n",
      " [5. 1. 1. 1. 5.]]\n"
     ]
    }
   ],
   "source": [
    "csv = np.loadtxt(\"arr1.csv\", delimiter = \",\")\n",
    "print(csv)"
   ]
  }
 ],
 "metadata": {
  "kernelspec": {
   "display_name": "Python 3 (ipykernel)",
   "language": "python",
   "name": "python3"
  },
  "language_info": {
   "codemirror_mode": {
    "name": "ipython",
    "version": 3
   },
   "file_extension": ".py",
   "mimetype": "text/x-python",
   "name": "python",
   "nbconvert_exporter": "python",
   "pygments_lexer": "ipython3",
   "version": "3.9.12"
  }
 },
 "nbformat": 4,
 "nbformat_minor": 5
}
