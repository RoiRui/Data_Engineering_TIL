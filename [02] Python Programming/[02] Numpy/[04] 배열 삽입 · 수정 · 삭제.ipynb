{
 "cells": [
  {
   "cell_type": "markdown",
   "id": "7bd277c2",
   "metadata": {},
   "source": [
    "## 🗂️ 배열 삽입 · 수정 · 삭제"
   ]
  },
  {
   "cell_type": "code",
   "execution_count": 1,
   "id": "58b9e6ac",
   "metadata": {},
   "outputs": [],
   "source": [
    "import numpy as np"
   ]
  },
  {
   "cell_type": "code",
   "execution_count": 2,
   "id": "2034e8ee",
   "metadata": {},
   "outputs": [],
   "source": [
    "arr1 = np.array([1, 2, 3])\n",
    "arr2 = np.array([[1, 2, 3],\n",
    "                 [4, 5, 6],\n",
    "                 [7, 8, 9]])\n",
    "arr3 = np.array([[[1, 2, 3],\n",
    "                  [4, 5, 6],\n",
    "                  [7, 8, 9]],\n",
    "                 [[10, 11, 12],\n",
    "                  [13, 14, 15],\n",
    "                  [16, 17, 18]],\n",
    "                 [[19, 20, 21],\n",
    "                  [22, 23, 24],\n",
    "                  [25, 26, 27]]])"
   ]
  },
  {
   "cell_type": "markdown",
   "id": "dee820c7",
   "metadata": {},
   "source": [
    "#### 📌 배열 값 삽입\n",
    "- ```insert()``` : 배열의 특정 위치에 값 삽입\n",
    "- axis를 지정하지 않으면 1차원 배열로 변환 후 삽입\n",
    "- 추가할 방향을 axis로 지정\n",
    "- 원본 배열 변경없이 새로운 배열 반환"
   ]
  },
  {
   "cell_type": "code",
   "execution_count": 3,
   "id": "ffa3ae5d",
   "metadata": {},
   "outputs": [
    {
     "name": "stdout",
     "output_type": "stream",
     "text": [
      "[10  1  2  3]\n"
     ]
    }
   ],
   "source": [
    "print(np.insert(arr1, 0, 10))"
   ]
  },
  {
   "cell_type": "code",
   "execution_count": 4,
   "id": "64a66daa",
   "metadata": {},
   "outputs": [
    {
     "name": "stdout",
     "output_type": "stream",
     "text": [
      "[ 1  2 10  3]\n"
     ]
    }
   ],
   "source": [
    "print(np.insert(arr1, 2, 10))"
   ]
  },
  {
   "cell_type": "code",
   "execution_count": 5,
   "id": "4515bd46",
   "metadata": {},
   "outputs": [
    {
     "name": "stdout",
     "output_type": "stream",
     "text": [
      "[[ 1  2  3]\n",
      " [ 4  5  6]\n",
      " [10 10 10]\n",
      " [ 7  8  9]]\n"
     ]
    }
   ],
   "source": [
    "print(np.insert(arr2, 2, 10, axis = 0))"
   ]
  },
  {
   "cell_type": "code",
   "execution_count": 6,
   "id": "d7a81b6c",
   "metadata": {},
   "outputs": [
    {
     "name": "stdout",
     "output_type": "stream",
     "text": [
      "[[ 1  2 10  3]\n",
      " [ 4  5 10  6]\n",
      " [ 7  8 10  9]]\n"
     ]
    }
   ],
   "source": [
    "print(np.insert(arr2, 2, 10, axis = 1))"
   ]
  },
  {
   "cell_type": "code",
   "execution_count": 7,
   "id": "3bce6989",
   "metadata": {},
   "outputs": [
    {
     "name": "stdout",
     "output_type": "stream",
     "text": [
      "[[[ 1  2  3]\n",
      "  [ 4  5  6]\n",
      "  [ 7  8  9]]\n",
      "\n",
      " [[10 11 12]\n",
      "  [13 14 15]\n",
      "  [16 17 18]]\n",
      "\n",
      " [[10 10 10]\n",
      "  [10 10 10]\n",
      "  [10 10 10]]\n",
      "\n",
      " [[19 20 21]\n",
      "  [22 23 24]\n",
      "  [25 26 27]]]\n"
     ]
    }
   ],
   "source": [
    "print(np.insert(arr3, 2, 10, axis = 0))"
   ]
  },
  {
   "cell_type": "code",
   "execution_count": 8,
   "id": "16c4a884",
   "metadata": {},
   "outputs": [
    {
     "name": "stdout",
     "output_type": "stream",
     "text": [
      "[[[ 1  2  3]\n",
      "  [ 4  5  6]\n",
      "  [10 10 10]\n",
      "  [ 7  8  9]]\n",
      "\n",
      " [[10 11 12]\n",
      "  [13 14 15]\n",
      "  [10 10 10]\n",
      "  [16 17 18]]\n",
      "\n",
      " [[19 20 21]\n",
      "  [22 23 24]\n",
      "  [10 10 10]\n",
      "  [25 26 27]]]\n"
     ]
    }
   ],
   "source": [
    "print(np.insert(arr3, 2, 10, axis = 1))"
   ]
  },
  {
   "cell_type": "code",
   "execution_count": 9,
   "id": "5b414d0b",
   "metadata": {},
   "outputs": [
    {
     "name": "stdout",
     "output_type": "stream",
     "text": [
      "[[[ 1  2 10  3]\n",
      "  [ 4  5 10  6]\n",
      "  [ 7  8 10  9]]\n",
      "\n",
      " [[10 11 10 12]\n",
      "  [13 14 10 15]\n",
      "  [16 17 10 18]]\n",
      "\n",
      " [[19 20 10 21]\n",
      "  [22 23 10 24]\n",
      "  [25 26 10 27]]]\n"
     ]
    }
   ],
   "source": [
    "print(np.insert(arr3, 2, 10, axis = 2))"
   ]
  },
  {
   "cell_type": "markdown",
   "id": "c58102c8",
   "metadata": {},
   "source": [
    "#### 📌 배열 값 수정\n",
    "- 배열의 인덱싱으로 접근하여 값 수정"
   ]
  },
  {
   "cell_type": "code",
   "execution_count": 10,
   "id": "6b062664",
   "metadata": {},
   "outputs": [
    {
     "name": "stdout",
     "output_type": "stream",
     "text": [
      "[1 2 3]\n",
      "[7 8 9]\n"
     ]
    }
   ],
   "source": [
    "print(arr1)\n",
    "\n",
    "arr1[0] = 7\n",
    "arr1[1:] = [8, 9]\n",
    "print(arr1)"
   ]
  },
  {
   "cell_type": "code",
   "execution_count": 11,
   "id": "eb9e2529",
   "metadata": {},
   "outputs": [
    {
     "name": "stdout",
     "output_type": "stream",
     "text": [
      "[0 8 0]\n",
      "[8 8 8]\n"
     ]
    }
   ],
   "source": [
    "fi = np.array([0, 2])\n",
    "\n",
    "arr1[fi] = 0\n",
    "print(arr1)\n",
    "\n",
    "arr1[fi] += 8\n",
    "print(arr1)"
   ]
  },
  {
   "cell_type": "code",
   "execution_count": 12,
   "id": "3c6462c9",
   "metadata": {},
   "outputs": [
    {
     "name": "stdout",
     "output_type": "stream",
     "text": [
      "[[1 2 3]\n",
      " [4 5 6]\n",
      " [7 8 9]]\n",
      "[[0 2 3]\n",
      " [4 0 6]\n",
      " [7 8 0]]\n"
     ]
    }
   ],
   "source": [
    "print(arr2)\n",
    "\n",
    "arr2[0, 0] = 0\n",
    "arr2[1, 1] = 0\n",
    "arr2[2, 2] = 0\n",
    "\n",
    "print(arr2)"
   ]
  },
  {
   "cell_type": "code",
   "execution_count": 13,
   "id": "f987d964",
   "metadata": {},
   "outputs": [
    {
     "name": "stdout",
     "output_type": "stream",
     "text": [
      "[[1 1 1]\n",
      " [1 0 1]\n",
      " [1 1 1]]\n"
     ]
    }
   ],
   "source": [
    "arr2[0] = 1\n",
    "arr2[:, 0] = 1\n",
    "arr2[:, 2] = 1\n",
    "arr2[2] = 1\n",
    "\n",
    "print(arr2)"
   ]
  },
  {
   "cell_type": "code",
   "execution_count": 14,
   "id": "fdfe3483",
   "metadata": {},
   "outputs": [
    {
     "name": "stdout",
     "output_type": "stream",
     "text": [
      "[[1 9 1]\n",
      " [9 0 9]\n",
      " [1 9 1]]\n"
     ]
    }
   ],
   "source": [
    "arr2[[0, 1, 1, 2],\n",
    "     [1, 0, 2, 1]] = 9\n",
    "\n",
    "print(arr2)"
   ]
  },
  {
   "cell_type": "markdown",
   "id": "c416a96c",
   "metadata": {},
   "source": [
    "#### 📌 배열 값 삭제\n",
    "- ```delete()``` : 배열의 특정 위치의 값 삭제\n",
    "- axis를 지정하지 않으면 1차원 배열로 변환\n",
    "- 삭제할 방향을 axis로 지정\n",
    "- 원본 배열 변경없이 새로운 배열 반환"
   ]
  },
  {
   "cell_type": "code",
   "execution_count": 15,
   "id": "3b0e6f07",
   "metadata": {},
   "outputs": [
    {
     "name": "stdout",
     "output_type": "stream",
     "text": [
      "[8 8 8]\n"
     ]
    }
   ],
   "source": [
    "print(arr1)"
   ]
  },
  {
   "cell_type": "code",
   "execution_count": 16,
   "id": "8d5e0f05",
   "metadata": {},
   "outputs": [
    {
     "name": "stdout",
     "output_type": "stream",
     "text": [
      "[8 8]\n"
     ]
    }
   ],
   "source": [
    "print(np.delete(arr1, 2))"
   ]
  },
  {
   "cell_type": "code",
   "execution_count": 17,
   "id": "1bb0701a",
   "metadata": {},
   "outputs": [
    {
     "name": "stdout",
     "output_type": "stream",
     "text": [
      "[[1 9 1]\n",
      " [9 0 9]\n",
      " [1 9 1]]\n"
     ]
    }
   ],
   "source": [
    "print(arr2)"
   ]
  },
  {
   "cell_type": "code",
   "execution_count": 18,
   "id": "81325a42",
   "metadata": {},
   "outputs": [
    {
     "name": "stdout",
     "output_type": "stream",
     "text": [
      "[[1 9 1]\n",
      " [1 9 1]]\n"
     ]
    }
   ],
   "source": [
    "print(np.delete(arr2, 1, axis = 0))"
   ]
  },
  {
   "cell_type": "code",
   "execution_count": 19,
   "id": "e8af94cd",
   "metadata": {},
   "outputs": [
    {
     "name": "stdout",
     "output_type": "stream",
     "text": [
      "[[1 1]\n",
      " [9 9]\n",
      " [1 1]]\n"
     ]
    }
   ],
   "source": [
    "print(np.delete(arr2, 1, axis = 1))"
   ]
  }
 ],
 "metadata": {
  "kernelspec": {
   "display_name": "Python 3 (ipykernel)",
   "language": "python",
   "name": "python3"
  },
  "language_info": {
   "codemirror_mode": {
    "name": "ipython",
    "version": 3
   },
   "file_extension": ".py",
   "mimetype": "text/x-python",
   "name": "python",
   "nbconvert_exporter": "python",
   "pygments_lexer": "ipython3",
   "version": "3.9.12"
  }
 },
 "nbformat": 4,
 "nbformat_minor": 5
}
