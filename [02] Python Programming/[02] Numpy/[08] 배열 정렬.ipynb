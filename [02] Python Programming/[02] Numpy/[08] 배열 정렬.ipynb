{
 "cells": [
  {
   "cell_type": "markdown",
   "id": "d85389dc",
   "metadata": {},
   "source": [
    "## 🗂️ 배열 정렬"
   ]
  },
  {
   "cell_type": "code",
   "execution_count": 1,
   "id": "e73e05c1",
   "metadata": {},
   "outputs": [],
   "source": [
    "import numpy as np"
   ]
  },
  {
   "cell_type": "code",
   "execution_count": 2,
   "id": "828c34d6",
   "metadata": {},
   "outputs": [
    {
     "name": "stdout",
     "output_type": "stream",
     "text": [
      "[5 3 8 1 4 4 2 8 5 8]\n",
      "[[7 5 3]\n",
      " [6 2 6]\n",
      " [8 4 8]]\n"
     ]
    }
   ],
   "source": [
    "arr1 = np.random.randint(1, 10, 10)\n",
    "arr2 = np.random.randint(1, 10, (3, 3))\n",
    "print(arr1)\n",
    "print(arr2)"
   ]
  },
  {
   "cell_type": "markdown",
   "id": "41a408a7",
   "metadata": {},
   "source": [
    "#### 📌 sort()\n",
    "- 주어진 배열을 정렬\n",
    "- 원본에 반영되지 않음"
   ]
  },
  {
   "cell_type": "code",
   "execution_count": 3,
   "id": "8a124926",
   "metadata": {},
   "outputs": [
    {
     "name": "stdout",
     "output_type": "stream",
     "text": [
      "[1 2 3 4 4 5 5 8 8 8]\n"
     ]
    }
   ],
   "source": [
    "print(np.sort(arr1))"
   ]
  },
  {
   "cell_type": "code",
   "execution_count": 4,
   "id": "bc8b48d1",
   "metadata": {},
   "outputs": [
    {
     "name": "stdout",
     "output_type": "stream",
     "text": [
      "[[3 5 7]\n",
      " [2 6 6]\n",
      " [4 8 8]]\n"
     ]
    }
   ],
   "source": [
    "print(np.sort(arr2))"
   ]
  },
  {
   "cell_type": "code",
   "execution_count": 5,
   "id": "e520f257",
   "metadata": {},
   "outputs": [
    {
     "name": "stdout",
     "output_type": "stream",
     "text": [
      "[[6 2 3]\n",
      " [7 4 6]\n",
      " [8 5 8]]\n"
     ]
    }
   ],
   "source": [
    "print(np.sort(arr2, axis = 0)) # 행 방향(axis 0) 정렬"
   ]
  },
  {
   "cell_type": "code",
   "execution_count": 6,
   "id": "b8b833a3",
   "metadata": {},
   "outputs": [
    {
     "name": "stdout",
     "output_type": "stream",
     "text": [
      "[[3 5 7]\n",
      " [2 6 6]\n",
      " [4 8 8]]\n"
     ]
    }
   ],
   "source": [
    "print(np.sort(arr2, axis = 1)) # 열 방향(axis 1) 정렬"
   ]
  },
  {
   "cell_type": "code",
   "execution_count": 7,
   "id": "624ca4d0",
   "metadata": {},
   "outputs": [
    {
     "name": "stdout",
     "output_type": "stream",
     "text": [
      "[2 3 4 5 6 6 7 8 8]\n"
     ]
    }
   ],
   "source": [
    "print(np.sort(arr2, axis = None)) # 1차원 배열로 변환 후 정렬"
   ]
  },
  {
   "cell_type": "markdown",
   "id": "5dccb4a4",
   "metadata": {},
   "source": [
    "#### 📌 argsort()\n",
    "- 정렬된 원소의 기존 배열에서의 인덱스"
   ]
  },
  {
   "cell_type": "code",
   "execution_count": 8,
   "id": "6d5696b9",
   "metadata": {},
   "outputs": [
    {
     "name": "stdout",
     "output_type": "stream",
     "text": [
      "[3 6 1 4 5 0 8 2 7 9]\n"
     ]
    }
   ],
   "source": [
    "print(np.argsort(arr1))"
   ]
  },
  {
   "cell_type": "code",
   "execution_count": 9,
   "id": "99e6936b",
   "metadata": {},
   "outputs": [
    {
     "name": "stdout",
     "output_type": "stream",
     "text": [
      "[[2 1 0]\n",
      " [1 0 2]\n",
      " [1 0 2]]\n"
     ]
    }
   ],
   "source": [
    "print(np.argsort(arr2))"
   ]
  },
  {
   "cell_type": "code",
   "execution_count": 10,
   "id": "a05d8879",
   "metadata": {},
   "outputs": [
    {
     "name": "stdout",
     "output_type": "stream",
     "text": [
      "[[1 1 0]\n",
      " [0 2 1]\n",
      " [2 0 2]]\n"
     ]
    }
   ],
   "source": [
    "print(np.argsort(arr2, axis = 0)) # 행 방향(axis 0) 정렬"
   ]
  },
  {
   "cell_type": "code",
   "execution_count": 11,
   "id": "a87577b7",
   "metadata": {},
   "outputs": [
    {
     "name": "stdout",
     "output_type": "stream",
     "text": [
      "[[2 1 0]\n",
      " [1 0 2]\n",
      " [1 0 2]]\n"
     ]
    }
   ],
   "source": [
    "print(np.argsort(arr2, axis = 1)) # 열 방향(axis 1) 정렬"
   ]
  },
  {
   "cell_type": "code",
   "execution_count": 12,
   "id": "dc0deabb",
   "metadata": {
    "scrolled": true
   },
   "outputs": [
    {
     "name": "stdout",
     "output_type": "stream",
     "text": [
      "[4 2 7 1 3 5 0 6 8]\n"
     ]
    }
   ],
   "source": [
    "print(np.argsort(arr2, axis = None)) # 1차원 배열로 변환 후 정렬"
   ]
  },
  {
   "cell_type": "markdown",
   "id": "093ef004",
   "metadata": {},
   "source": [
    "#### 📌 partition()\n",
    "- 배열에서 k 개의 작은 값을 우선 배치\n",
    "- 나머지 값은 임의의 순서로 채워져 있음"
   ]
  },
  {
   "cell_type": "code",
   "execution_count": 13,
   "id": "7e412219",
   "metadata": {},
   "outputs": [
    {
     "name": "stdout",
     "output_type": "stream",
     "text": [
      "[3 3 1 6 5 8 9 7 6 4]\n",
      "[3 3 1 4 6 8 9 7 6 5]\n"
     ]
    }
   ],
   "source": [
    "arr1 = np.random.randint(1, 10, 10)\n",
    "print(arr1)\n",
    "print(np.partition(arr1, 3))"
   ]
  },
  {
   "cell_type": "code",
   "execution_count": 14,
   "id": "fec648c8",
   "metadata": {},
   "outputs": [
    {
     "name": "stdout",
     "output_type": "stream",
     "text": [
      "[[5 8 2 5 1]\n",
      " [7 1 1 2 1]\n",
      " [6 3 3 2 3]\n",
      " [2 7 1 9 3]\n",
      " [2 4 4 9 5]]\n",
      "[[1 2 5 5 8]\n",
      " [1 1 1 2 7]\n",
      " [2 3 3 3 6]\n",
      " [1 2 3 7 9]\n",
      " [2 4 4 5 9]]\n"
     ]
    }
   ],
   "source": [
    "arr2 = np.random.randint(1, 10, (5, 5))\n",
    "print(arr2)\n",
    "print(np.partition(arr2, 3))"
   ]
  },
  {
   "cell_type": "code",
   "execution_count": 15,
   "id": "ff55cbdb",
   "metadata": {},
   "outputs": [
    {
     "name": "stdout",
     "output_type": "stream",
     "text": [
      "[[9 7 2 7 4]\n",
      " [5 4 6 8 7]\n",
      " [4 1 2 8 8]\n",
      " [8 5 7 3 2]\n",
      " [3 6 2 9 9]]\n",
      "[[3 5 2 3 2]\n",
      " [4 1 2 7 4]\n",
      " [5 4 2 8 7]\n",
      " [8 6 6 8 8]\n",
      " [9 7 7 9 9]]\n"
     ]
    }
   ],
   "source": [
    "arr2 = np.random.randint(1, 10, (5, 5))\n",
    "print(arr2)\n",
    "print(np.partition(arr2, 3, axis = 0))"
   ]
  },
  {
   "cell_type": "code",
   "execution_count": 16,
   "id": "64fd5102",
   "metadata": {},
   "outputs": [
    {
     "name": "stdout",
     "output_type": "stream",
     "text": [
      "[[7 6 5 1 3]\n",
      " [3 8 5 1 7]\n",
      " [4 6 9 6 6]\n",
      " [6 1 7 1 5]\n",
      " [5 2 3 2 3]]\n",
      "[[1 3 5 6 7]\n",
      " [1 3 5 7 8]\n",
      " [6 4 6 6 9]\n",
      " [1 5 1 6 7]\n",
      " [2 3 2 3 5]]\n"
     ]
    }
   ],
   "source": [
    "arr2 = np.random.randint(1, 10, (5, 5))\n",
    "print(arr2)\n",
    "print(np.partition(arr2, 3, axis = 1))"
   ]
  },
  {
   "cell_type": "markdown",
   "id": "36ced9dd",
   "metadata": {},
   "source": [
    "#### 📌 argpartition()\n",
    "- 정렬된 원소의 기존 배열에서의 인덱스"
   ]
  },
  {
   "cell_type": "code",
   "execution_count": 17,
   "id": "4f117e45",
   "metadata": {},
   "outputs": [
    {
     "name": "stdout",
     "output_type": "stream",
     "text": [
      "[2 8 8 4 6 2 1 9 1 6]\n",
      "[1 1 2 2 4 6 8 9 8 6]\n",
      "[8 6 5 0 3 4 1 7 2 9]\n"
     ]
    }
   ],
   "source": [
    "arr1 = np.random.randint(1, 10, 10)\n",
    "print(arr1)\n",
    "print(np.partition(arr1, 3))\n",
    "print(np.argpartition(arr1, 3))"
   ]
  },
  {
   "cell_type": "code",
   "execution_count": 18,
   "id": "3cf8715a",
   "metadata": {},
   "outputs": [
    {
     "name": "stdout",
     "output_type": "stream",
     "text": [
      "[[4 3 3 3 2]\n",
      " [3 3 1 2 2]\n",
      " [7 5 9 7 2]\n",
      " [1 1 3 8 1]\n",
      " [8 1 3 1 5]]\n",
      "[[3 2 3 3 4]\n",
      " [2 1 2 3 3]\n",
      " [5 2 7 7 9]\n",
      " [1 1 1 3 8]\n",
      " [1 3 1 5 8]]\n",
      "[[3 4 2 1 0]\n",
      " [3 2 4 1 0]\n",
      " [1 4 0 3 2]\n",
      " [4 0 1 2 3]\n",
      " [3 2 1 4 0]]\n"
     ]
    }
   ],
   "source": [
    "arr2 = np.random.randint(1, 10, (5, 5))\n",
    "print(arr2)\n",
    "print(np.partition(arr2, 3))\n",
    "print(np.argpartition(arr2, 3))"
   ]
  },
  {
   "cell_type": "code",
   "execution_count": 19,
   "id": "abe5df83",
   "metadata": {},
   "outputs": [
    {
     "name": "stdout",
     "output_type": "stream",
     "text": [
      "[[9 1 2 3 9]\n",
      " [8 3 2 8 4]\n",
      " [7 7 9 7 3]\n",
      " [2 4 3 2 9]\n",
      " [5 7 5 4 2]]\n",
      "[[2 4 3 2 2]\n",
      " [5 1 2 3 3]\n",
      " [7 3 2 4 4]\n",
      " [8 7 5 7 9]\n",
      " [9 7 9 8 9]]\n",
      "[[3 3 3 3 4]\n",
      " [4 0 0 0 2]\n",
      " [2 1 1 4 1]\n",
      " [1 2 4 2 3]\n",
      " [0 4 2 1 0]]\n"
     ]
    }
   ],
   "source": [
    "arr2 = np.random.randint(1, 10, (5, 5))\n",
    "print(arr2)\n",
    "print(np.partition(arr2, 3, axis = 0))\n",
    "print(np.argpartition(arr2, 3, axis = 0))"
   ]
  },
  {
   "cell_type": "code",
   "execution_count": 20,
   "id": "232b8b9b",
   "metadata": {},
   "outputs": [
    {
     "name": "stdout",
     "output_type": "stream",
     "text": [
      "[[5 5 2 2 7]\n",
      " [5 5 6 1 9]\n",
      " [8 4 9 5 3]\n",
      " [4 7 8 2 9]\n",
      " [8 1 4 4 8]]\n",
      "[[2 2 5 5 7]\n",
      " [1 5 5 6 9]\n",
      " [5 3 4 8 9]\n",
      " [2 4 7 8 9]\n",
      " [4 4 1 8 8]]\n",
      "[[3 2 0 1 4]\n",
      " [3 0 1 2 4]\n",
      " [3 4 1 0 2]\n",
      " [3 0 1 2 4]\n",
      " [3 2 1 0 4]]\n"
     ]
    }
   ],
   "source": [
    "arr2 = np.random.randint(1, 10, (5, 5))\n",
    "print(arr2)\n",
    "print(np.partition(arr2, 3, axis = 1))\n",
    "print(np.argpartition(arr2, 3, axis = 1))"
   ]
  }
 ],
 "metadata": {
  "kernelspec": {
   "display_name": "Python 3 (ipykernel)",
   "language": "python",
   "name": "python3"
  },
  "language_info": {
   "codemirror_mode": {
    "name": "ipython",
    "version": 3
   },
   "file_extension": ".py",
   "mimetype": "text/x-python",
   "name": "python",
   "nbconvert_exporter": "python",
   "pygments_lexer": "ipython3",
   "version": "3.9.12"
  }
 },
 "nbformat": 4,
 "nbformat_minor": 5
}
