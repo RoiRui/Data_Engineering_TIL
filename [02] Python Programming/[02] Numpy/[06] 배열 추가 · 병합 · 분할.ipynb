{
 "cells": [
  {
   "cell_type": "markdown",
   "id": "3b670ab0",
   "metadata": {},
   "source": [
    "## 🗂️ 배열 추가 · 병합 · 분할"
   ]
  },
  {
   "cell_type": "code",
   "execution_count": 1,
   "id": "303e56d7",
   "metadata": {},
   "outputs": [],
   "source": [
    "import numpy as np"
   ]
  },
  {
   "cell_type": "markdown",
   "id": "b3109b21",
   "metadata": {},
   "source": [
    "#### 📌 배열 추가\n",
    "- ```append()``` : 배열의 끝에 값 추가\n",
    "- axis 지정이 없으면 1차원 배열 형태로 변형되어 결합"
   ]
  },
  {
   "cell_type": "code",
   "execution_count": 2,
   "id": "8cb7dd77",
   "metadata": {},
   "outputs": [
    {
     "name": "stdout",
     "output_type": "stream",
     "text": [
      "[ 1  2  3  4  5  6  7  8  9 10 11 12 13 14 15 16 17 18]\n"
     ]
    }
   ],
   "source": [
    "arr1 = np.arange(1, 10).reshape(3, 3)\n",
    "arr2 = np.arange(10, 19).reshape(3, 3)\n",
    "\n",
    "arr3 = np.append(arr1, arr2)\n",
    "print(arr3)"
   ]
  },
  {
   "cell_type": "markdown",
   "id": "027ce749",
   "metadata": {},
   "source": [
    "- axis를 0으로 지정\n",
    "- shape[0]을 제외한 나머지 shape은 같아야 함"
   ]
  },
  {
   "cell_type": "code",
   "execution_count": 3,
   "id": "b70a38a5",
   "metadata": {},
   "outputs": [
    {
     "name": "stdout",
     "output_type": "stream",
     "text": [
      "[[ 1  2  3]\n",
      " [ 4  5  6]\n",
      " [ 7  8  9]\n",
      " [10 11 12]\n",
      " [13 14 15]\n",
      " [16 17 18]]\n"
     ]
    }
   ],
   "source": [
    "arr3 = np.append(arr1, arr2, axis = 0)\n",
    "print(arr3)"
   ]
  },
  {
   "cell_type": "markdown",
   "id": "a87fa97a",
   "metadata": {},
   "source": [
    "- axis를 1로 지정\n",
    "- shape[1]을 제외한 나머지 shape은 같아야 함"
   ]
  },
  {
   "cell_type": "code",
   "execution_count": 4,
   "id": "f9a692e3",
   "metadata": {},
   "outputs": [
    {
     "name": "stdout",
     "output_type": "stream",
     "text": [
      "[[ 1  2  3 10 11 12]\n",
      " [ 4  5  6 13 14 15]\n",
      " [ 7  8  9 16 17 18]]\n"
     ]
    }
   ],
   "source": [
    "arr3 = np.append(arr1, arr2, axis = 1)\n",
    "print(arr3)"
   ]
  },
  {
   "cell_type": "markdown",
   "id": "090c4940",
   "metadata": {},
   "source": [
    "#### 📌 배열 병합\n",
    "- ```concatenate()``` : 튜플이나 배열의 리스트를 인수로 사용해 배열 연결"
   ]
  },
  {
   "cell_type": "code",
   "execution_count": 5,
   "id": "f1a37ac1",
   "metadata": {},
   "outputs": [
    {
     "name": "stdout",
     "output_type": "stream",
     "text": [
      "[1 3 5 2 4 6 7 8 9]\n"
     ]
    }
   ],
   "source": [
    "arr1 = np.array([1, 3, 5])\n",
    "arr2 = np.array([2, 4, 6])\n",
    "arr3 = np.array([7, 8, 9])\n",
    "\n",
    "print(np.concatenate((arr1, arr2, arr3)))"
   ]
  },
  {
   "cell_type": "code",
   "execution_count": 6,
   "id": "22a3f09c",
   "metadata": {},
   "outputs": [
    {
     "name": "stdout",
     "output_type": "stream",
     "text": [
      "[[1 2 3]\n",
      " [4 5 6]\n",
      " [1 2 3]\n",
      " [4 5 6]]\n",
      "[[1 2 3 1 2 3]\n",
      " [4 5 6 4 5 6]]\n"
     ]
    }
   ],
   "source": [
    "arr1 = np.array([[1, 2, 3],\n",
    "                 [4, 5, 6]])\n",
    "\n",
    "print(np.concatenate((arr1, arr1), axis = 0))\n",
    "print(np.concatenate((arr1, arr1), axis = 1))"
   ]
  },
  {
   "cell_type": "markdown",
   "id": "4e01a0fc",
   "metadata": {},
   "source": [
    "- ```vstack()``` : 수직 스택(Vertical Stack)"
   ]
  },
  {
   "cell_type": "code",
   "execution_count": 7,
   "id": "14c940c7",
   "metadata": {},
   "outputs": [
    {
     "data": {
      "text/plain": [
       "array([[ 1,  2,  3],\n",
       "       [ 4,  5,  6],\n",
       "       [ 7,  8,  9],\n",
       "       [10, 11, 12]])"
      ]
     },
     "execution_count": 7,
     "metadata": {},
     "output_type": "execute_result"
    }
   ],
   "source": [
    "arr1 = np.array([[1, 2, 3],\n",
    "                 [4, 5, 6]])\n",
    "arr2 = np.array([[7, 8, 9],\n",
    "                 [10, 11, 12]])\n",
    "\n",
    "np.vstack((arr1, arr2))"
   ]
  },
  {
   "cell_type": "markdown",
   "id": "8867f5ac",
   "metadata": {},
   "source": [
    "- ```hstack()``` : 수평 스택(Horizontal Stack)"
   ]
  },
  {
   "cell_type": "code",
   "execution_count": 8,
   "id": "67b6dd75",
   "metadata": {},
   "outputs": [
    {
     "data": {
      "text/plain": [
       "array([[ 1,  2,  3,  7,  8,  9],\n",
       "       [ 4,  5,  6, 10, 11, 12]])"
      ]
     },
     "execution_count": 8,
     "metadata": {},
     "output_type": "execute_result"
    }
   ],
   "source": [
    "np.hstack((arr1, arr2))"
   ]
  },
  {
   "cell_type": "markdown",
   "id": "5317f592",
   "metadata": {},
   "source": [
    "- ```dstack()``` : 깊이 스택(Depth Stack)"
   ]
  },
  {
   "cell_type": "code",
   "execution_count": 9,
   "id": "48dd92f7",
   "metadata": {},
   "outputs": [
    {
     "data": {
      "text/plain": [
       "array([[[ 1,  7],\n",
       "        [ 2,  8],\n",
       "        [ 3,  9]],\n",
       "\n",
       "       [[ 4, 10],\n",
       "        [ 5, 11],\n",
       "        [ 6, 12]]])"
      ]
     },
     "execution_count": 9,
     "metadata": {},
     "output_type": "execute_result"
    }
   ],
   "source": [
    "np.dstack((arr1, arr2))"
   ]
  },
  {
   "cell_type": "markdown",
   "id": "e3090e44",
   "metadata": {},
   "source": [
    "- ```stack()``` : 새로운 차원으로 연결"
   ]
  },
  {
   "cell_type": "code",
   "execution_count": 10,
   "id": "e90d4e96",
   "metadata": {},
   "outputs": [
    {
     "data": {
      "text/plain": [
       "array([[[ 1,  2,  3],\n",
       "        [ 4,  5,  6]],\n",
       "\n",
       "       [[ 7,  8,  9],\n",
       "        [10, 11, 12]]])"
      ]
     },
     "execution_count": 10,
     "metadata": {},
     "output_type": "execute_result"
    }
   ],
   "source": [
    "np.stack((arr1, arr2))"
   ]
  },
  {
   "cell_type": "markdown",
   "id": "5b5aa170",
   "metadata": {},
   "source": [
    "#### 📌 배열 분할\n",
    "- ```split()``` : 배열 분할"
   ]
  },
  {
   "cell_type": "code",
   "execution_count": 11,
   "id": "4dfddf63",
   "metadata": {},
   "outputs": [
    {
     "name": "stdout",
     "output_type": "stream",
     "text": [
      "[0 1 2 3 4] [5 6 7 8 9]\n"
     ]
    }
   ],
   "source": [
    "arr = np.arange(0, 10)\n",
    "arr_sub1, arr_sub2 = np.split(arr, [5])\n",
    "print(arr_sub1, arr_sub2)"
   ]
  },
  {
   "cell_type": "markdown",
   "id": "238ea849",
   "metadata": {},
   "source": [
    "- ```vsplit()``` : 수직 분할"
   ]
  },
  {
   "cell_type": "code",
   "execution_count": 12,
   "id": "04e0b6ea",
   "metadata": {},
   "outputs": [
    {
     "name": "stdout",
     "output_type": "stream",
     "text": [
      "[[1 2 3]]\n",
      "[[4 5 6]]\n",
      "[[7 8 9]]\n"
     ]
    }
   ],
   "source": [
    "arr = np.arange(1, 10).reshape(3, 3)\n",
    "arr_sub1, arr_sub2, arr_sub3 = np.vsplit(arr, [1, 2])\n",
    "print(arr_sub1)\n",
    "print(arr_sub2)\n",
    "print(arr_sub3)"
   ]
  },
  {
   "cell_type": "markdown",
   "id": "9b08eec4",
   "metadata": {},
   "source": [
    "- ```hsplit()``` : 수평 분할"
   ]
  },
  {
   "cell_type": "code",
   "execution_count": 13,
   "id": "117b854d",
   "metadata": {},
   "outputs": [
    {
     "name": "stdout",
     "output_type": "stream",
     "text": [
      "[[1]\n",
      " [4]\n",
      " [7]]\n",
      "[[2]\n",
      " [5]\n",
      " [8]]\n",
      "[[3]\n",
      " [6]\n",
      " [9]]\n"
     ]
    }
   ],
   "source": [
    "arr = np.arange(1, 10).reshape(3, 3)\n",
    "arr_sub1, arr_sub2, arr_sub3 = np.hsplit(arr, [1, 2])\n",
    "print(arr_sub1)\n",
    "print(arr_sub2)\n",
    "print(arr_sub3)"
   ]
  },
  {
   "cell_type": "markdown",
   "id": "4337b645",
   "metadata": {},
   "source": [
    "- ```dsplit()``` : 깊이 분할"
   ]
  },
  {
   "cell_type": "code",
   "execution_count": 14,
   "id": "c2f6145d",
   "metadata": {},
   "outputs": [
    {
     "name": "stdout",
     "output_type": "stream",
     "text": [
      "[[[ 1  2  3]\n",
      "  [ 4  5  6]\n",
      "  [ 7  8  9]]\n",
      "\n",
      " [[10 11 12]\n",
      "  [13 14 15]\n",
      "  [16 17 18]]\n",
      "\n",
      " [[19 20 21]\n",
      "  [22 23 24]\n",
      "  [25 26 27]]]\n",
      "[[[ 1]\n",
      "  [ 4]\n",
      "  [ 7]]\n",
      "\n",
      " [[10]\n",
      "  [13]\n",
      "  [16]]\n",
      "\n",
      " [[19]\n",
      "  [22]\n",
      "  [25]]]\n",
      "[[[ 2]\n",
      "  [ 5]\n",
      "  [ 8]]\n",
      "\n",
      " [[11]\n",
      "  [14]\n",
      "  [17]]\n",
      "\n",
      " [[20]\n",
      "  [23]\n",
      "  [26]]]\n",
      "[[[ 3]\n",
      "  [ 6]\n",
      "  [ 9]]\n",
      "\n",
      " [[12]\n",
      "  [15]\n",
      "  [18]]\n",
      "\n",
      " [[21]\n",
      "  [24]\n",
      "  [27]]]\n"
     ]
    }
   ],
   "source": [
    "arr = np.arange(1, 28).reshape(3, 3, 3)\n",
    "arr_sub1, arr_sub2, arr_sub3 = np.dsplit(arr, [1, 2])\n",
    "print(arr)\n",
    "print(arr_sub1)\n",
    "print(arr_sub2)\n",
    "print(arr_sub3)"
   ]
  }
 ],
 "metadata": {
  "kernelspec": {
   "display_name": "Python 3 (ipykernel)",
   "language": "python",
   "name": "python3"
  },
  "language_info": {
   "codemirror_mode": {
    "name": "ipython",
    "version": 3
   },
   "file_extension": ".py",
   "mimetype": "text/x-python",
   "name": "python",
   "nbconvert_exporter": "python",
   "pygments_lexer": "ipython3",
   "version": "3.9.12"
  }
 },
 "nbformat": 4,
 "nbformat_minor": 5
}
