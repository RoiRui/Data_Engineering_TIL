{
 "cells": [
  {
   "cell_type": "markdown",
   "id": "b525e678",
   "metadata": {},
   "source": [
    "## 🗂️ 배열 연산\n",
    "- Numpy의 배열 연산은 벡터화(Vertorized) 연산을 사용\n",
    "- 일반적으로 Numpy의 범용 함수(Universal Functions)를 통해 구현\n",
    "- 배열 요소에 대한 반복적인 계산을 효율적으로 수행"
   ]
  },
  {
   "cell_type": "markdown",
   "id": "6a248b6a",
   "metadata": {},
   "source": [
    "## 🗂️ 산술 연산(Arthmetic Operators)\n",
    "\n",
    "|연산자|범용 함수|설명|\n",
    "|:----:|:-------:|:--:|\n",
    "|+|np.add|덧셈|\n",
    "|-|np.subtract|뺄셈|\n",
    "|-|np.negative|단항 음수|\n",
    "|*|np.multiply|곱셈|\n",
    "|/|np.divide|나눗셈|\n",
    "|//|np.floor_divide|몫|\n",
    "|%|np.mod|나머지|\n",
    "|**|np.power|지수 연산|"
   ]
  },
  {
   "cell_type": "code",
   "execution_count": 1,
   "id": "1f41f893",
   "metadata": {},
   "outputs": [],
   "source": [
    "import numpy as np"
   ]
  },
  {
   "cell_type": "code",
   "execution_count": 2,
   "id": "0288a172",
   "metadata": {},
   "outputs": [],
   "source": [
    "arr1 = np.array([[1, 2, 3],\n",
    "                 [4, 5, 6],\n",
    "                 [7, 8, 9]])\n",
    "\n",
    "arr2 = np.array([[2, 2, 2],\n",
    "                 [2, 2, 2],\n",
    "                 [2, 2, 2]])"
   ]
  },
  {
   "cell_type": "code",
   "execution_count": 3,
   "id": "c5717cbb",
   "metadata": {},
   "outputs": [
    {
     "name": "stdout",
     "output_type": "stream",
     "text": [
      "[[ 3  4  5]\n",
      " [ 6  7  8]\n",
      " [ 9 10 11]]\n",
      "[[ 3  4  5]\n",
      " [ 6  7  8]\n",
      " [ 9 10 11]]\n"
     ]
    }
   ],
   "source": [
    "print(arr1 + arr2)\n",
    "print(np.add(arr1, arr2))"
   ]
  },
  {
   "cell_type": "code",
   "execution_count": 4,
   "id": "2e7c1be4",
   "metadata": {},
   "outputs": [
    {
     "name": "stdout",
     "output_type": "stream",
     "text": [
      "[[-1  0  1]\n",
      " [ 2  3  4]\n",
      " [ 5  6  7]]\n",
      "[[-1  0  1]\n",
      " [ 2  3  4]\n",
      " [ 5  6  7]]\n"
     ]
    }
   ],
   "source": [
    "print(arr1 - arr2)\n",
    "print(np.subtract(arr1, arr2))"
   ]
  },
  {
   "cell_type": "code",
   "execution_count": 5,
   "id": "d81f9bb7",
   "metadata": {},
   "outputs": [
    {
     "name": "stdout",
     "output_type": "stream",
     "text": [
      "[[-1 -2 -3]\n",
      " [-4 -5 -6]\n",
      " [-7 -8 -9]]\n",
      "[[-1 -2 -3]\n",
      " [-4 -5 -6]\n",
      " [-7 -8 -9]]\n"
     ]
    }
   ],
   "source": [
    "print(-arr1)\n",
    "print(np.negative(arr1))"
   ]
  },
  {
   "cell_type": "code",
   "execution_count": 6,
   "id": "d0fb2fb8",
   "metadata": {},
   "outputs": [
    {
     "name": "stdout",
     "output_type": "stream",
     "text": [
      "[[ 2  4  6]\n",
      " [ 8 10 12]\n",
      " [14 16 18]]\n",
      "[[ 2  4  6]\n",
      " [ 8 10 12]\n",
      " [14 16 18]]\n"
     ]
    }
   ],
   "source": [
    "print(arr1 * arr2)\n",
    "print(np.multiply(arr1, arr2))"
   ]
  },
  {
   "cell_type": "code",
   "execution_count": 7,
   "id": "b1330699",
   "metadata": {},
   "outputs": [
    {
     "name": "stdout",
     "output_type": "stream",
     "text": [
      "[[0.5 1.  1.5]\n",
      " [2.  2.5 3. ]\n",
      " [3.5 4.  4.5]]\n",
      "[[0.5 1.  1.5]\n",
      " [2.  2.5 3. ]\n",
      " [3.5 4.  4.5]]\n"
     ]
    }
   ],
   "source": [
    "print(arr1 / arr2)\n",
    "print(np.divide(arr1, arr2))"
   ]
  },
  {
   "cell_type": "code",
   "execution_count": 8,
   "id": "e0fd5deb",
   "metadata": {},
   "outputs": [
    {
     "name": "stdout",
     "output_type": "stream",
     "text": [
      "[[0 1 1]\n",
      " [2 2 3]\n",
      " [3 4 4]]\n",
      "[[0 1 1]\n",
      " [2 2 3]\n",
      " [3 4 4]]\n"
     ]
    }
   ],
   "source": [
    "print(arr1 // arr2)\n",
    "print(np.floor_divide(arr1, arr2))"
   ]
  },
  {
   "cell_type": "code",
   "execution_count": 9,
   "id": "f5fa8028",
   "metadata": {},
   "outputs": [
    {
     "name": "stdout",
     "output_type": "stream",
     "text": [
      "[[1 0 1]\n",
      " [0 1 0]\n",
      " [1 0 1]]\n",
      "[[1 0 1]\n",
      " [0 1 0]\n",
      " [1 0 1]]\n"
     ]
    }
   ],
   "source": [
    "print(arr1 % arr2)\n",
    "print(np.mod(arr1, arr2))"
   ]
  },
  {
   "cell_type": "code",
   "execution_count": 10,
   "id": "c6c8b9c3",
   "metadata": {
    "scrolled": false
   },
   "outputs": [
    {
     "name": "stdout",
     "output_type": "stream",
     "text": [
      "[[  1   8  27]\n",
      " [ 64 125 216]\n",
      " [343 512 729]]\n",
      "[[  1   8  27]\n",
      " [ 64 125 216]\n",
      " [343 512 729]]\n"
     ]
    }
   ],
   "source": [
    "print(arr1 ** 3)\n",
    "print(np.power(arr1, 3))"
   ]
  },
  {
   "cell_type": "markdown",
   "id": "c5f8e56d",
   "metadata": {},
   "source": [
    "#### 📌 절대값 함수(Absolute Function)\n",
    "- ```absolute()```\n",
    "- ```abs()```"
   ]
  },
  {
   "cell_type": "code",
   "execution_count": 11,
   "id": "295939e1",
   "metadata": {},
   "outputs": [
    {
     "name": "stdout",
     "output_type": "stream",
     "text": [
      "[-5  6 -8 -9 -6]\n",
      "[5 6 8 9 6]\n",
      "[5 6 8 9 6]\n"
     ]
    }
   ],
   "source": [
    "arr = np.random.randint(-10, 10, size = 5)\n",
    "print(arr)\n",
    "print(np.absolute(arr))\n",
    "print(np.abs(arr))"
   ]
  },
  {
   "cell_type": "markdown",
   "id": "289cfb31",
   "metadata": {},
   "source": [
    "#### 📌 제곱 · 제곱근 함수\n",
    "- ```square()```\n",
    "- ```sqrt()```"
   ]
  },
  {
   "cell_type": "code",
   "execution_count": 12,
   "id": "8a5acfba",
   "metadata": {},
   "outputs": [
    {
     "name": "stdout",
     "output_type": "stream",
     "text": [
      "[1 2 3 4 5]\n",
      "[ 1  4  9 16 25]\n",
      "[1.         1.41421356 1.73205081 2.         2.23606798]\n"
     ]
    }
   ],
   "source": [
    "arr = np.arange(1, 6)\n",
    "print(arr)\n",
    "print(np.square(arr))\n",
    "print(np.sqrt(arr))"
   ]
  },
  {
   "cell_type": "markdown",
   "id": "826b00ae",
   "metadata": {},
   "source": [
    "#### 📌 삼각 함수(Trigonometrical Function)\n",
    "|함수|설명|\n",
    "|:--:|:--:|\n",
    "|np.sin()|요소 별 사인|\n",
    "|np.cos()|요소 별 코사인|\n",
    "|np.tan()|요소 별 탄젠트|\n",
    "|np.arcsin()|요소 별 아크 사인|\n",
    "|np.arccos()|요소 별 아크 코사인|\n",
    "|np.arctan()|요소 별 아크 탄젠트|\n",
    "|np.arctan2()|요소 별 아크 탄젠트|\n",
    "|np.hsin()|요소 별 하이퍼볼릭 사인|\n",
    "|np.hcos()|요소 별 하이퍼볼릭 코사인|\n",
    "|np.htan()|요소 별 하이퍼볼릭 탄젠트|\n",
    "|np.arcsinh()|요소 별 하이퍼볼릭 아크 사인|\n",
    "|np.arccosh()|요소 별 하이퍼볼릭 아크 코사인|\n",
    "|np.arctanh()|요소 별 하이퍼볼릭 아크 탄젠트|\n",
    "|np.deg2rad()|요소 별 각도에서 라디안 변환|\n",
    "|np.rad2deg()|요소 별 라디안에서 각도 변환|\n",
    "|np.hypot()|요소 별 유클리드 거리 계산|"
   ]
  },
  {
   "cell_type": "code",
   "execution_count": 13,
   "id": "a69a701f",
   "metadata": {},
   "outputs": [],
   "source": [
    "arr = np.array([[1, 2, 3],\n",
    "                [4, 5, 6]])"
   ]
  },
  {
   "cell_type": "code",
   "execution_count": 14,
   "id": "d0ffbb37",
   "metadata": {},
   "outputs": [
    {
     "name": "stdout",
     "output_type": "stream",
     "text": [
      "[[ 0.84147098  0.90929743  0.14112001]\n",
      " [-0.7568025  -0.95892427 -0.2794155 ]]\n"
     ]
    }
   ],
   "source": [
    "print(np.sin(arr))"
   ]
  },
  {
   "cell_type": "code",
   "execution_count": 15,
   "id": "28633e2d",
   "metadata": {},
   "outputs": [
    {
     "name": "stdout",
     "output_type": "stream",
     "text": [
      "[[ 0.54030231 -0.41614684 -0.9899925 ]\n",
      " [-0.65364362  0.28366219  0.96017029]]\n"
     ]
    }
   ],
   "source": [
    "print(np.cos(arr))"
   ]
  },
  {
   "cell_type": "code",
   "execution_count": 16,
   "id": "d775adc4",
   "metadata": {},
   "outputs": [
    {
     "name": "stdout",
     "output_type": "stream",
     "text": [
      "[[ 1.55740772 -2.18503986 -0.14254654]\n",
      " [ 1.15782128 -3.38051501 -0.29100619]]\n"
     ]
    }
   ],
   "source": [
    "print(np.tan(arr))"
   ]
  },
  {
   "cell_type": "markdown",
   "id": "728a3e37",
   "metadata": {},
   "source": [
    "## 🗂️ 집계 함수(Aggregate Functions)\n",
    "\n",
    "|함수|NaN 안전 모드|설명|\n",
    "|:--:|:-----------:|:--:|\n",
    "|np.sum()|np.nansum()|요소의 합|\n",
    "|np.cumsum()|np.nancumsum()|요소의 누적 합|\n",
    "|np.prod()|np.nanprod()|요소의 곱|\n",
    "|np.cumprod()|np.nancumprod()|요소의 누적 곱|\n",
    "|np.diff()||요소의 차분|\n",
    "|np.dot()||점 곱(dot product)|\n",
    "|np.matmul()||행렬 곱(matrix product)|\n",
    "|np.tensordot()||텐서 곱(tensor product)|\n",
    "|np.cross()||벡터 곱(cross product)|\n",
    "|np.inner()||내적(inner product)|\n",
    "|np.outer()||외적(outer product)|\n",
    "|np.mean()|np.nanmean()|요소의 평균|\n",
    "|np.std()|np.nanstd()|표준 편차|\n",
    "|np.var()|np.nanvar()|분산|\n",
    "|np.min()|np.nanmin()|최소 값|\n",
    "|np.max()|np.nanmax()|최대 값|\n",
    "|np.argmin()|np.nanargmin()|최소 값 인덱스|\n",
    "|np.argmax()|np.nanargmax()|최대 값 인덱스|\n",
    "|np.median()|np.nanmedian()|중앙 값|\n",
    "|np.percentile()|np.nanpercentile()|요소의 순위 기반 백분위 수 계산|\n",
    "|np.any||요소 중 참이 있는지 평가|\n",
    "|np.all()||모든 요소가 참인지 평가|"
   ]
  },
  {
   "cell_type": "markdown",
   "id": "06475583",
   "metadata": {},
   "source": [
    "- ```sum()```"
   ]
  },
  {
   "cell_type": "code",
   "execution_count": 17,
   "id": "c2abc89f",
   "metadata": {},
   "outputs": [
    {
     "name": "stdout",
     "output_type": "stream",
     "text": [
      "[[1 3 4]\n",
      " [6 5 6]\n",
      " [6 1 8]]\n",
      "40\n",
      "40\n",
      "[13  9 18]\n",
      "[ 8 17 15]\n"
     ]
    }
   ],
   "source": [
    "arr = np.random.randint(1, 10, (3, 3))\n",
    "print(arr)\n",
    "print(arr.sum())\n",
    "print(np.sum(arr))\n",
    "print(arr.sum(axis = 0))\n",
    "print(np.sum(arr, axis = 1))"
   ]
  },
  {
   "cell_type": "markdown",
   "id": "32db8b10",
   "metadata": {},
   "source": [
    "- ```cumsum()```"
   ]
  },
  {
   "cell_type": "code",
   "execution_count": 18,
   "id": "67035cd0",
   "metadata": {},
   "outputs": [
    {
     "name": "stdout",
     "output_type": "stream",
     "text": [
      "[[5 6 4]\n",
      " [2 6 3]\n",
      " [4 3 6]]\n",
      "[ 5 11 15 17 23 26 30 33 39]\n",
      "[ 5 11 15 17 23 26 30 33 39]\n",
      "[[ 5  6  4]\n",
      " [ 7 12  7]\n",
      " [11 15 13]]\n",
      "[[ 5 11 15]\n",
      " [ 2  8 11]\n",
      " [ 4  7 13]]\n"
     ]
    }
   ],
   "source": [
    "arr = np.random.randint(1, 10, (3, 3))\n",
    "print(arr)\n",
    "print(arr.cumsum())\n",
    "print(np.cumsum(arr))\n",
    "print(arr.cumsum(axis = 0))\n",
    "print(np.cumsum(arr, axis = 1))"
   ]
  },
  {
   "cell_type": "markdown",
   "id": "47b6d015",
   "metadata": {},
   "source": [
    "- ```prod()```"
   ]
  },
  {
   "cell_type": "code",
   "execution_count": 19,
   "id": "42cc5029",
   "metadata": {
    "scrolled": true
   },
   "outputs": [
    {
     "name": "stdout",
     "output_type": "stream",
     "text": [
      "[[8 2 7]\n",
      " [7 4 8]\n",
      " [5 9 4]]\n",
      "4515840\n",
      "4515840\n",
      "[280  72 224]\n",
      "[112 224 180]\n"
     ]
    }
   ],
   "source": [
    "arr = np.random.randint(1, 10, (3, 3))\n",
    "print(arr)\n",
    "print(arr.prod())\n",
    "print(np.prod(arr))\n",
    "print(arr.prod(axis = 0))\n",
    "print(np.prod(arr, axis = 1))"
   ]
  },
  {
   "cell_type": "markdown",
   "id": "db6f791c",
   "metadata": {},
   "source": [
    "- ```cumprod()```"
   ]
  },
  {
   "cell_type": "code",
   "execution_count": 20,
   "id": "7f75aaff",
   "metadata": {},
   "outputs": [
    {
     "name": "stdout",
     "output_type": "stream",
     "text": [
      "[[1 5 5]\n",
      " [3 3 1]\n",
      " [1 9 7]]\n",
      "[    1     5    25    75   225   225   225  2025 14175]\n",
      "[    1     5    25    75   225   225   225  2025 14175]\n",
      "[[  1   5   5]\n",
      " [  3  15   5]\n",
      " [  3 135  35]]\n",
      "[[ 1  5 25]\n",
      " [ 3  9  9]\n",
      " [ 1  9 63]]\n"
     ]
    }
   ],
   "source": [
    "arr = np.random.randint(1, 10, (3, 3))\n",
    "print(arr)\n",
    "print(arr.cumprod())\n",
    "print(np.cumprod(arr))\n",
    "print(arr.cumprod(axis = 0))\n",
    "print(np.cumprod(arr, axis = 1))"
   ]
  },
  {
   "cell_type": "markdown",
   "id": "847b386b",
   "metadata": {},
   "source": [
    "- ```diff()```"
   ]
  },
  {
   "cell_type": "code",
   "execution_count": 21,
   "id": "7a8f3456",
   "metadata": {},
   "outputs": [
    {
     "name": "stdout",
     "output_type": "stream",
     "text": [
      "[[2 3 2]\n",
      " [7 1 1]\n",
      " [8 7 6]]\n",
      "[[ 1 -1]\n",
      " [-6  0]\n",
      " [-1 -1]]\n",
      "[[ 5 -2 -1]\n",
      " [ 1  6  5]]\n",
      "[[ 1 -1]\n",
      " [-6  0]\n",
      " [-1 -1]]\n"
     ]
    }
   ],
   "source": [
    "arr = np.random.randint(1, 10, (3, 3))\n",
    "print(arr)\n",
    "print(np.diff(arr))\n",
    "print(np.diff(arr, axis = 0))\n",
    "print(np.diff(arr, axis = 1))"
   ]
  },
  {
   "cell_type": "markdown",
   "id": "2d3c7928",
   "metadata": {},
   "source": [
    "- ```dot()```\n",
    "\n",
    "1. 1D(Vector) x 1D(Vector) : 벡터 내적"
   ]
  },
  {
   "cell_type": "code",
   "execution_count": 22,
   "id": "e000f94b",
   "metadata": {},
   "outputs": [
    {
     "name": "stdout",
     "output_type": "stream",
     "text": [
      "32\n"
     ]
    }
   ],
   "source": [
    "arr1 = np.array([1, 2, 3])\n",
    "arr2 = np.array([4, 5, 6])\n",
    "print(np.dot(arr1, arr2)) # 1 * 4 + 2 * 5 + 3 * 6"
   ]
  },
  {
   "cell_type": "markdown",
   "id": "8ae9a375",
   "metadata": {},
   "source": [
    "2. 2D(Matrix) x 2D(Matrix) : 행렬 곱 (```matmul()``` 사용을 추천)"
   ]
  },
  {
   "cell_type": "code",
   "execution_count": 23,
   "id": "7d6675ca",
   "metadata": {},
   "outputs": [
    {
     "name": "stdout",
     "output_type": "stream",
     "text": [
      "[[19 22]\n",
      " [43 50]]\n"
     ]
    }
   ],
   "source": [
    "arr1 = np.array([[1, 2],\n",
    "                 [3, 4]])\n",
    "arr2 = np.array(([5, 6],\n",
    "                 [7, 8]))\n",
    "print(np.dot(arr1, arr2)) # [1 * 5 + 2 * 7 / 1 * 6 + 2 * 8]\n",
    "                          # [3 * 5 + 4 * 7 / 3 * 6 + 4 * 8]"
   ]
  },
  {
   "cell_type": "markdown",
   "id": "95118f97",
   "metadata": {},
   "source": [
    "3. ND x 1D(Vector) 또는 1D(Vector) x ND : 다차원 내적\n",
    "    - 왼쪽이 ND인 경우 각 행마다 오른쪽의 벡터와 내적을 수행\n",
    "    - 오른쪽이 ND인 경우 각 열마다 왼쪽의 벡터와 내적을 수행"
   ]
  },
  {
   "cell_type": "code",
   "execution_count": 24,
   "id": "a98eff1e",
   "metadata": {},
   "outputs": [
    {
     "name": "stdout",
     "output_type": "stream",
     "text": [
      "[17 39]\n",
      "[23 34]\n"
     ]
    }
   ],
   "source": [
    "arr1 = np.array([[1, 2],\n",
    "                 [3, 4]])\n",
    "arr2 = np.array([5, 6])\n",
    "print(np.dot(arr1, arr2)) # [1 * 5 + 2 * 6 / 3 * 5 + 4 * 6]\n",
    "print(np.dot(arr2, arr1)) # [5 * 1 + 6 * 3 / 5 * 2 + 6 * 4]"
   ]
  },
  {
   "attachments": {
    "image.png": {
     "image/png": "[encoded data removed]"
    }
   },
   "cell_type": "markdown",
   "id": "6df2345b",
   "metadata": {},
   "source": [
    "4. ND x MD : 다차원 행렬 곱\n",
    "    - 왼쪽 ND의 마지막 axis와 MD의 마지막에서 두 번째 axis의 곱 수행\n",
    "\n",
    "![image.png](attachment:image.png)"
   ]
  },
  {
   "cell_type": "code",
   "execution_count": 25,
   "id": "521be1a1",
   "metadata": {
    "scrolled": true
   },
   "outputs": [
    {
     "name": "stdout",
     "output_type": "stream",
     "text": [
      "[[[19 22]\n",
      "  [31 34]]\n",
      "\n",
      " [[43 50]\n",
      "  [71 78]]]\n",
      "\n",
      "[[[23 34]\n",
      "  [31 46]]\n",
      "\n",
      " [[39 58]\n",
      "  [47 70]]]\n"
     ]
    }
   ],
   "source": [
    "arr1 = np.array([[1, 2],\n",
    "                 [3, 4]])\n",
    "arr2 = np.array([[[5, 6],\n",
    "                  [7, 8]],\n",
    "                 [[9, 10],\n",
    "                  [11, 12]]])\n",
    "\n",
    "print(np.dot(arr1, arr2)) # [[[1 * 5 + 2 * 7 / 1 * 6 + 2 * 8]\n",
    "                          #   [1 * 9 + 2 * 11 / 1 * 10 + 2 * 12]]\n",
    "\n",
    "                          # [[[3 * 5 + 4 * 7 / 3 * 6 + 4 * 8]]\n",
    "                          #   [3 * 7 + 4 * 9 / 3 * 10 + 4 * 12]]]\n",
    "\n",
    "print()            \n",
    "\n",
    "print(np.dot(arr2, arr1)) # [[[5 * 1 + 6 * 3 / 5 * 2 + 6 * 4]\n",
    "                          #  [[7 * 1 + 8 * 3 / 7 * 2 + 8 * 4]\n",
    "\n",
    "                          #  [[9 * 1 + 10 * 3 / 9 * 2 + 10 * 4]]\n",
    "                          #   [11 * 1 + 12 * 3 / 11 * 2 + 12 * 4]]]"
   ]
  },
  {
   "cell_type": "markdown",
   "id": "fabdec4f",
   "metadata": {},
   "source": [
    "5. ```dot()``` 연산의 수행 조건\n",
    "    - 왼쪽 ND의 마지막 axis와 오른쪽 배열의 마지막에서 두번째 axis의 크기가 서로 같아야 함"
   ]
  },
  {
   "cell_type": "code",
   "execution_count": 26,
   "id": "77b97d53",
   "metadata": {},
   "outputs": [
    {
     "name": "stdout",
     "output_type": "stream",
     "text": [
      "[[[ 0  1  2  3]\n",
      "  [ 4  5  6  7]\n",
      "  [ 8  9 10 11]]\n",
      "\n",
      " [[12 13 14 15]\n",
      "  [16 17 18 19]\n",
      "  [20 21 22 23]]]\n",
      "[[[ 0  1  2]\n",
      "  [ 3  4  5]\n",
      "  [ 6  7  8]\n",
      "  [ 9 10 11]]\n",
      "\n",
      " [[12 13 14]\n",
      "  [15 16 17]\n",
      "  [18 19 20]\n",
      "  [21 22 23]]]\n",
      "[[[[  42   48   54]\n",
      "   [ 114  120  126]]\n",
      "\n",
      "  [[ 114  136  158]\n",
      "   [ 378  400  422]]\n",
      "\n",
      "  [[ 186  224  262]\n",
      "   [ 642  680  718]]]\n",
      "\n",
      "\n",
      " [[[ 258  312  366]\n",
      "   [ 906  960 1014]]\n",
      "\n",
      "  [[ 330  400  470]\n",
      "   [1170 1240 1310]]\n",
      "\n",
      "  [[ 402  488  574]\n",
      "   [1434 1520 1606]]]]\n",
      "[[[[  28   34]\n",
      "   [  76   82]\n",
      "   [ 124  130]]\n",
      "\n",
      "  [[  76   98]\n",
      "   [ 252  274]\n",
      "   [ 428  450]]\n",
      "\n",
      "  [[ 124  162]\n",
      "   [ 428  466]\n",
      "   [ 732  770]]]\n",
      "\n",
      "\n",
      " [[[ 172  226]\n",
      "   [ 604  658]\n",
      "   [1036 1090]]\n",
      "\n",
      "  [[ 220  290]\n",
      "   [ 780  850]\n",
      "   [1340 1410]]\n",
      "\n",
      "  [[ 268  354]\n",
      "   [ 956 1042]\n",
      "   [1644 1730]]]]\n"
     ]
    }
   ],
   "source": [
    "arr1 = np.arange(2 * 3 * 4).reshape((2, 3, 4))\n",
    "\n",
    "arr2 = np.arange(2 * 3 * 4).reshape((2, 3, 4))\n",
    "arr3 = np.arange(2 * 3 * 4).reshape((2, 4, 3))\n",
    "arr4 = np.arange(2 * 3 * 4).reshape((3, 2, 4))\n",
    "arr5 = np.arange(2 * 3 * 4).reshape((3, 4, 2))\n",
    "arr6 = np.arange(2 * 3 * 4).reshape((4, 2, 3))\n",
    "arr7 = np.arange(2 * 3 * 4).reshape((4, 3, 2))\n",
    "\n",
    "print(arr1)\n",
    "print(arr3)\n",
    "\n",
    "# np.dot(arr1, arr2) # ERROR\n",
    "print(np.dot(arr1, arr3)) # OK -> (2, 3, 2, 3)\n",
    "# np.dot(arr1, arr4) # ERROR\n",
    "print(np.dot(arr1, arr5)) # OK -> (2, 3, 3, 2)\n",
    "# np.dot(arr1, arr6) # ERROR\n",
    "# np.dot(arr1, arr7) # ERROR"
   ]
  },
  {
   "cell_type": "markdown",
   "id": "0f5ba870",
   "metadata": {},
   "source": [
    "- ```matmul()```\n",
    "1. 1D(Vector) x 1D(Vector) : 벡터 내적"
   ]
  },
  {
   "cell_type": "code",
   "execution_count": 27,
   "id": "0e27f254",
   "metadata": {},
   "outputs": [
    {
     "name": "stdout",
     "output_type": "stream",
     "text": [
      "32\n"
     ]
    }
   ],
   "source": [
    "arr1 = np.array([1, 2, 3])\n",
    "arr2 = np.array([4, 5, 6])\n",
    "print(np.matmul(arr1, arr2)) # 1 * 4 + 2 * 5 + 3 * 6"
   ]
  },
  {
   "cell_type": "markdown",
   "id": "9c47d8f9",
   "metadata": {},
   "source": [
    "2. 2D(Matrix) x 2D(Matrix) : 행렬 곱"
   ]
  },
  {
   "cell_type": "code",
   "execution_count": 28,
   "id": "f16feceb",
   "metadata": {},
   "outputs": [
    {
     "name": "stdout",
     "output_type": "stream",
     "text": [
      "[[19 22]\n",
      " [43 50]]\n"
     ]
    }
   ],
   "source": [
    "arr1 = np.array([[1, 2],\n",
    "                 [3, 4]])\n",
    "arr2 = np.array(([5, 6],\n",
    "                 [7, 8]))\n",
    "print(np.matmul(arr1, arr2)) # [1 * 5 + 2 * 7 / 1 * 6 + 2 * 8]\n",
    "                             # [3 * 5 + 4 * 7 / 3 * 6 + 4 * 8]"
   ]
  },
  {
   "cell_type": "markdown",
   "id": "f3d95858",
   "metadata": {},
   "source": [
    "3. ND x 1D(Vector) 또는 1D(Vector) x ND : 다차원 내적\n",
    "    - 왼쪽이 ND인 경우 각 행마다 오른쪽의 벡터와 내적을 수행\n",
    "    - 오른쪽이 ND인 경우 각 열마다 왼쪽의 벡터와 내적을 수행"
   ]
  },
  {
   "cell_type": "code",
   "execution_count": 29,
   "id": "5b25356e",
   "metadata": {},
   "outputs": [
    {
     "name": "stdout",
     "output_type": "stream",
     "text": [
      "[17 39]\n",
      "[23 34]\n"
     ]
    }
   ],
   "source": [
    "arr1 = np.array([[1, 2],\n",
    "                 [3, 4]])\n",
    "arr2 = np.array([5, 6])\n",
    "print(np.matmul(arr1, arr2)) # [1 * 5 + 2 * 6 / 3 * 5 + 4 * 6]\n",
    "print(np.matmul(arr2, arr1)) # [5 * 1 + 6 * 3 / 5 * 2 + 6 * 4]"
   ]
  },
  {
   "attachments": {
    "image.png": {
     "image/png": "[encoded data removed]"
    }
   },
   "cell_type": "markdown",
   "id": "ca9c9fb0",
   "metadata": {},
   "source": [
    "4. ND x MD : 다차원 행렬 곱\n",
    "    - 왼쪽 ND의 마지막에서 두 번째 axis와 MD의 마지막에서 두 번째 axis의 곱 수행\n",
    "\n",
    "![image.png](attachment:image.png)"
   ]
  },
  {
   "cell_type": "code",
   "execution_count": 30,
   "id": "68ab564f",
   "metadata": {},
   "outputs": [
    {
     "name": "stdout",
     "output_type": "stream",
     "text": [
      "[[[19 22]\n",
      "  [43 50]]\n",
      "\n",
      " [[31 34]\n",
      "  [71 78]]]\n",
      "[[[23 34]\n",
      "  [31 46]]\n",
      "\n",
      " [[39 58]\n",
      "  [47 70]]]\n"
     ]
    }
   ],
   "source": [
    "arr1 = np.array([[1, 2],\n",
    "                 [3, 4]])\n",
    "arr2 = np.array([[[5, 6],\n",
    "                  [7, 8]],\n",
    "                 [[9, 10],\n",
    "                  [11, 12]]])\n",
    "\n",
    "print(np.matmul(arr1, arr2)) # [[[1 * 5 + 2 * 7 / 1 * 6 + 2 * 8]\n",
    "                             #   [1 * 9 + 2 * 11 / 1 * 10 + 2 * 12]]\n",
    "\n",
    "                             # [[[3 * 5 + 4 * 7 / 3 * 6 + 4 * 8]]\n",
    "                             #   [3 * 7 + 4 * 9 / 3 * 10 + 4 * 12]]]      \n",
    "\n",
    "print(np.matmul(arr2, arr1)) # [[[5 * 1 + 6 * 3 / 5 * 2 + 6 * 4]\n",
    "                             #  [[7 * 1 + 8 * 3 / 7 * 2 + 8 * 4]\n",
    "\n",
    "                             #  [[9 * 1 + 10 * 3 / 9 * 2 + 10 * 4]]\n",
    "                             #   [11 * 1 + 12 * 3 / 11 * 2 + 12 * 4]]]"
   ]
  },
  {
   "cell_type": "markdown",
   "id": "83eb76fe",
   "metadata": {},
   "source": [
    "5. matmul() 연산의 수행 조건\n",
    "    - 왼쪽 ND의 첫번째 axis와 오른쪽 배열의 첫번째 axis가 같아야 함\n",
    "    - 왼쪽 ND의 마지막 axis와 오른쪽 배열의 마지막에서 두번째 axis의 크기가 서로 같아야 함"
   ]
  },
  {
   "cell_type": "code",
   "execution_count": 31,
   "id": "0567f9d5",
   "metadata": {
    "scrolled": true
   },
   "outputs": [
    {
     "name": "stdout",
     "output_type": "stream",
     "text": [
      "[[[  42   48   54]\n",
      "  [ 114  136  158]\n",
      "  [ 186  224  262]]\n",
      "\n",
      " [[ 906  960 1014]\n",
      "  [1170 1240 1310]\n",
      "  [1434 1520 1606]]]\n"
     ]
    }
   ],
   "source": [
    "arr1 = np.arange(2 * 3 * 4).reshape((2, 3, 4))\n",
    "\n",
    "arr2 = np.arange(2 * 3 * 4).reshape((2, 3, 4))\n",
    "arr3 = np.arange(2 * 3 * 4).reshape((2, 4, 3))\n",
    "arr4 = np.arange(2 * 3 * 4).reshape((3, 2, 4))\n",
    "arr5 = np.arange(2 * 3 * 4).reshape((3, 4, 2))\n",
    "arr6 = np.arange(2 * 3 * 4).reshape((4, 2, 3))\n",
    "arr7 = np.arange(2 * 3 * 4).reshape((4, 3, 2))\n",
    "\n",
    "# np.matmul(arr1, arr2) # ERROR\n",
    "print(np.matmul(arr1, arr3)) # OK -> (2, 3, 3)\n",
    "# np.matmul(arr1, arr4) # ERROR\n",
    "# np.matmul(arr1, arr5) # ERROR\n",
    "# np.matmul(arr1, arr6) # ERROR\n",
    "# np.matmul(arr1, arr7) # ERROR"
   ]
  },
  {
   "cell_type": "markdown",
   "id": "d8dfd583",
   "metadata": {},
   "source": [
    "- ```tensordot()```\n",
    "    - ```axes = 0``` : 텐서 곱\n",
    "    - ```axes = 1``` : 텐서 내적\n",
    "    - ```axes = 2``` : 텐서 이중 수축 (디폴트 값)"
   ]
  },
  {
   "cell_type": "code",
   "execution_count": 32,
   "id": "5c1d6931",
   "metadata": {
    "scrolled": false
   },
   "outputs": [
    {
     "name": "stdout",
     "output_type": "stream",
     "text": [
      "[[1 2 3]\n",
      " [4 5 6]\n",
      " [7 8 9]]\n",
      "[[10 11 12]\n",
      " [13 14 15]\n",
      " [16 17 18]]\n",
      "690\n",
      "[[[[ 10  11  12]\n",
      "   [ 13  14  15]\n",
      "   [ 16  17  18]]\n",
      "\n",
      "  [[ 20  22  24]\n",
      "   [ 26  28  30]\n",
      "   [ 32  34  36]]\n",
      "\n",
      "  [[ 30  33  36]\n",
      "   [ 39  42  45]\n",
      "   [ 48  51  54]]]\n",
      "\n",
      "\n",
      " [[[ 40  44  48]\n",
      "   [ 52  56  60]\n",
      "   [ 64  68  72]]\n",
      "\n",
      "  [[ 50  55  60]\n",
      "   [ 65  70  75]\n",
      "   [ 80  85  90]]\n",
      "\n",
      "  [[ 60  66  72]\n",
      "   [ 78  84  90]\n",
      "   [ 96 102 108]]]\n",
      "\n",
      "\n",
      " [[[ 70  77  84]\n",
      "   [ 91  98 105]\n",
      "   [112 119 126]]\n",
      "\n",
      "  [[ 80  88  96]\n",
      "   [104 112 120]\n",
      "   [128 136 144]]\n",
      "\n",
      "  [[ 90  99 108]\n",
      "   [117 126 135]\n",
      "   [144 153 162]]]]\n",
      "[[ 84  90  96]\n",
      " [201 216 231]\n",
      " [318 342 366]]\n"
     ]
    }
   ],
   "source": [
    "arr1 = np.arange(1, 10).reshape(3, 3)\n",
    "arr2 = np.arange(10, 19).reshape(3, 3)\n",
    "print(arr1)\n",
    "print(arr2)\n",
    "print(np.tensordot(arr1, arr2))\n",
    "print(np.tensordot(arr1, arr2, axes = 0))\n",
    "print(np.tensordot(arr1, arr2, axes = 1))"
   ]
  },
  {
   "cell_type": "markdown",
   "id": "f5535406",
   "metadata": {},
   "source": [
    "- ```cross()```"
   ]
  },
  {
   "cell_type": "code",
   "execution_count": 33,
   "id": "40e3422c",
   "metadata": {},
   "outputs": [
    {
     "name": "stdout",
     "output_type": "stream",
     "text": [
      "-2\n"
     ]
    }
   ],
   "source": [
    "arr1 = np.array([1, 2])\n",
    "arr2 = np.array([3, 4])\n",
    "print(np.cross(arr1, arr2)) # 1 * 4 - 2 * 3"
   ]
  },
  {
   "cell_type": "code",
   "execution_count": 34,
   "id": "c8879335",
   "metadata": {},
   "outputs": [
    {
     "name": "stdout",
     "output_type": "stream",
     "text": [
      "[10 -5 -2]\n"
     ]
    }
   ],
   "source": [
    "arr1 = np.array([1, 2])\n",
    "arr2 = np.array([3, 4, 5])\n",
    "print(np.cross(arr1, arr2)) # [2 * 5 - 4 * 0 / 0 * 3 - 1 * 5 / 1 * 4 - 2 * 3]"
   ]
  },
  {
   "cell_type": "code",
   "execution_count": 35,
   "id": "3701239f",
   "metadata": {},
   "outputs": [
    {
     "name": "stdout",
     "output_type": "stream",
     "text": [
      "[-3  6 -3]\n"
     ]
    }
   ],
   "source": [
    "arr1 = np.array([1, 2, 3])\n",
    "arr2 = np.array([4, 5, 6])\n",
    "print(np.cross(arr1, arr2)) # [2 * 6 - 3 * 5 / 3 * 4 - 1 * 6 / 1 * 5 - 2 * 4]"
   ]
  },
  {
   "cell_type": "markdown",
   "id": "de8f0df6",
   "metadata": {},
   "source": [
    "- ```inner() · outer()```"
   ]
  },
  {
   "cell_type": "code",
   "execution_count": 36,
   "id": "bf64bff4",
   "metadata": {},
   "outputs": [
    {
     "name": "stdout",
     "output_type": "stream",
     "text": [
      "[[1 2 3]\n",
      " [4 5 6]\n",
      " [7 8 9]]\n",
      "[[10 11 12]\n",
      " [13 14 15]\n",
      " [16 17 18]]\n",
      "[[ 68  86 104]\n",
      " [167 212 257]\n",
      " [266 338 410]]\n",
      "[[ 10  11  12  13  14  15  16  17  18]\n",
      " [ 20  22  24  26  28  30  32  34  36]\n",
      " [ 30  33  36  39  42  45  48  51  54]\n",
      " [ 40  44  48  52  56  60  64  68  72]\n",
      " [ 50  55  60  65  70  75  80  85  90]\n",
      " [ 60  66  72  78  84  90  96 102 108]\n",
      " [ 70  77  84  91  98 105 112 119 126]\n",
      " [ 80  88  96 104 112 120 128 136 144]\n",
      " [ 90  99 108 117 126 135 144 153 162]]\n"
     ]
    }
   ],
   "source": [
    "arr1 = np.arange(1, 10).reshape(3, 3)\n",
    "arr2 = np.arange(10, 19).reshape(3, 3)\n",
    "print(arr1)\n",
    "print(arr2)\n",
    "print(np.inner(arr1, arr2))\n",
    "print(np.outer(arr1, arr2))"
   ]
  },
  {
   "cell_type": "markdown",
   "id": "fdd44cff",
   "metadata": {},
   "source": [
    "- ```mean()```"
   ]
  },
  {
   "cell_type": "code",
   "execution_count": 37,
   "id": "34cdd061",
   "metadata": {
    "scrolled": true
   },
   "outputs": [
    {
     "name": "stdout",
     "output_type": "stream",
     "text": [
      "[[8 2 9]\n",
      " [8 2 1]\n",
      " [4 8 5]]\n",
      "5.222222222222222\n",
      "5.222222222222222\n",
      "[6.66666667 4.         5.        ]\n",
      "[6.33333333 3.66666667 5.66666667]\n"
     ]
    }
   ],
   "source": [
    "arr = np.random.randint(1, 10, (3, 3))\n",
    "print(arr)\n",
    "print(arr.mean())\n",
    "print(np.mean(arr))\n",
    "print(arr.mean(axis = 0))\n",
    "print(np.mean(arr, axis = 1))"
   ]
  },
  {
   "cell_type": "markdown",
   "id": "1cfadff5",
   "metadata": {},
   "source": [
    "- ```std()```"
   ]
  },
  {
   "cell_type": "code",
   "execution_count": 38,
   "id": "aeff1ebd",
   "metadata": {},
   "outputs": [
    {
     "name": "stdout",
     "output_type": "stream",
     "text": [
      "[[5 3 1]\n",
      " [8 9 8]\n",
      " [9 3 8]]\n",
      "2.8674417556808756\n",
      "2.8674417556808756\n",
      "[1.69967317 2.82842712 3.29983165]\n",
      "[1.63299316 0.47140452 2.62466929]\n"
     ]
    }
   ],
   "source": [
    "arr = np.random.randint(1, 10, (3, 3))\n",
    "print(arr)\n",
    "print(arr.std())\n",
    "print(np.std(arr))\n",
    "print(arr.std(axis = 0))\n",
    "print(np.std(arr, axis = 1))"
   ]
  },
  {
   "cell_type": "markdown",
   "id": "2bf599f5",
   "metadata": {},
   "source": [
    "- ```var()```"
   ]
  },
  {
   "cell_type": "code",
   "execution_count": 39,
   "id": "5cad1930",
   "metadata": {},
   "outputs": [
    {
     "name": "stdout",
     "output_type": "stream",
     "text": [
      "[[5 2 2]\n",
      " [4 9 2]\n",
      " [4 6 1]]\n",
      "5.65432098765432\n",
      "5.65432098765432\n",
      "[0.22222222 8.22222222 0.22222222]\n",
      "[2.         8.66666667 4.22222222]\n"
     ]
    }
   ],
   "source": [
    "arr = np.random.randint(1, 10, (3, 3))\n",
    "print(arr)\n",
    "print(arr.var())\n",
    "print(np.var(arr))\n",
    "print(arr.var(axis = 0))\n",
    "print(np.var(arr, axis = 1))"
   ]
  },
  {
   "cell_type": "markdown",
   "id": "373a8c9e",
   "metadata": {},
   "source": [
    "- ```min()```"
   ]
  },
  {
   "cell_type": "code",
   "execution_count": 40,
   "id": "e3993f38",
   "metadata": {},
   "outputs": [
    {
     "name": "stdout",
     "output_type": "stream",
     "text": [
      "[[2 1 8]\n",
      " [2 6 5]\n",
      " [5 2 6]]\n",
      "1\n",
      "1\n",
      "[2 1 5]\n",
      "[1 2 2]\n"
     ]
    }
   ],
   "source": [
    "arr = np.random.randint(1, 10, (3, 3))\n",
    "print(arr)\n",
    "print(arr.min())\n",
    "print(np.min(arr))\n",
    "print(arr.min(axis = 0))\n",
    "print(np.min(arr, axis = 1))"
   ]
  },
  {
   "cell_type": "markdown",
   "id": "0eeebb8b",
   "metadata": {},
   "source": [
    "- ```max()```"
   ]
  },
  {
   "cell_type": "code",
   "execution_count": 41,
   "id": "fcc75082",
   "metadata": {
    "scrolled": true
   },
   "outputs": [
    {
     "name": "stdout",
     "output_type": "stream",
     "text": [
      "[[4 5 2]\n",
      " [4 8 6]\n",
      " [4 1 8]]\n",
      "8\n",
      "8\n",
      "[4 8 8]\n",
      "[2 4 1]\n"
     ]
    }
   ],
   "source": [
    "arr = np.random.randint(1, 10, (3, 3))\n",
    "print(arr)\n",
    "print(arr.max())\n",
    "print(np.max(arr))\n",
    "print(arr.max(axis = 0))\n",
    "print(np.min(arr, axis = 1))"
   ]
  },
  {
   "cell_type": "markdown",
   "id": "9fb7ec55",
   "metadata": {},
   "source": [
    "- ```argmin()```"
   ]
  },
  {
   "cell_type": "code",
   "execution_count": 42,
   "id": "86ca9875",
   "metadata": {},
   "outputs": [
    {
     "name": "stdout",
     "output_type": "stream",
     "text": [
      "[[4 9 7]\n",
      " [7 9 9]\n",
      " [2 1 3]]\n",
      "7\n",
      "7\n",
      "[2 2 2]\n",
      "[0 0 1]\n"
     ]
    }
   ],
   "source": [
    "arr = np.random.randint(1, 10, (3, 3))\n",
    "print(arr)\n",
    "print(arr.argmin())\n",
    "print(np.argmin(arr))\n",
    "print(arr.argmin(axis = 0))\n",
    "print(np.argmin(arr, axis = 1))"
   ]
  },
  {
   "cell_type": "markdown",
   "id": "7856a7ec",
   "metadata": {},
   "source": [
    "- ```argmax()```"
   ]
  },
  {
   "cell_type": "code",
   "execution_count": 43,
   "id": "e4736fcd",
   "metadata": {},
   "outputs": [
    {
     "name": "stdout",
     "output_type": "stream",
     "text": [
      "[[8 1 6]\n",
      " [3 1 5]\n",
      " [8 9 6]]\n",
      "7\n",
      "7\n",
      "[0 2 0]\n",
      "[0 2 1]\n"
     ]
    }
   ],
   "source": [
    "arr = np.random.randint(1, 10, (3, 3))\n",
    "print(arr)\n",
    "print(arr.argmax())\n",
    "print(np.argmax(arr))\n",
    "print(arr.argmax(axis = 0))\n",
    "print(np.argmax(arr, axis = 1))"
   ]
  },
  {
   "cell_type": "markdown",
   "id": "78a25419",
   "metadata": {},
   "source": [
    "- ```median()```"
   ]
  },
  {
   "cell_type": "code",
   "execution_count": 44,
   "id": "42c79f08",
   "metadata": {},
   "outputs": [
    {
     "name": "stdout",
     "output_type": "stream",
     "text": [
      "[[3 3 7]\n",
      " [8 7 7]\n",
      " [8 2 7]]\n",
      "7.0\n",
      "[8. 3. 7.]\n",
      "[3. 7. 7.]\n"
     ]
    }
   ],
   "source": [
    "arr = np.random.randint(1, 10, (3, 3))\n",
    "print(arr)\n",
    "print(np.median(arr))\n",
    "print(np.median(arr, axis = 0))\n",
    "print(np.median(arr, axis = 1))"
   ]
  },
  {
   "attachments": {
    "image.png": {
     "image/png": "[encoded data removed]"
    }
   },
   "cell_type": "markdown",
   "id": "ac058210",
   "metadata": {},
   "source": [
    "- ```percentile()```\n",
    "![image.png](attachment:image.png)"
   ]
  },
  {
   "cell_type": "code",
   "execution_count": 45,
   "id": "ca9bb5e6",
   "metadata": {},
   "outputs": [
    {
     "name": "stdout",
     "output_type": "stream",
     "text": [
      "[0 1 2 3]\n",
      "[0.  0.6 1.2 1.8 2.4 3. ]\n",
      "[0 1 2 2 3 3]\n",
      "[0 0 1 1 2 3]\n",
      "[0 1 1 2 2 3]\n",
      "[0.  0.5 1.5 1.5 2.5 3. ]\n"
     ]
    }
   ],
   "source": [
    "arr = np.array([0, 1, 2, 3])\n",
    "print(arr)\n",
    "print(np.percentile(arr, [0, 20, 40, 60, 80, 100], interpolation='linear'))\n",
    "print(np.percentile(arr, [0, 20, 40, 60, 80, 100], interpolation='higher'))\n",
    "print(np.percentile(arr, [0, 20, 40, 60, 80, 100], interpolation='lower'))\n",
    "print(np.percentile(arr, [0, 20, 40, 60, 80, 100], interpolation='nearest'))\n",
    "print(np.percentile(arr, [0, 20, 40, 60, 80, 100], interpolation='midpoint'))"
   ]
  },
  {
   "cell_type": "markdown",
   "id": "0253f0d9",
   "metadata": {},
   "source": [
    "- ```any()```"
   ]
  },
  {
   "cell_type": "code",
   "execution_count": 46,
   "id": "2106df07",
   "metadata": {},
   "outputs": [
    {
     "name": "stdout",
     "output_type": "stream",
     "text": [
      "[[False False False]\n",
      " [False  True  True]\n",
      " [ True  True  True]]\n",
      "True\n",
      "True\n",
      "[ True  True  True]\n",
      "[False  True  True]\n"
     ]
    }
   ],
   "source": [
    "arr = np.array([[False, False, False],\n",
    "                [False, True, True],\n",
    "                [True, True, True]])\n",
    "print(arr)\n",
    "print(arr.any())\n",
    "print(np.any(arr))\n",
    "print(arr.any(axis = 0))\n",
    "print(np.any(arr, axis = 1))"
   ]
  },
  {
   "cell_type": "markdown",
   "id": "3e5304f2",
   "metadata": {},
   "source": [
    "- ```all()```"
   ]
  },
  {
   "cell_type": "code",
   "execution_count": 47,
   "id": "a1ea5888",
   "metadata": {},
   "outputs": [
    {
     "name": "stdout",
     "output_type": "stream",
     "text": [
      "[[False False False]\n",
      " [False  True  True]\n",
      " [ True  True  True]]\n",
      "False\n",
      "False\n",
      "[False False False]\n",
      "[False False  True]\n"
     ]
    }
   ],
   "source": [
    "arr = np.array([[False, False, False],\n",
    "                [False, True, True],\n",
    "                [True, True, True]])\n",
    "print(arr)\n",
    "print(arr.all())\n",
    "print(np.all(arr))\n",
    "print(arr.all(axis = 0))\n",
    "print(np.all(arr, axis = 1))"
   ]
  },
  {
   "attachments": {
    "image.png": {
     "image/png": "[encoded data removed]"
    }
   },
   "cell_type": "markdown",
   "id": "584ee37a",
   "metadata": {},
   "source": [
    "## 🗂️ 비교 연산(Comparison Operators)\n",
    "\n",
    "|함수|연산자|설명|\n",
    "|:--:|:----:|:--:|\n",
    "|np.equal|==|요소별 == 연산|\n",
    "|np.not_equal|!=|요소별 != 연산|\n",
    "|np.less|<|요소별 < 연산|\n",
    "|np.less_equal|<=|요소별 <= 연산|\n",
    "|np.greater|>|요소별 > 연산|\n",
    "|np.greater_equal|>=|요소별 >= 연산|\n",
    "\n",
    "## 🗂️ 논리 연산(Logical Operators)\n",
    "\n",
    "|함수|설명|\n",
    "|:--:|:--:|\n",
    "|np.logical_and()|요소별 Boolean 자료형 논리 AND 연산|\n",
    "|np.logical_or()|요소별 Boolean 자료형 논리 OR 연산|\n",
    "|np.logical_xor()|요소별 Boolean 자료형 논리 XOR 연산|\n",
    "|np.logical_not()|요소별 Boolean 자료형 논리 NOT 연산|\n",
    "\n",
    "## 🗂️ 비트 연산(Binary Operators)\n",
    "\n",
    "|함수|연산자|설명|\n",
    "|:--:|:----:|:--:|\n",
    "|np.bitwise_and|&|요소별 AND 연산|\n",
    "|np.bitwise_or|\\||요소별 OR 연산|\n",
    "|np.bitwise_xor|^|요소별 XOR 연산|\n",
    "|np.invert()|~|요소별 NOT 연산|\n",
    "|np.left_shift|<<|요소별 LEFT SHIFT 연산|\n",
    "|np.right_shift|>>|요소별 RIGHT SHIFT 연산|\n",
    "\n",
    "## 🗂️ 상수(Constant)\n",
    "\n",
    "|상수|설명|\n",
    "|:--:|:--:|\n",
    "|e|e|\n",
    "|pi|𝝿|\n",
    "|tau|τ|\n",
    "|inf|∞|\n",
    "|PZERO|양의 0.0|\n",
    "|NZERO|음의 0.0|\n",
    "|nan|Not a Number|\n",
    "|euler_gamma|오일러 감마|\n",
    "\n",
    "## 🗂️ 브로드캐스팅(Broadcasting)\n",
    "![image.png](attachment:image.png)"
   ]
  },
  {
   "cell_type": "code",
   "execution_count": 48,
   "id": "29f9b6d6",
   "metadata": {},
   "outputs": [
    {
     "name": "stdout",
     "output_type": "stream",
     "text": [
      "[[5 6 7]\n",
      " [6 7 8]\n",
      " [7 8 9]]\n"
     ]
    }
   ],
   "source": [
    "arr1 = np.array([[0, 0, 0],\n",
    "                 [1, 1, 1],\n",
    "                 [2, 2, 2]])\n",
    "arr2 = np.array([5, 6, 7])\n",
    "\n",
    "print(arr1 + arr2)"
   ]
  },
  {
   "cell_type": "code",
   "execution_count": 49,
   "id": "6314264a",
   "metadata": {},
   "outputs": [
    {
     "name": "stdout",
     "output_type": "stream",
     "text": [
      "[[1 1 1]\n",
      " [2 2 2]\n",
      " [3 3 3]]\n"
     ]
    }
   ],
   "source": [
    "arr1 = np.array([1, 1, 1])\n",
    "arr2 = np.array([[0],\n",
    "                 [1],\n",
    "                 [2]])\n",
    "\n",
    "print(arr1 + arr2)"
   ]
  },
  {
   "cell_type": "markdown",
   "id": "9e387809",
   "metadata": {},
   "source": [
    "## 🗂️ 벡터화 연산의 장점\n",
    "- Numpy는 Element-wise 방식(요소별 연산)으로 연산을 수행하기 때문에 속도가 매우 빠름"
   ]
  },
  {
   "cell_type": "code",
   "execution_count": 50,
   "id": "cb0806b4",
   "metadata": {},
   "outputs": [],
   "source": [
    "import time"
   ]
  },
  {
   "cell_type": "code",
   "execution_count": 51,
   "id": "0e1dfc9f",
   "metadata": {},
   "outputs": [
    {
     "name": "stderr",
     "output_type": "stream",
     "text": [
      "C:\\Users\\Han\\AppData\\Local\\Temp\\ipykernel_8636\\1811936510.py:8: RuntimeWarning: overflow encountered in long_scalars\n",
      "  sum += i\n"
     ]
    },
    {
     "name": "stdout",
     "output_type": "stream",
     "text": [
      "36.99588060379028 초\n"
     ]
    }
   ],
   "source": [
    "# 일반 연산\n",
    "arr = np.arange(99999999)\n",
    "\n",
    "sum = 0\n",
    "before = time.time()\n",
    "\n",
    "for i in arr:\n",
    "    sum += i\n",
    "    \n",
    "after = time.time()\n",
    "\n",
    "print(after - before, \"초\")"
   ]
  },
  {
   "cell_type": "code",
   "execution_count": 52,
   "id": "ca91fcb5",
   "metadata": {},
   "outputs": [
    {
     "name": "stdout",
     "output_type": "stream",
     "text": [
      "0.07800745964050293 초\n"
     ]
    }
   ],
   "source": [
    "# 벡터 연산\n",
    "arr = np.arange(99999999)\n",
    "\n",
    "sum = 0\n",
    "before = time.time()\n",
    "\n",
    "sum = np.sum(arr)\n",
    "\n",
    "after = time.time()\n",
    "\n",
    "print(after - before, \"초\")"
   ]
  },
  {
   "cell_type": "code",
   "execution_count": 53,
   "id": "5d142625",
   "metadata": {},
   "outputs": [
    {
     "name": "stderr",
     "output_type": "stream",
     "text": [
      "C:\\Users\\Han\\AppData\\Local\\Temp\\ipykernel_8636\\2512390490.py:9: RuntimeWarning: overflow encountered in long_scalars\n",
      "  sum += i * j\n"
     ]
    },
    {
     "name": "stdout",
     "output_type": "stream",
     "text": [
      "240.21181654930115 초\n"
     ]
    }
   ],
   "source": [
    "# 일반 연산\n",
    "arr1 = np.arange(99999999)\n",
    "arr2 = np.arange(99999999)\n",
    "\n",
    "sum = 0\n",
    "before = time.time()\n",
    "\n",
    "for i, j in zip(arr1, arr2):\n",
    "    sum += i * j\n",
    "\n",
    "after = time.time()\n",
    "print(after - before, \"초\")"
   ]
  },
  {
   "cell_type": "code",
   "execution_count": 54,
   "id": "26530317",
   "metadata": {},
   "outputs": [
    {
     "name": "stdout",
     "output_type": "stream",
     "text": [
      "0.09099388122558594 초\n"
     ]
    }
   ],
   "source": [
    "arr1 = np.arange(99999999)\n",
    "arr2 = np.arange(99999999)\n",
    "\n",
    "sum = 0\n",
    "before = time.time()\n",
    "\n",
    "sum = np.dot(arr1, arr2)\n",
    "\n",
    "after = time.time()\n",
    "\n",
    "print(after - before, \"초\")"
   ]
  }
 ],
 "metadata": {
  "kernelspec": {
   "display_name": "Python 3 (ipykernel)",
   "language": "python",
   "name": "python3"
  },
  "language_info": {
   "codemirror_mode": {
    "name": "ipython",
    "version": 3
   },
   "file_extension": ".py",
   "mimetype": "text/x-python",
   "name": "python",
   "nbconvert_exporter": "python",
   "pygments_lexer": "ipython3",
   "version": "3.9.12"
  }
 },
 "nbformat": 4,
 "nbformat_minor": 5
}
