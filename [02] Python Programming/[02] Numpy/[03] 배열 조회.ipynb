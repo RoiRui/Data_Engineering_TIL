{
 "cells": [
  {
   "cell_type": "markdown",
   "id": "09fd996b",
   "metadata": {},
   "source": [
    "## 🗂️ 배열 속성 정보"
   ]
  },
  {
   "cell_type": "code",
   "execution_count": 1,
   "id": "470181de",
   "metadata": {},
   "outputs": [],
   "source": [
    "import numpy as np"
   ]
  },
  {
   "cell_type": "code",
   "execution_count": 2,
   "id": "14248349",
   "metadata": {},
   "outputs": [
    {
     "name": "stdout",
     "output_type": "stream",
     "text": [
      "[1 2 3]\n"
     ]
    }
   ],
   "source": [
    "arr1 = np.array([1, 2, 3])\n",
    "print(arr1)"
   ]
  },
  {
   "cell_type": "code",
   "execution_count": 3,
   "id": "c2971213",
   "metadata": {},
   "outputs": [
    {
     "name": "stdout",
     "output_type": "stream",
     "text": [
      "[[1 2 3]\n",
      " [4 5 6]\n",
      " [7 8 9]]\n"
     ]
    }
   ],
   "source": [
    "arr2 = np.array([[1, 2, 3],\n",
    "                 [4, 5, 6],\n",
    "                 [7, 8, 9]])\n",
    "print(arr2)"
   ]
  },
  {
   "cell_type": "code",
   "execution_count": 4,
   "id": "93d0ff22",
   "metadata": {
    "scrolled": true
   },
   "outputs": [
    {
     "name": "stdout",
     "output_type": "stream",
     "text": [
      "[[[ 1  2  3]\n",
      "  [ 4  5  6]\n",
      "  [ 7  8  9]]\n",
      "\n",
      " [[10 11 12]\n",
      "  [13 14 15]\n",
      "  [16 17 18]]\n",
      "\n",
      " [[19 20 21]\n",
      "  [22 23 24]\n",
      "  [25 26 27]]]\n"
     ]
    }
   ],
   "source": [
    "arr3 = np.array([[[1, 2, 3],\n",
    "                  [4, 5, 6],\n",
    "                  [7, 8, 9]],\n",
    "                 [[10, 11, 12],\n",
    "                  [13, 14, 15],\n",
    "                  [16, 17, 18]],\n",
    "                 [[19, 20, 21],\n",
    "                  [22, 23, 24],\n",
    "                  [25, 26, 27]]])\n",
    "print(arr3)"
   ]
  },
  {
   "cell_type": "code",
   "execution_count": 5,
   "id": "d7dafd50",
   "metadata": {},
   "outputs": [],
   "source": [
    "def ndarray_info(arr):\n",
    "    print(\"ndim : \", arr.ndim)\n",
    "    print(\"shape : \", arr.shape)\n",
    "    print(\"dtype : \", arr.dtype)\n",
    "    print(\"size : \", arr.size)\n",
    "    print(\"itemsize : \", arr.itemsize)\n",
    "    print(\"nbytes : \", arr.nbytes)\n",
    "    print(\"strides : \", arr.strides)"
   ]
  },
  {
   "cell_type": "code",
   "execution_count": 6,
   "id": "d0f5de80",
   "metadata": {},
   "outputs": [
    {
     "name": "stdout",
     "output_type": "stream",
     "text": [
      "ndim :  1\n",
      "shape :  (3,)\n",
      "dtype :  int32\n",
      "size :  3\n",
      "itemsize :  4\n",
      "nbytes :  12\n",
      "strides :  (4,)\n"
     ]
    }
   ],
   "source": [
    "ndarray_info(arr1)"
   ]
  },
  {
   "cell_type": "code",
   "execution_count": 7,
   "id": "930020dd",
   "metadata": {},
   "outputs": [
    {
     "name": "stdout",
     "output_type": "stream",
     "text": [
      "ndim :  2\n",
      "shape :  (3, 3)\n",
      "dtype :  int32\n",
      "size :  9\n",
      "itemsize :  4\n",
      "nbytes :  36\n",
      "strides :  (12, 4)\n"
     ]
    }
   ],
   "source": [
    "ndarray_info(arr2)"
   ]
  },
  {
   "cell_type": "code",
   "execution_count": 8,
   "id": "b0865a0c",
   "metadata": {},
   "outputs": [
    {
     "name": "stdout",
     "output_type": "stream",
     "text": [
      "ndim :  3\n",
      "shape :  (3, 3, 3)\n",
      "dtype :  int32\n",
      "size :  27\n",
      "itemsize :  4\n",
      "nbytes :  108\n",
      "strides :  (36, 12, 4)\n"
     ]
    }
   ],
   "source": [
    "ndarray_info(arr3)"
   ]
  },
  {
   "cell_type": "markdown",
   "id": "c33b19aa",
   "metadata": {},
   "source": [
    "## 🗂️ 배열 조회\n",
    "\n",
    "#### 📌 인덱싱(Indexing)"
   ]
  },
  {
   "cell_type": "code",
   "execution_count": 9,
   "id": "b320e37b",
   "metadata": {},
   "outputs": [
    {
     "name": "stdout",
     "output_type": "stream",
     "text": [
      "[1 2 3]\n"
     ]
    }
   ],
   "source": [
    "print(arr1)"
   ]
  },
  {
   "cell_type": "code",
   "execution_count": 10,
   "id": "04a114e5",
   "metadata": {},
   "outputs": [
    {
     "name": "stdout",
     "output_type": "stream",
     "text": [
      "1\n",
      "3\n",
      "3\n"
     ]
    }
   ],
   "source": [
    "print(arr1[0])\n",
    "print(arr1[2])\n",
    "print(arr1[-1])"
   ]
  },
  {
   "cell_type": "code",
   "execution_count": 11,
   "id": "c77806b5",
   "metadata": {},
   "outputs": [
    {
     "name": "stdout",
     "output_type": "stream",
     "text": [
      "[[1 2 3]\n",
      " [4 5 6]\n",
      " [7 8 9]]\n"
     ]
    }
   ],
   "source": [
    "print(arr2)"
   ]
  },
  {
   "cell_type": "code",
   "execution_count": 12,
   "id": "c9368375",
   "metadata": {},
   "outputs": [
    {
     "name": "stdout",
     "output_type": "stream",
     "text": [
      "[1 2 3]\n",
      "5\n",
      "9\n"
     ]
    }
   ],
   "source": [
    "print(arr2[0])\n",
    "print(arr2[1][1])\n",
    "print(arr2[2, 2])"
   ]
  },
  {
   "cell_type": "markdown",
   "id": "40851754",
   "metadata": {},
   "source": [
    "#### 📌 슬라이싱(Slicing)"
   ]
  },
  {
   "cell_type": "code",
   "execution_count": 13,
   "id": "741a9cd9",
   "metadata": {},
   "outputs": [
    {
     "name": "stdout",
     "output_type": "stream",
     "text": [
      "[1 2 3]\n"
     ]
    }
   ],
   "source": [
    "print(arr1)"
   ]
  },
  {
   "cell_type": "code",
   "execution_count": 14,
   "id": "4a33306d",
   "metadata": {},
   "outputs": [
    {
     "name": "stdout",
     "output_type": "stream",
     "text": [
      "[1 2]\n",
      "[1 2 3]\n",
      "[1]\n",
      "[3 2 1]\n"
     ]
    }
   ],
   "source": [
    "print(arr1[0:2])\n",
    "print(arr1[0:])\n",
    "print(arr1[:1])\n",
    "print(arr1[::-1])"
   ]
  },
  {
   "cell_type": "code",
   "execution_count": 15,
   "id": "6a7bc8e5",
   "metadata": {},
   "outputs": [
    {
     "name": "stdout",
     "output_type": "stream",
     "text": [
      "[[1 2 3]\n",
      " [4 5 6]\n",
      " [7 8 9]]\n"
     ]
    }
   ],
   "source": [
    "print(arr2)"
   ]
  },
  {
   "cell_type": "code",
   "execution_count": 16,
   "id": "361d6228",
   "metadata": {},
   "outputs": [
    {
     "name": "stdout",
     "output_type": "stream",
     "text": [
      "[4 5 6]\n",
      "[4 5 6]\n",
      "[[1 2]\n",
      " [4 5]]\n",
      "[[6 5 4]\n",
      " [9 8 7]]\n",
      "[[9 8 7]\n",
      " [6 5 4]\n",
      " [3 2 1]]\n"
     ]
    }
   ],
   "source": [
    "print(arr2[1])\n",
    "print(arr2[1][:])\n",
    "print(arr2[:2, :2])\n",
    "print(arr2[1:, ::-1])\n",
    "print(arr2[::-1, ::-1])"
   ]
  },
  {
   "cell_type": "markdown",
   "id": "51a66ef5",
   "metadata": {},
   "source": [
    "#### 📌 불리언 인덱싱(Boolean Indexing)\n",
    "- 배열 각 요소의 선택 여부를 불리언(True or False)로 지정\n",
    "- True 값인 인덱스의 값만 조회"
   ]
  },
  {
   "cell_type": "code",
   "execution_count": 17,
   "id": "66623672",
   "metadata": {},
   "outputs": [
    {
     "name": "stdout",
     "output_type": "stream",
     "text": [
      "[1 2 3]\n"
     ]
    }
   ],
   "source": [
    "print(arr1)"
   ]
  },
  {
   "cell_type": "code",
   "execution_count": 18,
   "id": "4a752e8f",
   "metadata": {},
   "outputs": [
    {
     "name": "stdout",
     "output_type": "stream",
     "text": [
      "[2 3]\n"
     ]
    }
   ],
   "source": [
    "bi = [False, True, True]\n",
    "print(arr1[bi])"
   ]
  },
  {
   "cell_type": "code",
   "execution_count": 19,
   "id": "abb7f194",
   "metadata": {},
   "outputs": [
    {
     "name": "stdout",
     "output_type": "stream",
     "text": [
      "[[1 2 3]\n",
      " [4 5 6]\n",
      " [7 8 9]]\n"
     ]
    }
   ],
   "source": [
    "print(arr2)"
   ]
  },
  {
   "cell_type": "code",
   "execution_count": 20,
   "id": "9ca4aada",
   "metadata": {},
   "outputs": [
    {
     "name": "stdout",
     "output_type": "stream",
     "text": [
      "[[False  True  True]\n",
      " [False  True  True]\n",
      " [ True  True  True]]\n",
      "[2 3 5 6 7 8 9]\n"
     ]
    }
   ],
   "source": [
    "bi = np.random.randint(0, 2, (3, 3), dtype = bool)\n",
    "print(bi)\n",
    "print(arr2[bi])"
   ]
  },
  {
   "cell_type": "markdown",
   "id": "842822da",
   "metadata": {},
   "source": [
    "#### 📌 팬시 인덱싱(Fancy Indexing)"
   ]
  },
  {
   "cell_type": "code",
   "execution_count": 21,
   "id": "75ef72a6",
   "metadata": {},
   "outputs": [
    {
     "name": "stdout",
     "output_type": "stream",
     "text": [
      "[1 2 3]\n"
     ]
    }
   ],
   "source": [
    "print(arr1)"
   ]
  },
  {
   "cell_type": "code",
   "execution_count": 22,
   "id": "dc16fd70",
   "metadata": {},
   "outputs": [
    {
     "name": "stdout",
     "output_type": "stream",
     "text": [
      "[1 3]\n"
     ]
    }
   ],
   "source": [
    "fi = [0, 2]\n",
    "print(arr1[fi])"
   ]
  },
  {
   "cell_type": "code",
   "execution_count": 23,
   "id": "2eeb6b93",
   "metadata": {},
   "outputs": [
    {
     "name": "stdout",
     "output_type": "stream",
     "text": [
      "[[1 2]\n",
      " [3 1]]\n"
     ]
    }
   ],
   "source": [
    "fi = np.array([[0, 1],\n",
    "               [2, 0]])\n",
    "print(arr1[fi])"
   ]
  },
  {
   "cell_type": "code",
   "execution_count": 24,
   "id": "f0b8b29d",
   "metadata": {},
   "outputs": [
    {
     "name": "stdout",
     "output_type": "stream",
     "text": [
      "[[1 2 3]\n",
      " [4 5 6]\n",
      " [7 8 9]]\n"
     ]
    }
   ],
   "source": [
    "print(arr2)"
   ]
  },
  {
   "cell_type": "code",
   "execution_count": 29,
   "id": "1562d7ef",
   "metadata": {},
   "outputs": [
    {
     "name": "stdout",
     "output_type": "stream",
     "text": [
      "[[1 2 3]\n",
      " [4 5 6]\n",
      " [7 8 9]]\n",
      "\n",
      "[2 9]\n",
      "[[1 2 3]\n",
      " [7 8 9]]\n",
      "[[2 3]\n",
      " [5 6]\n",
      " [8 9]]\n",
      "[2 8]\n",
      "[8 9]\n",
      "[[2 3]\n",
      " [8 9]]\n",
      "[[5 6]\n",
      " [8 9]]\n"
     ]
    }
   ],
   "source": [
    "row = np.array([0, 2])\n",
    "col = np.array([1, 2])\n",
    "print(arr2[row, col])\n",
    "print(arr2[row, :])\n",
    "print(arr2[:, col])\n",
    "print(arr2[row, 1])\n",
    "print(arr2[2, col])\n",
    "print(arr2[row, 1:])\n",
    "print(arr2[1:, col])"
   ]
  },
  {
   "cell_type": "markdown",
   "id": "31a3eb21",
   "metadata": {},
   "source": [
    "#### 📌 조건 연산자를 이용한 인덱싱"
   ]
  },
  {
   "cell_type": "code",
   "execution_count": 26,
   "id": "a980fbca",
   "metadata": {},
   "outputs": [
    {
     "name": "stdout",
     "output_type": "stream",
     "text": [
      "[3]\n"
     ]
    }
   ],
   "source": [
    "print(arr1[arr1 > 2])"
   ]
  },
  {
   "cell_type": "code",
   "execution_count": 27,
   "id": "5e4e724c",
   "metadata": {},
   "outputs": [
    {
     "name": "stdout",
     "output_type": "stream",
     "text": [
      "[3 4 5 6 7 8 9]\n"
     ]
    }
   ],
   "source": [
    "print(arr2[arr2 > 2])"
   ]
  }
 ],
 "metadata": {
  "kernelspec": {
   "display_name": "Python 3 (ipykernel)",
   "language": "python",
   "name": "python3"
  },
  "language_info": {
   "codemirror_mode": {
    "name": "ipython",
    "version": 3
   },
   "file_extension": ".py",
   "mimetype": "text/x-python",
   "name": "python",
   "nbconvert_exporter": "python",
   "pygments_lexer": "ipython3",
   "version": "3.9.12"
  }
 },
 "nbformat": 4,
 "nbformat_minor": 5
}
