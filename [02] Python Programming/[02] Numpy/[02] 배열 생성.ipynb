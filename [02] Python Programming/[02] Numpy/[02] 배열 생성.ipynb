{
 "cells": [
  {
   "cell_type": "markdown",
   "id": "4cd92add",
   "metadata": {},
   "source": [
    "## 🗂️ 배열 생성\n",
    "\n",
    "#### 📌 리스트를 이용해 배열 생성"
   ]
  },
  {
   "cell_type": "code",
   "execution_count": 1,
   "id": "8693f7ef",
   "metadata": {},
   "outputs": [],
   "source": [
    "import numpy as np"
   ]
  },
  {
   "cell_type": "code",
   "execution_count": 2,
   "id": "18731664",
   "metadata": {},
   "outputs": [
    {
     "name": "stdout",
     "output_type": "stream",
     "text": [
      "[1 2 3]\n"
     ]
    }
   ],
   "source": [
    "arr1 = np.array([1, 2, 3])\n",
    "print(arr1)"
   ]
  },
  {
   "cell_type": "code",
   "execution_count": 3,
   "id": "e6042a19",
   "metadata": {},
   "outputs": [
    {
     "name": "stdout",
     "output_type": "stream",
     "text": [
      "[[1 2 3]\n",
      " [4 5 6]\n",
      " [7 8 9]]\n"
     ]
    }
   ],
   "source": [
    "arr2 = np.array([[1, 2, 3],\n",
    "                 [4, 5, 6],\n",
    "                 [7, 8, 9]])\n",
    "print(arr2)"
   ]
  },
  {
   "cell_type": "code",
   "execution_count": 4,
   "id": "b92eec34",
   "metadata": {},
   "outputs": [
    {
     "name": "stdout",
     "output_type": "stream",
     "text": [
      "[[[ 1  2  3]\n",
      "  [ 4  5  6]\n",
      "  [ 7  8  9]]\n",
      "\n",
      " [[10 11 12]\n",
      "  [13 14 15]\n",
      "  [16 17 18]]\n",
      "\n",
      " [[19 20 21]\n",
      "  [22 23 24]\n",
      "  [25 26 27]]]\n"
     ]
    }
   ],
   "source": [
    "arr3 = np.array([[[1, 2, 3],\n",
    "                  [4, 5, 6],\n",
    "                  [7, 8, 9]],\n",
    "                 [[10, 11, 12],\n",
    "                  [13, 14, 15],\n",
    "                  [16, 17, 18]],\n",
    "                 [[19, 20, 21],\n",
    "                  [22, 23, 24],\n",
    "                  [25, 26, 27]]])\n",
    "print(arr3)"
   ]
  },
  {
   "cell_type": "markdown",
   "id": "7f9610b3",
   "metadata": {},
   "source": [
    "#### 📌 특별한 함수를 이용해 배열 생성\n",
    "- ```zeros()``` : 모든 요소를 0으로 초기화"
   ]
  },
  {
   "cell_type": "code",
   "execution_count": 5,
   "id": "3b02bfc0",
   "metadata": {},
   "outputs": [
    {
     "data": {
      "text/plain": [
       "array([0., 0., 0., 0., 0.])"
      ]
     },
     "execution_count": 5,
     "metadata": {},
     "output_type": "execute_result"
    }
   ],
   "source": [
    "np.zeros(5)"
   ]
  },
  {
   "cell_type": "code",
   "execution_count": 6,
   "id": "388bd453",
   "metadata": {},
   "outputs": [
    {
     "data": {
      "text/plain": [
       "array([[0., 0., 0.],\n",
       "       [0., 0., 0.],\n",
       "       [0., 0., 0.]])"
      ]
     },
     "execution_count": 6,
     "metadata": {},
     "output_type": "execute_result"
    }
   ],
   "source": [
    "np.zeros((3, 3))"
   ]
  },
  {
   "cell_type": "markdown",
   "id": "76fc4b59",
   "metadata": {},
   "source": [
    "- ```ones()``` : 모든 요소를 1로 초기화"
   ]
  },
  {
   "cell_type": "code",
   "execution_count": 7,
   "id": "7c3aec6b",
   "metadata": {},
   "outputs": [
    {
     "data": {
      "text/plain": [
       "array([1., 1., 1., 1., 1.])"
      ]
     },
     "execution_count": 7,
     "metadata": {},
     "output_type": "execute_result"
    }
   ],
   "source": [
    "np.ones(5)"
   ]
  },
  {
   "cell_type": "code",
   "execution_count": 8,
   "id": "ba23a6f1",
   "metadata": {},
   "outputs": [
    {
     "data": {
      "text/plain": [
       "array([[1., 1., 1.],\n",
       "       [1., 1., 1.],\n",
       "       [1., 1., 1.]])"
      ]
     },
     "execution_count": 8,
     "metadata": {},
     "output_type": "execute_result"
    }
   ],
   "source": [
    "np.ones((3, 3))"
   ]
  },
  {
   "cell_type": "markdown",
   "id": "e527683b",
   "metadata": {},
   "source": [
    "- ```full()``` : 모든 요소를 지정한 값으로 초기화"
   ]
  },
  {
   "cell_type": "code",
   "execution_count": 9,
   "id": "abdceeb3",
   "metadata": {},
   "outputs": [
    {
     "data": {
      "text/plain": [
       "array([8, 8, 8, 8, 8])"
      ]
     },
     "execution_count": 9,
     "metadata": {},
     "output_type": "execute_result"
    }
   ],
   "source": [
    "np.full(5, 8)"
   ]
  },
  {
   "cell_type": "code",
   "execution_count": 10,
   "id": "a9b538bf",
   "metadata": {},
   "outputs": [
    {
     "data": {
      "text/plain": [
       "array([[8, 8, 8],\n",
       "       [8, 8, 8],\n",
       "       [8, 8, 8]])"
      ]
     },
     "execution_count": 10,
     "metadata": {},
     "output_type": "execute_result"
    }
   ],
   "source": [
    "np.full((3, 3), 8)"
   ]
  },
  {
   "cell_type": "markdown",
   "id": "a697a544",
   "metadata": {},
   "source": [
    "- ```eye()``` : 단위 행렬(Identity Matrix) 생성"
   ]
  },
  {
   "cell_type": "code",
   "execution_count": 11,
   "id": "16aa9cb2",
   "metadata": {},
   "outputs": [
    {
     "data": {
      "text/plain": [
       "array([[1., 0., 0., 0., 0.],\n",
       "       [0., 1., 0., 0., 0.],\n",
       "       [0., 0., 1., 0., 0.],\n",
       "       [0., 0., 0., 1., 0.],\n",
       "       [0., 0., 0., 0., 1.]])"
      ]
     },
     "execution_count": 11,
     "metadata": {},
     "output_type": "execute_result"
    }
   ],
   "source": [
    "np.eye(5)"
   ]
  },
  {
   "cell_type": "markdown",
   "id": "0ba894a8",
   "metadata": {},
   "source": [
    "- ```tri()``` : 삼각 행렬 생성"
   ]
  },
  {
   "cell_type": "code",
   "execution_count": 12,
   "id": "85e4c383",
   "metadata": {},
   "outputs": [
    {
     "data": {
      "text/plain": [
       "array([[1., 0., 0., 0., 0.],\n",
       "       [1., 1., 0., 0., 0.],\n",
       "       [1., 1., 1., 0., 0.],\n",
       "       [1., 1., 1., 1., 0.],\n",
       "       [1., 1., 1., 1., 1.]])"
      ]
     },
     "execution_count": 12,
     "metadata": {},
     "output_type": "execute_result"
    }
   ],
   "source": [
    "np.tri(5)"
   ]
  },
  {
   "cell_type": "markdown",
   "id": "dd218718",
   "metadata": {},
   "source": [
    "- ```empty()``` : 초기화되지 않은 배열 생성\n",
    "    - 배열 생성 비용이 저렴하고 빠름\n",
    "    - 초기화되지 않았기 때문에 기존 메모리 위치에 존재하는 값이 있음"
   ]
  },
  {
   "cell_type": "code",
   "execution_count": 13,
   "id": "83ba72a1",
   "metadata": {},
   "outputs": [
    {
     "data": {
      "text/plain": [
       "array([1., 1., 1., 1., 1.])"
      ]
     },
     "execution_count": 13,
     "metadata": {},
     "output_type": "execute_result"
    }
   ],
   "source": [
    "np.empty(5)"
   ]
  },
  {
   "cell_type": "markdown",
   "id": "bdbdfdc2",
   "metadata": {},
   "source": [
    "- ```_like()``` : 지정한 배열과 shape가 동일한 배열 생성\n",
    "    - ```np.zeros_like()```\n",
    "    - ```np.ones_like()```\n",
    "    - ```np.full_like()```\n",
    "    - ```np.empty_like()```"
   ]
  },
  {
   "cell_type": "code",
   "execution_count": 14,
   "id": "e44a60fb",
   "metadata": {},
   "outputs": [
    {
     "name": "stdout",
     "output_type": "stream",
     "text": [
      "[1 2 3]\n"
     ]
    },
    {
     "data": {
      "text/plain": [
       "array([0, 0, 0])"
      ]
     },
     "execution_count": 14,
     "metadata": {},
     "output_type": "execute_result"
    }
   ],
   "source": [
    "print(arr1)\n",
    "np.zeros_like(arr1)"
   ]
  },
  {
   "cell_type": "code",
   "execution_count": 15,
   "id": "85dbf6ed",
   "metadata": {},
   "outputs": [
    {
     "name": "stdout",
     "output_type": "stream",
     "text": [
      "[1 2 3]\n"
     ]
    },
    {
     "data": {
      "text/plain": [
       "array([1, 1, 1])"
      ]
     },
     "execution_count": 15,
     "metadata": {},
     "output_type": "execute_result"
    }
   ],
   "source": [
    "print(arr1)\n",
    "np.ones_like(arr1)"
   ]
  },
  {
   "cell_type": "code",
   "execution_count": 16,
   "id": "69865d8e",
   "metadata": {},
   "outputs": [
    {
     "name": "stdout",
     "output_type": "stream",
     "text": [
      "[[1 2 3]\n",
      " [4 5 6]\n",
      " [7 8 9]]\n"
     ]
    },
    {
     "data": {
      "text/plain": [
       "array([[8, 8, 8],\n",
       "       [8, 8, 8],\n",
       "       [8, 8, 8]])"
      ]
     },
     "execution_count": 16,
     "metadata": {},
     "output_type": "execute_result"
    }
   ],
   "source": [
    "print(arr2)\n",
    "np.full_like(arr2, 8)"
   ]
  },
  {
   "cell_type": "code",
   "execution_count": 17,
   "id": "8964d0c0",
   "metadata": {},
   "outputs": [
    {
     "name": "stdout",
     "output_type": "stream",
     "text": [
      "[[[ 1  2  3]\n",
      "  [ 4  5  6]\n",
      "  [ 7  8  9]]\n",
      "\n",
      " [[10 11 12]\n",
      "  [13 14 15]\n",
      "  [16 17 18]]\n",
      "\n",
      " [[19 20 21]\n",
      "  [22 23 24]\n",
      "  [25 26 27]]]\n"
     ]
    },
    {
     "data": {
      "text/plain": [
       "array([[[0, 0, 0],\n",
       "        [0, 0, 0],\n",
       "        [0, 0, 0]],\n",
       "\n",
       "       [[0, 0, 0],\n",
       "        [0, 0, 0],\n",
       "        [0, 0, 0]],\n",
       "\n",
       "       [[0, 0, 0],\n",
       "        [0, 0, 0],\n",
       "        [0, 0, 0]]])"
      ]
     },
     "execution_count": 17,
     "metadata": {},
     "output_type": "execute_result"
    }
   ],
   "source": [
    "print(arr3)\n",
    "np.empty_like(arr3)"
   ]
  },
  {
   "cell_type": "markdown",
   "id": "3af40e24",
   "metadata": {},
   "source": [
    "#### 📌 범위를 지정해 배열 생성\n",
    "- ```arange()``` : 지정한 범위 내에서 지정한 간격에 따라 정수 또는 실수 배열 생성"
   ]
  },
  {
   "cell_type": "code",
   "execution_count": 18,
   "id": "b6ddcaa2",
   "metadata": {},
   "outputs": [
    {
     "data": {
      "text/plain": [
       "array([0, 2, 4, 6, 8])"
      ]
     },
     "execution_count": 18,
     "metadata": {},
     "output_type": "execute_result"
    }
   ],
   "source": [
    "np.arange(0, 10, 2)"
   ]
  },
  {
   "cell_type": "markdown",
   "id": "98eb7d5d",
   "metadata": {},
   "source": [
    "- ```linspace()``` : 지정한 범위 내에서 지정한 개수에 따른 균등 간격 배열 생성"
   ]
  },
  {
   "cell_type": "code",
   "execution_count": 19,
   "id": "0ffb5491",
   "metadata": {},
   "outputs": [
    {
     "data": {
      "text/plain": [
       "array([  0.,  10.,  20.,  30.,  40.,  50.,  60.,  70.,  80.,  90., 100.])"
      ]
     },
     "execution_count": 19,
     "metadata": {},
     "output_type": "execute_result"
    }
   ],
   "source": [
    "np.linspace(0, 100, 11)"
   ]
  },
  {
   "cell_type": "markdown",
   "id": "2e69d3b6",
   "metadata": {},
   "source": [
    "- ```logspace()``` : 지정한 범위 내에서 균등 간격 로그 스케일로 배열 생성"
   ]
  },
  {
   "cell_type": "code",
   "execution_count": 20,
   "id": "3cd4677d",
   "metadata": {},
   "outputs": [
    {
     "data": {
      "text/plain": [
       "array([   2.,    4.,    8.,   16.,   32.,   64.,  128.,  256.,  512.,\n",
       "       1024.])"
      ]
     },
     "execution_count": 20,
     "metadata": {},
     "output_type": "execute_result"
    }
   ],
   "source": [
    "np.logspace(1, 10, 10, base=2)"
   ]
  },
  {
   "cell_type": "markdown",
   "id": "fce47b3e",
   "metadata": {},
   "source": [
    "#### 📌 난수 배열 생성\n",
    "\n",
    "|함수|설명|\n",
    "|:--:|:--:|\n",
    "|seed()|난수 발생을 위한 시드 지정|\n",
    "|random()|0 ~ 1 구간에서의 난수 생성|\n",
    "|randint()|일정 구간의 랜덤 정수 생성|\n",
    "|randn()|평균 0, 표준편차 1의 표준정규분포 난수 생성|\n",
    "|normal()|사용자 지정 평균, 표준편차의 정규분포 난수 생성|\n",
    "|rand()|0 ~ 1 구간에서의 균등분포 난수 생성|\n",
    "|uniform()|사용자 지정 구간에서의 균등분포 난수 생성|\n",
    "|binomial()|이항분포 난수 생성|\n",
    "|beta()|베타분포에서 표본 추출|\n",
    "|chisquare()|카이제곱분포에서 표본 추출|\n",
    "|gamma()|감마분포에서 표본 추출|\n",
    "|shuffle()|리스트나 배열의 순서를 뒤섞음|\n",
    "|permutation()|순서를 임의로 바꾸거나 임의의 순열 반환|"
   ]
  },
  {
   "cell_type": "code",
   "execution_count": 21,
   "id": "d99f41e3",
   "metadata": {},
   "outputs": [],
   "source": [
    "import matplotlib.pyplot as plt"
   ]
  },
  {
   "cell_type": "markdown",
   "id": "458c108e",
   "metadata": {},
   "source": [
    "- ```random()``` : 0 ~ 1 구간에서의 난수 생성"
   ]
  },
  {
   "cell_type": "code",
   "execution_count": 22,
   "id": "7738a0b2",
   "metadata": {},
   "outputs": [
    {
     "data": {
      "text/plain": [
       "array([0.53240834, 0.07089534, 0.33878931, 0.63038056, 0.73845205])"
      ]
     },
     "execution_count": 22,
     "metadata": {},
     "output_type": "execute_result"
    }
   ],
   "source": [
    "np.random.random(5)"
   ]
  },
  {
   "cell_type": "markdown",
   "id": "c64822ee",
   "metadata": {},
   "source": [
    "- ```randint()``` : 일정 구간의 랜덤 정수 생성"
   ]
  },
  {
   "cell_type": "code",
   "execution_count": 23,
   "id": "bbbdbc2f",
   "metadata": {},
   "outputs": [
    {
     "data": {
      "text/plain": [
       "array([78, 93, 26, 18, 37])"
      ]
     },
     "execution_count": 23,
     "metadata": {},
     "output_type": "execute_result"
    }
   ],
   "source": [
    "np.random.randint(0, 100, 5)"
   ]
  },
  {
   "cell_type": "markdown",
   "id": "169f5c3e",
   "metadata": {},
   "source": [
    "- ```randn()``` : 평균 0, 표준편차 1의 표준정규분포 난수 생성"
   ]
  },
  {
   "cell_type": "code",
   "execution_count": 24,
   "id": "15a4f182",
   "metadata": {},
   "outputs": [
    {
     "name": "stdout",
     "output_type": "stream",
     "text": [
      "[-0.07843585 -0.32816971  0.8252876  ...  0.39596282  0.31157039\n",
      "  1.15030215]\n"
     ]
    },
    {
     "data": {
      "image/png": "[encoded data removed]",
      "text/plain": [
       "<Figure size 432x288 with 1 Axes>"
      ]
     },
     "metadata": {
      "needs_background": "light"
     },
     "output_type": "display_data"
    }
   ],
   "source": [
    "rnd = np.random.randn(10000)\n",
    "plt.hist(rnd)\n",
    "print(rnd)"
   ]
  },
  {
   "cell_type": "markdown",
   "id": "29a01ded",
   "metadata": {},
   "source": [
    "- ```normal()``` : 사용자 정의 평균, 표준편차의 정규분포 난수 생성"
   ]
  },
  {
   "cell_type": "code",
   "execution_count": 25,
   "id": "dd258edc",
   "metadata": {},
   "outputs": [
    {
     "name": "stdout",
     "output_type": "stream",
     "text": [
      "[ 6.72636535  5.41901931  4.72662065 ...  1.53755658 16.27058745\n",
      "  4.05788674]\n"
     ]
    },
    {
     "data": {
      "image/png": "[encoded data removed]",
      "text/plain": [
       "<Figure size 432x288 with 1 Axes>"
      ]
     },
     "metadata": {
      "needs_background": "light"
     },
     "output_type": "display_data"
    }
   ],
   "source": [
    "rnd = np.random.normal(10, 5, 10000)\n",
    "plt.hist(rnd)\n",
    "print(rnd)"
   ]
  },
  {
   "cell_type": "markdown",
   "id": "9e023ec3",
   "metadata": {},
   "source": [
    "- ```rand()``` : 0 ~ 1 구간에서의 균등분포 난수 생성"
   ]
  },
  {
   "cell_type": "code",
   "execution_count": 26,
   "id": "fafe2712",
   "metadata": {},
   "outputs": [
    {
     "name": "stdout",
     "output_type": "stream",
     "text": [
      "[0.29259771 0.31193917 0.29285198 ... 0.59749271 0.65705676 0.16634081]\n"
     ]
    },
    {
     "data": {
      "image/png": "[encoded data removed]",
      "text/plain": [
       "<Figure size 432x288 with 1 Axes>"
      ]
     },
     "metadata": {
      "needs_background": "light"
     },
     "output_type": "display_data"
    }
   ],
   "source": [
    "rnd = np.random.rand(10000)\n",
    "plt.hist(rnd)\n",
    "print(rnd)"
   ]
  },
  {
   "cell_type": "markdown",
   "id": "cb51956f",
   "metadata": {},
   "source": [
    "- ```uniform()``` : 사용자 지정 구간에서의 균등분포 난수 생성"
   ]
  },
  {
   "cell_type": "code",
   "execution_count": 27,
   "id": "6d48ed01",
   "metadata": {},
   "outputs": [
    {
     "name": "stdout",
     "output_type": "stream",
     "text": [
      "[4.75228066 7.04598881 8.65563957 ... 1.73594933 3.9774896  8.831014  ]\n"
     ]
    },
    {
     "data": {
      "image/png": "[encoded data removed]",
      "text/plain": [
       "<Figure size 432x288 with 1 Axes>"
      ]
     },
     "metadata": {
      "needs_background": "light"
     },
     "output_type": "display_data"
    }
   ],
   "source": [
    "rnd = np.random.uniform(0, 10, 10000)\n",
    "plt.hist(rnd)\n",
    "print(rnd)"
   ]
  },
  {
   "cell_type": "markdown",
   "id": "f6cdb486",
   "metadata": {},
   "source": [
    "- ```seed()``` : 난수 발생을 위한 시드 지정\n",
    "    - 난수는 특정 시작점으로부터 난수처럼 보이는 수열을 만드는 방식으로 동작\n",
    "    - 시드 값을 통해서 난수의 발생 지점을 고정시켜 난수 생성을 제어할 수 있음\n",
    "    - 시드 값 고정 시 1회만 유효하기 때문에 난수 발생 코드마다 지정해주어야 함"
   ]
  },
  {
   "cell_type": "code",
   "execution_count": 28,
   "id": "096eae3b",
   "metadata": {},
   "outputs": [
    {
     "name": "stdout",
     "output_type": "stream",
     "text": [
      "난수 발생 1 :  [0.30691687 0.26143525 0.93446436]\n",
      "난수 발생 2 :  [0.43522279 0.8376858  0.40326441]\n"
     ]
    }
   ],
   "source": [
    "a = np.random.rand(3)\n",
    "print(\"난수 발생 1 : \", a)\n",
    "\n",
    "a = np.random.rand(3)\n",
    "print(\"난수 발생 2 : \", a)"
   ]
  },
  {
   "cell_type": "code",
   "execution_count": 29,
   "id": "acbb8e5f",
   "metadata": {},
   "outputs": [
    {
     "name": "stdout",
     "output_type": "stream",
     "text": [
      "난수 발생 1 :  [4.17022005e-01 7.20324493e-01 1.14374817e-04]\n",
      "난수 발생 2 :  [4.17022005e-01 7.20324493e-01 1.14374817e-04]\n"
     ]
    }
   ],
   "source": [
    "np.random.seed(1)\n",
    "a = np.random.rand(3)\n",
    "print(\"난수 발생 1 : \", a)\n",
    "\n",
    "np.random.seed(1)\n",
    "a = np.random.rand(3)\n",
    "print(\"난수 발생 2 : \", a)"
   ]
  },
  {
   "cell_type": "markdown",
   "id": "db80389b",
   "metadata": {},
   "source": [
    "## 🗂️ 표준 데이터 타입\n",
    "\n",
    "|데이터 타입|설명|\n",
    "|:---------:|:--:|\n",
    "|bool_|바이트로 저장된 불리언(Boolean)으로 True 또는 False 값을 가짐|\n",
    "|int_|기본 정수(Integer) 타입|\n",
    "|intc|C 언어에서 사용되는 int와 동일|\n",
    "|intp|인덱싱에 사용되는 정수|\n",
    "|int8|정수 -128 ~ 127|\n",
    "|int16|정수 -32768 ~ 32767|\n",
    "|int32|정수 -2147483648 ~ 2147483647|\n",
    "|int64|정수 -9223372036854775808 ~ 9223372036854775807|\n",
    "|uint8|부호 없는 정수 0 ~ 255|\n",
    "|uint16|부호 없는 정수 0 ~ 65535|\n",
    "|uint32|부호 없는 정수 0 ~ 4294967295|\n",
    "|uint64|부호 없는 정수 0 ~ 18446744073709551615|\n",
    "|float16|반정밀 부동 소수점(Half Precision Float) : 부호 비트, 5비트 지수, 10비트 가수|\n",
    "|float32|단정밀 부동 소수점(Single Precision Float) : 부호 비트, 8비트 지수, 23비트 가수|\n",
    "|float64|배정밀 부동 소수점(Double Precision Float) : 부호 비트, 11비트 지수, 52비트 가수|\n",
    "|float_|float64를 줄여서 표현|\n",
    "|complex64|복소수, 두 개의 32비트 부동 소수점으로 표현|\n",
    "|complex128|복소수, 두 개의 64비트 부동 소수점으로 표현|\n",
    "|complex_|complex128을 줄여서 표현|\n",
    "\n",
    "#### 📌 dtype\n",
    "- 명시적으로 데이터의 타입을 지정하고 싶은 경우 ```dtype``` 파라미터를 사용해 지정"
   ]
  },
  {
   "cell_type": "code",
   "execution_count": 30,
   "id": "eba796c1",
   "metadata": {},
   "outputs": [
    {
     "name": "stdout",
     "output_type": "stream",
     "text": [
      "[1. 2. 3.]\n",
      "float64\n"
     ]
    }
   ],
   "source": [
    "arr = np.array([1, 2, 3], dtype = \"float\")\n",
    "print(arr)\n",
    "print(arr.dtype)"
   ]
  },
  {
   "cell_type": "code",
   "execution_count": 31,
   "id": "0f648b8e",
   "metadata": {},
   "outputs": [
    {
     "name": "stdout",
     "output_type": "stream",
     "text": [
      "[1 2 3]\n",
      "int32\n"
     ]
    }
   ],
   "source": [
    "arr = np.array([1.1, 2.2, 3.3], dtype = \"int\")\n",
    "print(arr)\n",
    "print(arr.dtype)"
   ]
  },
  {
   "cell_type": "code",
   "execution_count": 32,
   "id": "a4b10d36",
   "metadata": {},
   "outputs": [
    {
     "name": "stdout",
     "output_type": "stream",
     "text": [
      "[False  True  True]\n",
      "bool\n"
     ]
    }
   ],
   "source": [
    "arr = np.array([0, 1, 1], dtype = \"bool\")\n",
    "print(arr)\n",
    "print(arr.dtype)"
   ]
  },
  {
   "cell_type": "markdown",
   "id": "fc52e46e",
   "metadata": {},
   "source": [
    "#### 📌 astype()\n",
    "- 생성된 배열의 데이터 타입을 변경하고 싶다면 ```astype()``` 함수 사용"
   ]
  },
  {
   "cell_type": "code",
   "execution_count": 33,
   "id": "aaa44cd9",
   "metadata": {},
   "outputs": [
    {
     "name": "stdout",
     "output_type": "stream",
     "text": [
      "[0 1 1]\n",
      "int32\n"
     ]
    }
   ],
   "source": [
    "arr = arr.astype(\"int\")\n",
    "print(arr)\n",
    "print(arr.dtype)"
   ]
  }
 ],
 "metadata": {
  "kernelspec": {
   "display_name": "Python 3 (ipykernel)",
   "language": "python",
   "name": "python3"
  },
  "language_info": {
   "codemirror_mode": {
    "name": "ipython",
    "version": 3
   },
   "file_extension": ".py",
   "mimetype": "text/x-python",
   "name": "python",
   "nbconvert_exporter": "python",
   "pygments_lexer": "ipython3",
   "version": "3.9.12"
  }
 },
 "nbformat": 4,
 "nbformat_minor": 5
}
