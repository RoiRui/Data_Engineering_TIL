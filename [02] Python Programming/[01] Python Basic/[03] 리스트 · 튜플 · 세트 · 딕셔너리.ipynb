{
 "cells": [
  {
   "cell_type": "markdown",
   "id": "706d6d53",
   "metadata": {},
   "source": [
    "## 🗂️ 리스트(List)\n",
    "\n",
    "#### 📌 리스트 개념\n",
    "- 변경 가능한 시퀀스 자료형\n",
    "- 하나의 변수에 여러 값 할당 가능\n",
    "- 같은 자료형이 아니라 다른 자료형을 가지는 값들을 포함 가능\n",
    "- 일반적으로 비슷한 항목들의 모음을 순서대로 저장하는데 사용"
   ]
  },
  {
   "cell_type": "code",
   "execution_count": 1,
   "id": "45d6a697",
   "metadata": {},
   "outputs": [
    {
     "name": "stdout",
     "output_type": "stream",
     "text": [
      "[]\n",
      "[1, 2, 3]\n",
      "['One', 'Two', 'Three']\n",
      "[1, 'One', 2, 'Two', 3, 'Three']\n",
      "[1, 2, 3, ['One', 'Two', 'Three']]\n"
     ]
    }
   ],
   "source": [
    "print([])\n",
    "print([1, 2, 3])\n",
    "print(['One', 'Two', 'Three'])\n",
    "print([1, 'One', 2, 'Two', 3, 'Three'])\n",
    "print([1, 2, 3, ['One', 'Two', 'Three']])"
   ]
  },
  {
   "cell_type": "markdown",
   "id": "67aa4ce2",
   "metadata": {},
   "source": [
    "## 🗂️ 리스트 연산\n",
    "\n",
    "#### 📌 리스트 인덱싱(List Indexing)\n",
    "- 리스트의 각 위치에 해당하는 값에 접근하기 위해서 주소 개념의 숫자를 사용"
   ]
  },
  {
   "cell_type": "code",
   "execution_count": 2,
   "id": "837b0942",
   "metadata": {},
   "outputs": [
    {
     "name": "stdout",
     "output_type": "stream",
     "text": [
      "['One', 'Two', 'Three']\n",
      "One\n",
      "Two\n",
      "Three\n",
      "One\n",
      "Two\n",
      "Three\n"
     ]
    }
   ],
   "source": [
    "list = ['One', 'Two', 'Three']\n",
    "print(list)\n",
    "print(list[0])\n",
    "print(list[1])\n",
    "print(list[2])\n",
    "print(list[-3])\n",
    "print(list[-2])\n",
    "print(list[-1])"
   ]
  },
  {
   "cell_type": "code",
   "execution_count": 3,
   "id": "2b16134d",
   "metadata": {},
   "outputs": [
    {
     "name": "stdout",
     "output_type": "stream",
     "text": [
      "[1, 2, 3, ['One', 'Two', 'Three']]\n",
      "1\n",
      "2\n",
      "3\n",
      "['One', 'Two', 'Three']\n",
      "One\n",
      "Two\n",
      "Three\n"
     ]
    }
   ],
   "source": [
    "list = [1, 2, 3, ['One', 'Two', 'Three']]\n",
    "print(list)\n",
    "print(list[0])\n",
    "print(list[1])\n",
    "print(list[2])\n",
    "print(list[3])\n",
    "print(list[3][0])\n",
    "print(list[3][1])\n",
    "print(list[3][2])"
   ]
  },
  {
   "cell_type": "markdown",
   "id": "66823120",
   "metadata": {},
   "source": [
    "#### 📌 리스트 슬라이싱(List Slicing)\n",
    "- 리스트의 인덱스를 통해서 부분만 가져올 때 사용"
   ]
  },
  {
   "cell_type": "code",
   "execution_count": 4,
   "id": "93a51fb8",
   "metadata": {},
   "outputs": [
    {
     "name": "stdout",
     "output_type": "stream",
     "text": [
      "['One', 'Two', 'Three']\n",
      "['One', 'Two', 'Three']\n",
      "['Two']\n",
      "['Two']\n"
     ]
    }
   ],
   "source": [
    "list = ['One', 'Two', 'Three']\n",
    "print(list)\n",
    "print(list[0:])\n",
    "print(list[1:2])\n",
    "print(list[-2:-1])"
   ]
  },
  {
   "cell_type": "code",
   "execution_count": 5,
   "id": "dfcde067",
   "metadata": {},
   "outputs": [
    {
     "name": "stdout",
     "output_type": "stream",
     "text": [
      "[1, 2, 3, ['One', 'Two', 'Three']]\n",
      "[1, 2, 3, ['One', 'Two', 'Three']]\n",
      "[3, ['One', 'Two', 'Three']]\n",
      "['Three']\n",
      "['Three']\n"
     ]
    }
   ],
   "source": [
    "list = [1, 2, 3, ['One', 'Two', 'Three']]\n",
    "print(list)\n",
    "print(list[0:])\n",
    "print(list[2:4])\n",
    "print(list[3][2:3])\n",
    "print(list[3][-1:])"
   ]
  },
  {
   "cell_type": "markdown",
   "id": "f89bcb2f",
   "metadata": {},
   "source": [
    "#### 📌 리스트 연산자 · 함수(List Operators · Function)\n",
    "- ```+``` 연산자\n",
    "- ```*``` 연산자\n",
    "- ```len()``` 함수"
   ]
  },
  {
   "cell_type": "code",
   "execution_count": 6,
   "id": "e79fcb24",
   "metadata": {},
   "outputs": [
    {
     "name": "stdout",
     "output_type": "stream",
     "text": [
      "[1, 2, 3, 4, 5, 6]\n",
      "[1, 2, 3, 1, 2, 3, 1, 2, 3]\n",
      "3\n"
     ]
    }
   ],
   "source": [
    "list_1 = [1, 2, 3]\n",
    "list_2 = [4, 5, 6]\n",
    "print(list_1 + list_2)\n",
    "print(list_1 * 3)\n",
    "print(len(list_1))"
   ]
  },
  {
   "cell_type": "markdown",
   "id": "bde91e4e",
   "metadata": {},
   "source": [
    "#### 📌 리스트 수정(List Modify)\n",
    "- 리스트 인덱스를 이용한 값 수정"
   ]
  },
  {
   "cell_type": "code",
   "execution_count": 7,
   "id": "d51ca6be",
   "metadata": {},
   "outputs": [
    {
     "name": "stdout",
     "output_type": "stream",
     "text": [
      "['One', 'Two', 'Three']\n",
      "['One', 'Two', 3]\n"
     ]
    }
   ],
   "source": [
    "list = ['One', 'Two', 'Three']\n",
    "print(list)\n",
    "\n",
    "list[2] = 3\n",
    "print(list)"
   ]
  },
  {
   "cell_type": "markdown",
   "id": "2c075430",
   "metadata": {},
   "source": [
    "## 🗂️ 리스트 메소드(List Method)\n",
    "\n",
    "#### 📌 append()\n",
    "- 리스트 요소 추가"
   ]
  },
  {
   "cell_type": "code",
   "execution_count": 8,
   "id": "583718f4",
   "metadata": {},
   "outputs": [
    {
     "name": "stdout",
     "output_type": "stream",
     "text": [
      "['One', 'Two', 'Three', 'Four']\n",
      "['One', 'Two', 'Three', 'Four', [1, 2, 3, 4]]\n"
     ]
    }
   ],
   "source": [
    "list = ['One', 'Two', 'Three']\n",
    "list.append('Four')\n",
    "print(list)\n",
    "list.append([1, 2, 3, 4])\n",
    "print(list)"
   ]
  },
  {
   "cell_type": "markdown",
   "id": "66c648c8",
   "metadata": {},
   "source": [
    "#### 📌 remove()\n",
    "- 리스트 요소 제거"
   ]
  },
  {
   "cell_type": "code",
   "execution_count": 9,
   "id": "5c6e56c7",
   "metadata": {},
   "outputs": [
    {
     "name": "stdout",
     "output_type": "stream",
     "text": [
      "['One', 'Two', 'Three']\n"
     ]
    }
   ],
   "source": [
    "list = ['One', 'Two', 'Three', 'Four']\n",
    "list.remove('Four')\n",
    "print(list)"
   ]
  },
  {
   "cell_type": "markdown",
   "id": "15d2c9b4",
   "metadata": {},
   "source": [
    "#### 📌 sort()\n",
    "- 리스트 정렬"
   ]
  },
  {
   "cell_type": "code",
   "execution_count": 10,
   "id": "4137ab19",
   "metadata": {},
   "outputs": [
    {
     "name": "stdout",
     "output_type": "stream",
     "text": [
      "[1, 2, 3]\n",
      "[3, 2, 1]\n"
     ]
    }
   ],
   "source": [
    "list = [3, 1, 2]\n",
    "list.sort()\n",
    "print(list)\n",
    "list.sort(reverse=True)\n",
    "print(list)"
   ]
  },
  {
   "cell_type": "markdown",
   "id": "160dc48b",
   "metadata": {},
   "source": [
    "#### 📌 reverse()\n",
    "- 리스트 요소 반전"
   ]
  },
  {
   "cell_type": "code",
   "execution_count": 11,
   "id": "1827382c",
   "metadata": {},
   "outputs": [
    {
     "name": "stdout",
     "output_type": "stream",
     "text": [
      "[4, 5, 2, 3, 1]\n"
     ]
    }
   ],
   "source": [
    "list = [1, 3, 2, 5, 4]\n",
    "list.reverse()\n",
    "print(list)"
   ]
  },
  {
   "cell_type": "markdown",
   "id": "ea31252d",
   "metadata": {},
   "source": [
    "#### 📌 index()\n",
    "- 리스트의 요소 값에 대한 인덱스를 반환"
   ]
  },
  {
   "cell_type": "code",
   "execution_count": 12,
   "id": "7e0eb36c",
   "metadata": {},
   "outputs": [
    {
     "name": "stdout",
     "output_type": "stream",
     "text": [
      "1\n"
     ]
    }
   ],
   "source": [
    "list = [1, 3, 2, 5, 4]\n",
    "print(list.index(3))"
   ]
  },
  {
   "cell_type": "markdown",
   "id": "4fe8e51f",
   "metadata": {},
   "source": [
    "#### 📌 insert()\n",
    "- 지정한 인덱스에 요소 삽입"
   ]
  },
  {
   "cell_type": "code",
   "execution_count": 13,
   "id": "4936b8cf",
   "metadata": {},
   "outputs": [
    {
     "name": "stdout",
     "output_type": "stream",
     "text": [
      "[1, 3, 6, 2, 5, 4]\n"
     ]
    }
   ],
   "source": [
    "list = [1, 3, 2, 5, 4]\n",
    "list.insert(2, 6)\n",
    "print(list)"
   ]
  },
  {
   "cell_type": "markdown",
   "id": "bfea117c",
   "metadata": {},
   "source": [
    "#### 📌 del\n",
    "- 지정한 인덱스의 요소 제거"
   ]
  },
  {
   "cell_type": "code",
   "execution_count": 14,
   "id": "98c14d74",
   "metadata": {},
   "outputs": [
    {
     "name": "stdout",
     "output_type": "stream",
     "text": [
      "[1, 3, 2, 5, 4]\n"
     ]
    }
   ],
   "source": [
    "list = [1, 3, 6, 2, 5, 4]\n",
    "del list[2]\n",
    "print(list)"
   ]
  },
  {
   "cell_type": "markdown",
   "id": "31d36db9",
   "metadata": {},
   "source": [
    "#### 📌 pop()\n",
    "- 리스트 요소 방출"
   ]
  },
  {
   "cell_type": "code",
   "execution_count": 15,
   "id": "02012890",
   "metadata": {},
   "outputs": [
    {
     "name": "stdout",
     "output_type": "stream",
     "text": [
      "[1, 3, 2, 5]\n",
      "[3, 2, 5]\n"
     ]
    }
   ],
   "source": [
    "list = [1, 3, 2, 5, 4]\n",
    "list.pop()\n",
    "print(list)\n",
    "list.pop(0)\n",
    "print(list)"
   ]
  },
  {
   "cell_type": "markdown",
   "id": "af0d88f9",
   "metadata": {},
   "source": [
    "#### 📌 count()\n",
    "- 리스트 요소 개수 계산"
   ]
  },
  {
   "cell_type": "code",
   "execution_count": 16,
   "id": "9fd9bf46",
   "metadata": {},
   "outputs": [
    {
     "name": "stdout",
     "output_type": "stream",
     "text": [
      "2\n"
     ]
    }
   ],
   "source": [
    "list = [1, 3, 3, 2, 2, 2, 5, 4]\n",
    "print(list.count(3))"
   ]
  },
  {
   "cell_type": "markdown",
   "id": "bacfda4e",
   "metadata": {},
   "source": [
    "#### 📌 extend()\n",
    "- 리스트 확장"
   ]
  },
  {
   "cell_type": "code",
   "execution_count": 17,
   "id": "0aaa49a1",
   "metadata": {},
   "outputs": [
    {
     "name": "stdout",
     "output_type": "stream",
     "text": [
      "[1, 3, 2, 5, 4, 7, 6]\n"
     ]
    }
   ],
   "source": [
    "list = [1, 3, 2, 5, 4]\n",
    "list.extend([7, 6])\n",
    "print(list)"
   ]
  },
  {
   "cell_type": "markdown",
   "id": "ba7a88b4",
   "metadata": {},
   "source": [
    "## 🗂️ 튜플(Tuple)\n",
    "\n",
    "#### 📌 튜플 개념\n",
    "- 리스트와 유사하지만 변경 불가능한 시퀀스 자료형\n",
    "- 하나의 변수에 여러 값 할당 가능"
   ]
  },
  {
   "cell_type": "code",
   "execution_count": 18,
   "id": "4d43b050",
   "metadata": {},
   "outputs": [
    {
     "name": "stdout",
     "output_type": "stream",
     "text": [
      "()\n",
      "(1, 2, 3)\n",
      "('One', 'Two', 'Three')\n",
      "(1, 'One', 2, 'Two', 3, 'Three')\n",
      "(1, 2, 3, ('One', 'Two', 'Three'))\n"
     ]
    }
   ],
   "source": [
    "print(())\n",
    "print((1, 2, 3))\n",
    "print(('One', 'Two', 'Three'))\n",
    "print((1, 'One', 2, 'Two', 3, 'Three'))\n",
    "print((1, 2, 3, ('One', 'Two', 'Three')))"
   ]
  },
  {
   "cell_type": "markdown",
   "id": "9e0f8e25",
   "metadata": {},
   "source": [
    "## 🗂️ 튜플 연산\n",
    "\n",
    "#### 📌 튜플 인덱싱(Tuple Indexing)\n",
    "- 튜플의 각 위치에 해당하는 값에 접근하기 위해서 주소 개념의 숫자를 사용"
   ]
  },
  {
   "cell_type": "code",
   "execution_count": 19,
   "id": "5ec2a9d4",
   "metadata": {},
   "outputs": [
    {
     "name": "stdout",
     "output_type": "stream",
     "text": [
      "('One', 'Two', 'Three')\n",
      "One\n",
      "Two\n",
      "Three\n",
      "One\n",
      "Two\n",
      "Three\n"
     ]
    }
   ],
   "source": [
    "tuple = ('One', 'Two', 'Three')\n",
    "print(tuple)\n",
    "print(tuple[0])\n",
    "print(tuple[1])\n",
    "print(tuple[2])\n",
    "print(tuple[-3])\n",
    "print(tuple[-2])\n",
    "print(tuple[-1])"
   ]
  },
  {
   "cell_type": "code",
   "execution_count": 20,
   "id": "58b303d9",
   "metadata": {},
   "outputs": [
    {
     "name": "stdout",
     "output_type": "stream",
     "text": [
      "(1, 2, 3, ('One', 'Two', 'Three'))\n",
      "1\n",
      "2\n",
      "3\n",
      "('One', 'Two', 'Three')\n",
      "One\n",
      "Two\n",
      "Three\n"
     ]
    }
   ],
   "source": [
    "tuple = (1, 2, 3, ('One', 'Two', 'Three'))\n",
    "print(tuple)\n",
    "print(tuple[0])\n",
    "print(tuple[1])\n",
    "print(tuple[2])\n",
    "print(tuple[3])\n",
    "print(tuple[3][0])\n",
    "print(tuple[3][1])\n",
    "print(tuple[3][2])"
   ]
  },
  {
   "cell_type": "markdown",
   "id": "5e01349c",
   "metadata": {},
   "source": [
    "#### 📌 튜플 슬라이싱(Tuple Slicing)\n",
    "- 튜플의 인덱스를 통해서 부분만 가져올 때 사용"
   ]
  },
  {
   "cell_type": "code",
   "execution_count": 21,
   "id": "7f6c38d5",
   "metadata": {},
   "outputs": [
    {
     "name": "stdout",
     "output_type": "stream",
     "text": [
      "('One', 'Two', 'Three')\n",
      "('One', 'Two', 'Three')\n",
      "('Two',)\n",
      "('Two',)\n"
     ]
    }
   ],
   "source": [
    "tuple = ('One', 'Two', 'Three')\n",
    "print(tuple)\n",
    "print(tuple[0:])\n",
    "print(tuple[1:2])\n",
    "print(tuple[-2:-1])"
   ]
  },
  {
   "cell_type": "code",
   "execution_count": 22,
   "id": "072a0b1d",
   "metadata": {},
   "outputs": [
    {
     "name": "stdout",
     "output_type": "stream",
     "text": [
      "(1, 2, 3, ('One', 'Two', 'Three'))\n",
      "(1, 2, 3, ('One', 'Two', 'Three'))\n",
      "(3, ('One', 'Two', 'Three'))\n",
      "('Three',)\n",
      "('Three',)\n"
     ]
    }
   ],
   "source": [
    "tuple = (1, 2, 3, ('One', 'Two', 'Three'))\n",
    "print(tuple)\n",
    "print(tuple[0:])\n",
    "print(tuple[2:4])\n",
    "print(tuple[3][2:3])\n",
    "print(tuple[3][-1:])"
   ]
  },
  {
   "cell_type": "markdown",
   "id": "53ef8fc7",
   "metadata": {},
   "source": [
    "#### 📌 튜플 연산자 · 함수(Tuple Operators · Function)\n",
    "- ```+``` 연산\n",
    "- ```*``` 연산\n",
    "- ```len()``` 함수"
   ]
  },
  {
   "cell_type": "code",
   "execution_count": 23,
   "id": "9b9674e4",
   "metadata": {},
   "outputs": [
    {
     "name": "stdout",
     "output_type": "stream",
     "text": [
      "(1, 2, 3, 4, 5, 6)\n",
      "(1, 2, 3, 1, 2, 3, 1, 2, 3)\n",
      "3\n"
     ]
    }
   ],
   "source": [
    "tuple_1 = (1, 2, 3)\n",
    "tuple_2 = (4, 5, 6)\n",
    "print(tuple_1 + tuple_2)\n",
    "print(tuple_1 * 3)\n",
    "print(len(tuple_1))"
   ]
  },
  {
   "cell_type": "markdown",
   "id": "22d40577",
   "metadata": {},
   "source": [
    "## 🗂️ 세트(Set)\n",
    "- 데이터 중복을 허용하지 않는 구조\n",
    "- 순서가 없는 데이터 집합을 위한 구조\n",
    "- 인덱싱으로 값을 접근할 수 없음"
   ]
  },
  {
   "cell_type": "code",
   "execution_count": 24,
   "id": "63e3f24a",
   "metadata": {
    "scrolled": true
   },
   "outputs": [
    {
     "name": "stdout",
     "output_type": "stream",
     "text": [
      "{}\n",
      "{1, 2, 3}\n",
      "{'Two', 'Three', 'One'}\n",
      "{1, 2, 3, 'Two', 'Three', 'One'}\n"
     ]
    }
   ],
   "source": [
    "print({})\n",
    "print({1, 2, 3})\n",
    "print({'One', 'Two', 'Three'})\n",
    "print({1, 'One', 2, 'Two', 3, 'Three'})"
   ]
  },
  {
   "cell_type": "markdown",
   "id": "cd736900",
   "metadata": {},
   "source": [
    "## 🗂️ 세트 연산\n",
    "\n",
    "#### 📌 세트 연산자(Set Operators)\n",
    "- 교집합 ```&```\n",
    "- 합집합 ```|```\n",
    "- 차집합 ```-```\n",
    "- 여집합 ```^```"
   ]
  },
  {
   "cell_type": "code",
   "execution_count": 25,
   "id": "93ab076e",
   "metadata": {},
   "outputs": [
    {
     "name": "stdout",
     "output_type": "stream",
     "text": [
      "{10, 20, 30}\n",
      "{40, 50, 30}\n",
      "{30}\n",
      "{50, 20, 40, 10, 30}\n",
      "{10, 20}\n",
      "{40, 10, 50, 20}\n"
     ]
    }
   ],
   "source": [
    "set_1 = {10, 20, 20, 30}\n",
    "set_2 = {30, 30, 40, 50}\n",
    "print(set_1)\n",
    "print(set_2)\n",
    "\n",
    "print(set_1 & set_2)\n",
    "print(set_1 | set_2)\n",
    "print(set_1 - set_2)\n",
    "print(set_1 ^ set_2)"
   ]
  },
  {
   "cell_type": "markdown",
   "id": "5933850e",
   "metadata": {},
   "source": [
    "## 🗂️ 세트 메소드(Set Method)\n",
    "- 교집합 ```intersection()```\n",
    "- 합집합 ```union()```\n",
    "- 차집합 ```difference()```\n",
    "- 여집합 ```symmetric_difference()```"
   ]
  },
  {
   "cell_type": "code",
   "execution_count": 26,
   "id": "8d8e0a59",
   "metadata": {},
   "outputs": [
    {
     "name": "stdout",
     "output_type": "stream",
     "text": [
      "{10, 20, 30}\n",
      "{40, 50, 30}\n",
      "{30}\n",
      "{50, 20, 40, 10, 30}\n",
      "{10, 20}\n",
      "{40, 10, 50, 20}\n"
     ]
    }
   ],
   "source": [
    "set_1 = {10, 20, 20, 30}\n",
    "set_2 = {30, 30, 40, 50}\n",
    "print(set_1)\n",
    "print(set_2)\n",
    "\n",
    "print(set_1.intersection(set_2))\n",
    "print(set_1.union(set_2))\n",
    "print(set_1.difference(set_2))\n",
    "print(set_1.symmetric_difference(set_2))"
   ]
  },
  {
   "cell_type": "markdown",
   "id": "ba6918a5",
   "metadata": {},
   "source": [
    "#### 📌 add()\n",
    "- 요소 추가"
   ]
  },
  {
   "cell_type": "code",
   "execution_count": 27,
   "id": "4a389277",
   "metadata": {},
   "outputs": [
    {
     "name": "stdout",
     "output_type": "stream",
     "text": [
      "{40, 10, 50, 20, 30}\n"
     ]
    }
   ],
   "source": [
    "set = {10, 20, 30, 40}\n",
    "set.add(50)\n",
    "print(set)"
   ]
  },
  {
   "cell_type": "markdown",
   "id": "c3465a3e",
   "metadata": {},
   "source": [
    "#### 📌 update()\n",
    "- 여러 요소 추가"
   ]
  },
  {
   "cell_type": "code",
   "execution_count": 28,
   "id": "5e71cb56",
   "metadata": {},
   "outputs": [
    {
     "name": "stdout",
     "output_type": "stream",
     "text": [
      "{40, 10, 50, 20, 60, 30}\n"
     ]
    }
   ],
   "source": [
    "set = {10, 20, 30, 40}\n",
    "set.update([50, 60])\n",
    "print(set)"
   ]
  },
  {
   "cell_type": "markdown",
   "id": "2d43a7a6",
   "metadata": {},
   "source": [
    "#### 📌 remove()\n",
    "- 요소 제거\n",
    "- 지우려는 요소가 없다면 KeyError 발생"
   ]
  },
  {
   "cell_type": "code",
   "execution_count": 29,
   "id": "9630875d",
   "metadata": {},
   "outputs": [
    {
     "name": "stdout",
     "output_type": "stream",
     "text": [
      "{10, 20, 30}\n"
     ]
    }
   ],
   "source": [
    "set = {10, 20, 30, 40}\n",
    "set.remove(40)\n",
    "print(set)"
   ]
  },
  {
   "cell_type": "markdown",
   "id": "b55a7a9b",
   "metadata": {},
   "source": [
    "#### 📌 discard()\n",
    "- 요소 제거\n",
    "- 지우려는 요소가 없어도 Error가 발생하지 않음"
   ]
  },
  {
   "cell_type": "code",
   "execution_count": 30,
   "id": "c3a1c7de",
   "metadata": {},
   "outputs": [
    {
     "name": "stdout",
     "output_type": "stream",
     "text": [
      "{10, 20, 30}\n"
     ]
    }
   ],
   "source": [
    "set = {10, 20, 30, 40}\n",
    "set.discard(40)\n",
    "print(set)"
   ]
  },
  {
   "cell_type": "markdown",
   "id": "6ef40339",
   "metadata": {},
   "source": [
    "#### 📌 clear()\n",
    "- 모든 요소 제거"
   ]
  },
  {
   "cell_type": "code",
   "execution_count": 31,
   "id": "e9e0b2a6",
   "metadata": {},
   "outputs": [
    {
     "name": "stdout",
     "output_type": "stream",
     "text": [
      "set()\n"
     ]
    }
   ],
   "source": [
    "set.clear()\n",
    "print(set)"
   ]
  },
  {
   "cell_type": "markdown",
   "id": "c552dfb3",
   "metadata": {},
   "source": [
    "## 🗂️ 딕셔너리(Dictionary)\n",
    "\n",
    "#### 📌 딕셔너리 개념\n",
    "- 키(Key)와 값(Value)의 쌍으로 구성된 데이터\n",
    "- 순서가 없는 데이터\n",
    "- 키를 통해 값을 얻음\n",
    "- 동일한 키가 있을 경우 덮어씀"
   ]
  },
  {
   "cell_type": "code",
   "execution_count": 32,
   "id": "f44dc840",
   "metadata": {},
   "outputs": [
    {
     "name": "stdout",
     "output_type": "stream",
     "text": [
      "{1: 'One', 2: 'Two', 3: 'Three'}\n"
     ]
    }
   ],
   "source": [
    "dict = {1:'One', 2:'Two', 3:'Three'}\n",
    "print(dict)"
   ]
  },
  {
   "cell_type": "markdown",
   "id": "998034a4",
   "metadata": {},
   "source": [
    "#### 📌 딕셔너리 요소 추가 · 삭제\n",
    "- 딕셔너리의 해당 키 값에 값을 추가하여 요소 추가\n",
    "- del을 이용하여 요소 제거"
   ]
  },
  {
   "cell_type": "code",
   "execution_count": 33,
   "id": "c0e25bbf",
   "metadata": {},
   "outputs": [
    {
     "name": "stdout",
     "output_type": "stream",
     "text": [
      "{1: 'One', 2: 'Two', 3: 'Three', 4: 'Four', 5: 'Five'}\n",
      "{1: 'One', 2: 'Two', 3: 'Three', 4: 'Four'}\n"
     ]
    }
   ],
   "source": [
    "dict = {1:'One', 2:'Two', 3:'Three'}\n",
    "dict[4] = 'Four'\n",
    "dict[5] = 'Five'\n",
    "print(dict)\n",
    "\n",
    "del dict[5]\n",
    "print(dict)"
   ]
  },
  {
   "cell_type": "markdown",
   "id": "4caf2b6e",
   "metadata": {},
   "source": [
    "## 🗂️ 딕셔너리 메소드(Dictionary Method)\n",
    "\n",
    "|메소드|설명|\n",
    "|:----:|:--:|\n",
    "|keys()|딕셔너리의 키 가져오기|\n",
    "|values()|딕셔너리의 값 가져오기|\n",
    "|items()|딕셔너리의 키와 값을 모두 가져오기|\n",
    "|get()|딕셔너리에서 키에 해당하는 값 가져오기|\n",
    "|pop()|딕셔너리에서 키에 해당하는 값 추출하기|\n",
    "|clear()|딕셔너리의 모든 요소를 제거하기|"
   ]
  },
  {
   "cell_type": "code",
   "execution_count": 34,
   "id": "77f8b8a0",
   "metadata": {},
   "outputs": [
    {
     "name": "stdout",
     "output_type": "stream",
     "text": [
      "dict_keys([1, 2, 3])\n",
      "dict_values(['One', 'Two', 'Three'])\n",
      "dict_items([(1, 'One'), (2, 'Two'), (3, 'Three')])\n",
      "Two\n",
      "{1: 'One', 2: 'Two', 3: 'Three'}\n",
      "Three\n",
      "{1: 'One', 2: 'Two'}\n",
      "{}\n"
     ]
    }
   ],
   "source": [
    "dict = {1:'One', 2:'Two', 3:'Three'}\n",
    "print(dict.keys())\n",
    "print(dict.values())\n",
    "print(dict.items())\n",
    "print(dict.get(2))\n",
    "print(dict)\n",
    "print(dict.pop(3))\n",
    "print(dict)\n",
    "dict.clear()\n",
    "print(dict)"
   ]
  }
 ],
 "metadata": {
  "kernelspec": {
   "display_name": "Python 3 (ipykernel)",
   "language": "python",
   "name": "python3"
  },
  "language_info": {
   "codemirror_mode": {
    "name": "ipython",
    "version": 3
   },
   "file_extension": ".py",
   "mimetype": "text/x-python",
   "name": "python",
   "nbconvert_exporter": "python",
   "pygments_lexer": "ipython3",
   "version": "3.9.12"
  }
 },
 "nbformat": 4,
 "nbformat_minor": 5
}
