{
 "cells": [
  {
   "cell_type": "markdown",
   "id": "6896787b",
   "metadata": {},
   "source": [
    "## 🗂️ 조건문(Conditional Statement)\n",
    "\n",
    "#### 📌 조건문 개념\n",
    "- 조건을 따라 문장을 수행\n",
    "- 주어진 조건을 판단하고 상황에 맞는 처리가 필요할 때 사용\n",
    "- 파이썬에서 제공하는 조건문\n",
    "    - if\n",
    "    - else\n",
    "    - elif\n",
    "\n",
    "#### 📌 if 문\n",
    "- if 문은 True와 False를 판단하는 조건문\n",
    "- if 조건 뒤에는 콜론(:)을 붙여야 함\n",
    "- if 문 문법\n",
    "```\n",
    "if (조건식):\n",
    "    조건이 참일 경우 수행되는 문장\n",
    "```"
   ]
  },
  {
   "cell_type": "code",
   "execution_count": 1,
   "id": "30c63000",
   "metadata": {},
   "outputs": [
    {
     "name": "stdout",
     "output_type": "stream",
     "text": [
      "미세먼지 농도 나쁨\n"
     ]
    }
   ],
   "source": [
    "pm = 40\n",
    "\n",
    "if pm > 35:\n",
    "    print(\"미세먼지 농도 나쁨\")"
   ]
  },
  {
   "cell_type": "markdown",
   "id": "d943892c",
   "metadata": {},
   "source": [
    "#### 📌 if ~ else 문\n",
    "- if ~ else 문 문법\n",
    "```\n",
    "if (조건식):\n",
    "    조건이 참일 경우 수행되는 문장\n",
    "else:\n",
    "    조건이 거짓일 경우 수행되는 문장\n",
    "```"
   ]
  },
  {
   "cell_type": "code",
   "execution_count": 2,
   "id": "786be392",
   "metadata": {},
   "outputs": [
    {
     "name": "stdout",
     "output_type": "stream",
     "text": [
      "미세먼지 농도 좋음\n"
     ]
    }
   ],
   "source": [
    "pm = 30\n",
    "\n",
    "if pm > 35:\n",
    "    print(\"미세먼지 농도 나쁨\")\n",
    "else:\n",
    "    print(\"미세먼지 농도 좋음\")"
   ]
  },
  {
   "cell_type": "markdown",
   "id": "ef8cc810",
   "metadata": {},
   "source": [
    "#### 📌 if ~ elif ~ else 문\n",
    "- if ~ elif ~ else 문 문법\n",
    "```\n",
    "if (조건식1):\n",
    "    조건식1이 참일 경우 수행되는 문장\n",
    "elif (조건식2):\n",
    "    조건식2가 참일 경우 수행되는 문장\n",
    "else:\n",
    "    조건식이 모두 거짓일 경우 수행되는 문장\n",
    "```"
   ]
  },
  {
   "cell_type": "code",
   "execution_count": 3,
   "id": "d1dc7f48",
   "metadata": {},
   "outputs": [
    {
     "name": "stdout",
     "output_type": "stream",
     "text": [
      "미세먼지 농도 보통\n"
     ]
    }
   ],
   "source": [
    "pm = 25\n",
    "\n",
    "if pm > 75:\n",
    "    print(\"미세먼지 농도 매우 나쁨\")\n",
    "elif pm > 35:\n",
    "    print(\"미세먼지 농도 나쁨\")\n",
    "elif pm > 15:\n",
    "    print(\"미세먼지 농도 보통\")\n",
    "else:\n",
    "    print(\"미세먼지 농도 좋음\")"
   ]
  },
  {
   "cell_type": "markdown",
   "id": "ba3b7dea",
   "metadata": {},
   "source": [
    "#### 📌 중첩 if 문\n",
    "- if 문 안에 if 문이 포함된 형태\n",
    "- 중첩 if 문 문법\n",
    "```\n",
    "if (조건식1):\n",
    "    if(조건식2):\n",
    "        조건식1, 조건식2가 모두 참일 경우 수행되는 문장\n",
    "     else:\n",
    "        조건식1이 참, 조건식2가 거짓일 경우 수행되는 문장\n",
    "else:\n",
    "    조건식1이 거짓일 경우 수행되는 문장\n",
    "```"
   ]
  },
  {
   "cell_type": "code",
   "execution_count": 4,
   "id": "5f50eca5",
   "metadata": {},
   "outputs": [
    {
     "name": "stdout",
     "output_type": "stream",
     "text": [
      "미세먼지 농도 보통\n"
     ]
    }
   ],
   "source": [
    "pm = 30\n",
    "\n",
    "if pm < 35:\n",
    "    if pm > 15:\n",
    "        print(\"미세먼지 농도 보통\")\n",
    "    else:\n",
    "        print(\"미세먼지 농도 좋음\")\n",
    "else:\n",
    "    if pm > 75:\n",
    "        print(\"미세먼지 농도 매우 나쁨\")\n",
    "    else:\n",
    "        print(\"미세먼지 농도 나쁨\")"
   ]
  },
  {
   "cell_type": "markdown",
   "id": "86a66684",
   "metadata": {},
   "source": [
    "#### 📌 if ~ pass 문\n",
    "- 조건문은 있지만 실행할 문장이 없는 경우 오류가 발생하지 않도록 무시히고 넘어가는 기능"
   ]
  },
  {
   "cell_type": "code",
   "execution_count": 5,
   "id": "146599f7",
   "metadata": {},
   "outputs": [
    {
     "name": "stdout",
     "output_type": "stream",
     "text": [
      "10\n"
     ]
    }
   ],
   "source": [
    "if 10 > 5:\n",
    "    print(10)\n",
    "else:\n",
    "    pass"
   ]
  },
  {
   "cell_type": "markdown",
   "id": "064b0d19",
   "metadata": {},
   "source": [
    "#### 📌 if 조건 연산자\n",
    "- 비교 연산자 <, >, ==, !=, <=, >="
   ]
  },
  {
   "cell_type": "code",
   "execution_count": 6,
   "id": "9d13f900",
   "metadata": {},
   "outputs": [
    {
     "name": "stdout",
     "output_type": "stream",
     "text": [
      "i는 1보다 크다\n",
      "i는 2와 같지 않다\n",
      "i는 3이다\n"
     ]
    }
   ],
   "source": [
    "i = 3\n",
    "\n",
    "if i > 1:\n",
    "    print(\"i는 1보다 크다\")\n",
    "\n",
    "if i != 2:\n",
    "    print(\"i는 2와 같지 않다\")\n",
    "\n",
    "if i == 3:\n",
    "    print(\"i는 3이다\")"
   ]
  },
  {
   "cell_type": "markdown",
   "id": "f6664ba9",
   "metadata": {},
   "source": [
    "- 논리 연산자 and, or, not"
   ]
  },
  {
   "cell_type": "code",
   "execution_count": 7,
   "id": "2383d9bd",
   "metadata": {},
   "outputs": [
    {
     "name": "stdout",
     "output_type": "stream",
     "text": [
      "진눈깨비\n",
      "비 또는 눈\n",
      "흐림\n"
     ]
    }
   ],
   "source": [
    "rain = True\n",
    "snow = True\n",
    "sun = False\n",
    "\n",
    "if rain and snow:\n",
    "    print(\"진눈깨비\")\n",
    "\n",
    "if rain or snow:\n",
    "    print(\"비 또는 눈\")\n",
    "    \n",
    "if not sun:\n",
    "    print(\"흐림\")"
   ]
  },
  {
   "cell_type": "markdown",
   "id": "7fd672c2",
   "metadata": {},
   "source": [
    "- 멤버 연산자 in, not in"
   ]
  },
  {
   "cell_type": "code",
   "execution_count": 8,
   "id": "8aa1870a",
   "metadata": {},
   "outputs": [
    {
     "name": "stdout",
     "output_type": "stream",
     "text": [
      "One이 리스트에 있다\n"
     ]
    }
   ],
   "source": [
    "list = ['One', 'Two', 'Three']\n",
    "\n",
    "if 'One' in list:\n",
    "    print(\"One이 리스트에 있다\")"
   ]
  },
  {
   "cell_type": "markdown",
   "id": "3f4de007",
   "metadata": {},
   "source": [
    "- 식별 연산자 is, is not"
   ]
  },
  {
   "cell_type": "code",
   "execution_count": 9,
   "id": "6b2e6d7a",
   "metadata": {},
   "outputs": [
    {
     "name": "stdout",
     "output_type": "stream",
     "text": [
      "비가 온다\n"
     ]
    }
   ],
   "source": [
    "rain = True\n",
    "\n",
    "if rain is True:\n",
    "    print(\"비가 온다\")\n",
    "\n",
    "if rain is not True:\n",
    "    print(\"비가 오지 않는다\")"
   ]
  },
  {
   "cell_type": "markdown",
   "id": "de2a045a",
   "metadata": {},
   "source": [
    "#### 📌 조건부 표현식(Conditional Expression)\n",
    "- 한 라인으로 조건식을 사용한 표현\n",
    "- 간단한 조건식을 간결하게 표현"
   ]
  },
  {
   "cell_type": "code",
   "execution_count": 10,
   "id": "d2e48905",
   "metadata": {},
   "outputs": [
    {
     "name": "stdout",
     "output_type": "stream",
     "text": [
      "통과\n"
     ]
    }
   ],
   "source": [
    "score = 75\n",
    "msg = \"통과\" if score >= 70 else \"탈락\"\n",
    "\n",
    "print(msg)"
   ]
  },
  {
   "cell_type": "markdown",
   "id": "87ed75da",
   "metadata": {},
   "source": [
    "## 🗂️ 반복문(Repetitive Statement)\n",
    "\n",
    "#### 📌 반복문 개념\n",
    "- 문장을 반복적으로 수행\n",
    "- 정해진 동작을 반복하여 처리할 때 사용\n",
    "- 파이썬에서 제공하는 반복문\n",
    "    - while\n",
    "    - for\n",
    "\n",
    "#### 📌 while 문\n",
    "- 어떤 조건이 만족하는 동안 문장을 수행하고 만족하지 않는 경우 수행 중단\n",
    "- while 문 문법\n",
    "```\n",
    "while (조건식):\n",
    "    조건식이 True일 경우 반복 수행할 문장\n",
    "```"
   ]
  },
  {
   "cell_type": "code",
   "execution_count": 11,
   "id": "20ec31fa",
   "metadata": {},
   "outputs": [
    {
     "name": "stdout",
     "output_type": "stream",
     "text": [
      "1\n",
      "2\n",
      "3\n"
     ]
    }
   ],
   "source": [
    "i = 1\n",
    "\n",
    "while i <= 3:\n",
    "    print(i)\n",
    "    i += 1"
   ]
  },
  {
   "cell_type": "markdown",
   "id": "65518369",
   "metadata": {},
   "source": [
    "#### 📌 for 문\n",
    "- 반복 범위를 지정하여 반복 수행\n",
    "- for 문 문법\n",
    "```\n",
    "for 변수 in 범위 또는 리스트/튜플/문자열:\n",
    "    반복 수행할 문장\n",
    "```"
   ]
  },
  {
   "cell_type": "code",
   "execution_count": 12,
   "id": "e10a44e1",
   "metadata": {},
   "outputs": [
    {
     "name": "stdout",
     "output_type": "stream",
     "text": [
      "One\n",
      "Two\n",
      "Three\n"
     ]
    }
   ],
   "source": [
    "list = ['One', 'Two', 'Three']\n",
    "\n",
    "for i in list:\n",
    "    print(i)"
   ]
  },
  {
   "cell_type": "code",
   "execution_count": 13,
   "id": "d5a53135",
   "metadata": {},
   "outputs": [
    {
     "name": "stdout",
     "output_type": "stream",
     "text": [
      "One\n",
      "Two\n",
      "Three\n"
     ]
    }
   ],
   "source": [
    "tuple = ('One', 'Two', 'Three')\n",
    "\n",
    "for i in tuple:\n",
    "    print(i)"
   ]
  },
  {
   "cell_type": "code",
   "execution_count": 14,
   "id": "8e461157",
   "metadata": {},
   "outputs": [
    {
     "name": "stdout",
     "output_type": "stream",
     "text": [
      "H\n",
      "e\n",
      "l\n",
      "l\n",
      "o\n"
     ]
    }
   ],
   "source": [
    "s = \"Hello\"\n",
    "\n",
    "for i in s:\n",
    "    print(i)"
   ]
  },
  {
   "cell_type": "markdown",
   "id": "196ba611",
   "metadata": {},
   "source": [
    "#### 📌 range()\n",
    "- 범위 반복에 사용\n",
    "- 시작 값과 증감 값은 생략 가능하며 생략 시 시작 값은 0, 증감 값은 1\n",
    "- range() 문법\n",
    "```\n",
    "for 변수 in range(시작 값, 마지막 값, 증감 값):\n",
    "    반복 수행할 문장\n",
    "```"
   ]
  },
  {
   "cell_type": "code",
   "execution_count": 15,
   "id": "04260477",
   "metadata": {},
   "outputs": [
    {
     "name": "stdout",
     "output_type": "stream",
     "text": [
      "0\n",
      "1\n",
      "2\n"
     ]
    }
   ],
   "source": [
    "for i in range(0, 3, 1):\n",
    "    print(i)"
   ]
  },
  {
   "cell_type": "markdown",
   "id": "6d63496c",
   "metadata": {},
   "source": [
    "#### 📌``` _``` 기능\n",
    "- for 문을 사용하면서 iterator 역할을 위해서 i 변수가 필요\n",
    "- for 문 이후에는 iterator 변수 i가 필요하지 않음\n",
    "- 이후에 사용되지 않을 변수에 어떤 이름을 부여하고 싶지 않을 때 ```_```를 사용"
   ]
  },
  {
   "cell_type": "code",
   "execution_count": 16,
   "id": "49b8de70",
   "metadata": {},
   "outputs": [
    {
     "name": "stdout",
     "output_type": "stream",
     "text": [
      "Hello\n",
      "Hello\n",
      "Hello\n"
     ]
    }
   ],
   "source": [
    "for _ in range(3):\n",
    "    print(\"Hello\")"
   ]
  },
  {
   "cell_type": "markdown",
   "id": "4cf008d7",
   "metadata": {},
   "source": [
    "#### 📌 else 문\n",
    "- 반복이 종료된 후에 한 번 더 실행되는 문장"
   ]
  },
  {
   "cell_type": "code",
   "execution_count": 17,
   "id": "0ca94016",
   "metadata": {},
   "outputs": [
    {
     "name": "stdout",
     "output_type": "stream",
     "text": [
      "55\n"
     ]
    }
   ],
   "source": [
    "i = 1\n",
    "sum = 0\n",
    "\n",
    "while i <= 10:\n",
    "    sum += i\n",
    "    i += 1\n",
    "else:\n",
    "    print(sum)"
   ]
  },
  {
   "cell_type": "code",
   "execution_count": 18,
   "id": "9b3ec445",
   "metadata": {},
   "outputs": [
    {
     "name": "stdout",
     "output_type": "stream",
     "text": [
      "55\n"
     ]
    }
   ],
   "source": [
    "sum = 0\n",
    "\n",
    "for i in range(11):\n",
    "    sum += i\n",
    "else:\n",
    "    print(sum)"
   ]
  },
  {
   "cell_type": "markdown",
   "id": "b1f77830",
   "metadata": {},
   "source": [
    "#### 📌 break 문\n",
    "- 반복문 내에서 의도적으로 제어 흐름을 중단하고 빠져나오는 문장"
   ]
  },
  {
   "cell_type": "code",
   "execution_count": 19,
   "id": "087ad4ca",
   "metadata": {},
   "outputs": [
    {
     "name": "stdout",
     "output_type": "stream",
     "text": [
      "0\n",
      "1\n",
      "2\n",
      "3\n"
     ]
    }
   ],
   "source": [
    "i = 0\n",
    "\n",
    "while i < 100:\n",
    "    print(i)\n",
    "    \n",
    "    if i == 3:\n",
    "        break\n",
    "        \n",
    "    i += 1"
   ]
  },
  {
   "cell_type": "code",
   "execution_count": 20,
   "id": "1c742319",
   "metadata": {},
   "outputs": [
    {
     "name": "stdout",
     "output_type": "stream",
     "text": [
      "0\n",
      "1\n",
      "2\n",
      "3\n"
     ]
    }
   ],
   "source": [
    "for i in range(100):\n",
    "    print(i)\n",
    "    \n",
    "    if i == 3:\n",
    "        break\n",
    "    \n",
    "    i += 1"
   ]
  },
  {
   "cell_type": "markdown",
   "id": "b2cbea7a",
   "metadata": {},
   "source": [
    "#### 📌 continue 문\n",
    "- 반복문 수행 중 제어 흐름을 유지한 상태에서 코드의 실행만 건너뛰는 문장"
   ]
  },
  {
   "cell_type": "code",
   "execution_count": 21,
   "id": "b879ab42",
   "metadata": {},
   "outputs": [
    {
     "name": "stdout",
     "output_type": "stream",
     "text": [
      "1\n",
      "3\n",
      "5\n",
      "7\n",
      "9\n"
     ]
    }
   ],
   "source": [
    "i = 0\n",
    "\n",
    "while i < 10:\n",
    "    i += 1\n",
    "    \n",
    "    if i % 2 == 0:\n",
    "        continue\n",
    "    \n",
    "    print(i)"
   ]
  },
  {
   "cell_type": "markdown",
   "id": "36c229d0",
   "metadata": {},
   "source": [
    "#### 📌 리스트 내포(List Comprehension)\n",
    "- 리스트 안에 for 문과 if 문 사용\n",
    "- 리스트 내포 문법\n",
    "```\n",
    "[표현식 for 항목 in 반복 가능 객체 if 조건식]\n",
    "```"
   ]
  },
  {
   "cell_type": "code",
   "execution_count": 22,
   "id": "3205cbd1",
   "metadata": {},
   "outputs": [
    {
     "name": "stdout",
     "output_type": "stream",
     "text": [
      "[3, 6, 9, 12]\n"
     ]
    }
   ],
   "source": [
    "list = [1, 2, 3, 4]\n",
    "result = []\n",
    "\n",
    "for num in list:\n",
    "    result.append(num * 3)\n",
    "\n",
    "print(result)"
   ]
  },
  {
   "cell_type": "code",
   "execution_count": 23,
   "id": "97b7f2cd",
   "metadata": {},
   "outputs": [
    {
     "name": "stdout",
     "output_type": "stream",
     "text": [
      "[3, 6, 9, 12]\n"
     ]
    }
   ],
   "source": [
    "list = [1, 2, 3, 4]\n",
    "result = [num * 3 for num in list]\n",
    "print(result)"
   ]
  }
 ],
 "metadata": {
  "kernelspec": {
   "display_name": "Python 3 (ipykernel)",
   "language": "python",
   "name": "python3"
  },
  "language_info": {
   "codemirror_mode": {
    "name": "ipython",
    "version": 3
   },
   "file_extension": ".py",
   "mimetype": "text/x-python",
   "name": "python",
   "nbconvert_exporter": "python",
   "pygments_lexer": "ipython3",
   "version": "3.9.12"
  }
 },
 "nbformat": 4,
 "nbformat_minor": 5
}
