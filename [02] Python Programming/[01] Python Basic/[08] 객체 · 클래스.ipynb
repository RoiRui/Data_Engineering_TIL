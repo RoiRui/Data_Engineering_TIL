{
 "cells": [
  {
   "cell_type": "markdown",
   "id": "fd928770",
   "metadata": {},
   "source": [
    "## 🗂️ 객체(Object) · 클래스(Class)\n",
    "\n",
    "#### 📌 객체 지향 프로그래밍(Object Oriented Programming) 개념\n",
    "- 프로그램을 단순히 데이터와 처리 방법으로 나누는 것이 아니라 프로그램을 수 많은 객체라는 단위로 구분하고 이 객체들이 상호작용하는 방식의 컴퓨터 프로그래밍 기법\n",
    "\n",
    "#### 📌 클래스(Class) 개념\n",
    "- 실세계의 것(사물)을 모델링하여 속성(Attribute)와 동작(Method)를 갖는 데이터 타입\n",
    "- 객체를 만들어 내기 위한 설계도와 같은 개념\n",
    "- 다루고자 하는 데이터(변수)와 데이터를 다루는 연산(함수)를 하나로 캡슐화(Encapsulation)하여 클래스로 표현\n",
    "\n",
    "#### 📌 객체(Object) 개념\n",
    "- 클래스로 생성되어 구체화 된 것\n",
    "- 실제로 클래스가 인스턴스화 되어 메모리에 상주하는 상태\n",
    "\n",
    "#### 📌 인스턴스(Instance) 개념\n",
    "- 메모리에 할당된 객체\n",
    "- 생성된 인스턴스는 독립된 메모리 공간에 저장된 자신만의 필드를 가질 수 있음\n",
    "\n",
    "#### 📌 객체 vs 인스턴스\n",
    "- 예를 들어 a = FourCal() 이렇게 만든 a는 객체임\n",
    "- a 객체는 FourCal 클래스의 인스턴스임\n",
    "- 인스턴스라는 말은 특정 객체가 어떤 클래스의 객체인지를 관계 위주로 설명할 때 사용\n",
    "- a는 객체, a는 FourCal의 인스턴스라는 말이 적절함"
   ]
  },
  {
   "cell_type": "markdown",
   "id": "f34e45ad",
   "metadata": {},
   "source": [
    "## 🗂️ 클래스 정의(Class Definition)\n",
    "\n",
    "#### 📌 클래스 정의\n",
    "```\n",
    "class 클래스명:\n",
    "    속성\n",
    "    메소드\n",
    "```"
   ]
  },
  {
   "cell_type": "code",
   "execution_count": 1,
   "id": "6f9babe3",
   "metadata": {},
   "outputs": [],
   "source": [
    "class Book:\n",
    "    author = \"\"\n",
    "    title = \"\"\n",
    "    publisher = \"\"\n",
    "    date = \"\"\n",
    "    \n",
    "book = Book()"
   ]
  },
  {
   "cell_type": "markdown",
   "id": "1489b5ce",
   "metadata": {},
   "source": [
    "#### 📌 인스턴스 속성\n",
    "- 다른 객체들에 영향받지 않고 객체마다 독립적으로 값을 유지"
   ]
  },
  {
   "cell_type": "code",
   "execution_count": 2,
   "id": "622bc4bb",
   "metadata": {},
   "outputs": [
    {
     "name": "stdout",
     "output_type": "stream",
     "text": [
      "Han\n",
      "Python Programming\n",
      "Jupyter\n",
      "2022\n"
     ]
    }
   ],
   "source": [
    "book.author = \"Han\"\n",
    "book.title = \"Python Programming\"\n",
    "book.publisher = \"Jupyter\"\n",
    "book.date = \"2022\"\n",
    "\n",
    "print(book.author)\n",
    "print(book.title)\n",
    "print(book.publisher)\n",
    "print(book.date)"
   ]
  },
  {
   "cell_type": "markdown",
   "id": "f8a34f6a",
   "metadata": {},
   "source": [
    "#### 📌 인스턴스 메소드(Instance Method)\n",
    "- 해당 메서드를 호출한 객체에만 영향을 미침\n",
    "- 첫번째 인자에 항상 객체 자신을 의미하는 self 파라미터를 가짐\n",
    "- 일반적인 파이썬의 메소드는 항상 첫 번째 인자로 self 인자를 전달\n",
    "- self는 현재 해당 메소드가 호출되는 객체 자신을 가리킴\n",
    "- 이름이 꼭 self일 필요는 없지만 관례적으로 사용\n",
    "- C++, C#, Java에서의 this에 해당"
   ]
  },
  {
   "cell_type": "code",
   "execution_count": 3,
   "id": "b9df4df2",
   "metadata": {
    "scrolled": true
   },
   "outputs": [
    {
     "name": "stdout",
     "output_type": "stream",
     "text": [
      "Author : Han\n",
      "Title : Python Programming\n",
      "Publisher : Jupyter\n",
      "Date : 2022\n"
     ]
    }
   ],
   "source": [
    "class Book:\n",
    "    author = \"\"\n",
    "    title = \"\"\n",
    "    publisher = \"\"\n",
    "    date = \"\"\n",
    "    \n",
    "    def print_info(self):\n",
    "        print(\"Author : \" + self.author)\n",
    "        print(\"Title : \" + self.title)\n",
    "        print(\"Publisher : \" + self.publisher)\n",
    "        print(\"Date : \" + self.date)\n",
    "\n",
    "book = Book()\n",
    "\n",
    "book.author = \"Han\"\n",
    "book.title = \"Python Programming\"\n",
    "book.publisher = \"Jupyter\"\n",
    "book.date = \"2022\"\n",
    "\n",
    "book.print_info()"
   ]
  },
  {
   "cell_type": "markdown",
   "id": "79167068",
   "metadata": {},
   "source": [
    "#### 📌 클래스 속성\n",
    "- 인스턴스 속성과 다르게 클래스 레벨로 존재하며 해당 클래스 생성된 객체가 모두 공유"
   ]
  },
  {
   "cell_type": "code",
   "execution_count": 4,
   "id": "ecdf4549",
   "metadata": {},
   "outputs": [
    {
     "name": "stdout",
     "output_type": "stream",
     "text": [
      "Number of Books : 2\n"
     ]
    }
   ],
   "source": [
    "class Book:\n",
    "    count = 0\n",
    "\n",
    "b1 = Book()\n",
    "Book.count += 1\n",
    "\n",
    "b2 = Book()\n",
    "Book.count += 1\n",
    "\n",
    "print(\"Number of Books : \" + str(Book.count))"
   ]
  },
  {
   "cell_type": "markdown",
   "id": "89332e44",
   "metadata": {},
   "source": [
    "#### 📌 클래스 메소드\n",
    "- self 파라미터 대신 ```cls```라는 클래스를 의미하는 파라미터 가짐\n",
    "- 클래스 메소드를 지정하기 위해 ```@classmethod``` 사용\n",
    "- 인스턴스 속성 및 메소드에는 접근 불가\n",
    "- cls를 사용하면 클래스 메소드 내부에서 현재 클래스의 인스턴스를 만들 수 있음\n",
    "- ```클래스명.클래스 메소드명``` 또는 ```객체명.클래스 메소드명```으로 호출 가능"
   ]
  },
  {
   "cell_type": "code",
   "execution_count": 5,
   "id": "a61bcb40",
   "metadata": {},
   "outputs": [
    {
     "name": "stdout",
     "output_type": "stream",
     "text": [
      "Count : 2\n"
     ]
    }
   ],
   "source": [
    "class Book:\n",
    "    count = 0\n",
    "        \n",
    "    @classmethod\n",
    "    def print_count(cls):\n",
    "        print(\"Count : \" + str(cls.count))\n",
    "        \n",
    "b1 = Book()\n",
    "Book.count += 1\n",
    "\n",
    "b2 = Book()\n",
    "Book.count += 1\n",
    "\n",
    "b1.print_count()"
   ]
  },
  {
   "cell_type": "markdown",
   "id": "812e78f3",
   "metadata": {},
   "source": [
    "#### 📌 스태틱 메소드(Static Method)\n",
    "- self, cls와 같은 파라미터를 가지지 않음\n",
    "- 스태틱 메소드를 지정하기 위해 @staticmethod 사용\n",
    "- 인스턴스 속성 및 메소드에는 접근 불가\n",
    "- 인스턴스를 만들지 않아도 ```클래스.메소드명```으로 바로 호출 가능\n",
    "- 인스턴스 속성, 인스턴스 메소드가 필요 없거나 인스턴스의 상태를 변화시키지 않는 메소드를 만들 때 사용"
   ]
  },
  {
   "cell_type": "code",
   "execution_count": 6,
   "id": "838b9c2b",
   "metadata": {},
   "outputs": [
    {
     "name": "stdout",
     "output_type": "stream",
     "text": [
      "Count : 2\n"
     ]
    }
   ],
   "source": [
    "class Book:\n",
    "    count = 0\n",
    "    \n",
    "    @staticmethod\n",
    "    def print_count():\n",
    "        print(\"Count : \" + str(Book.count))\n",
    "        \n",
    "b1 = Book()\n",
    "Book.count += 1\n",
    "\n",
    "b2 = Book()\n",
    "Book.count += 1\n",
    "\n",
    "b1.print_count()"
   ]
  },
  {
   "cell_type": "markdown",
   "id": "c7719bfc",
   "metadata": {},
   "source": [
    "## 🗂️ 클래스 매직 메소드(Class Magic Method)\n",
    "- ```_```를 2개 붙여서 매직 메소드 또는 속성에 사용 가능\n",
    "- ```__```을 속성 앞에 붙이면 가시성을 위한 속성으로 사용\n",
    "\n",
    "|매직 메소드|설명|\n",
    "|:---------:|:--:|\n",
    "|\\_\\_init\\_\\_|객체의 초기화를 위해 클래스 생성시 호출되는 동작을 정의|\n",
    "|\\_\\_str\\_\\_|클래스의 인스턴스에서 str()이 호출될 때의 동작을 정의|\n",
    "|\\_\\_repr\\_\\_|클래스의 인스턴스에서 repr()이 호출될 때의 동작을 정의|\n",
    "|\\_\\_new\\_\\_|객체의 인스턴스화에서 호출되는 첫 번째 메소드|\n",
    "|\\_\\_del\\_\\_|객체가 소멸될 때 호출되는 메소드|\n",
    "|\\_\\_dir\\_\\_|클래스의 인스턴스에서 dir()이 호출될 때의 동작을 정의|\n",
    "|\\_\\_getattr\\_\\_|존재하지 않는 속성에 엑세스하려고 시도할 때 행위를 정의|\n",
    "|\\_\\_setattr\\_\\_|캡슐화를 위한 방법 정의|\n",
    "|\\_\\_add\\_\\_|두 인스턴스의 더하기가 일어날 때 실행되는 동작 정의|\n",
    "|\\_\\_lt\\_\\_, \\_\\_le\\_\\_, \\_\\_gt\\_\\_, \\_\\_ge\\_\\_, \\_\\_eq\\_\\_, \\_\\_ne\\_\\_|인스턴스 간의 <, <=, >, >=, ==, != 비교 메소드|\n",
    "\n",
    "#### 📌 생성자 \\_\\_init\\_\\_"
   ]
  },
  {
   "cell_type": "code",
   "execution_count": 7,
   "id": "2109d528",
   "metadata": {},
   "outputs": [
    {
     "name": "stdout",
     "output_type": "stream",
     "text": [
      "Han\n",
      "Python Programming\n",
      "Jupyter\n",
      "2022\n",
      "1\n"
     ]
    }
   ],
   "source": [
    "class Book:\n",
    "    count = 0\n",
    "    \n",
    "    def __init__(self, author, title, publisher, date):\n",
    "        self.author = author\n",
    "        self.title = title\n",
    "        self.publisher = publisher\n",
    "        self.date = date\n",
    "        Book.count += 1\n",
    "\n",
    "book = Book(\"Han\", \"Python Programming\", \"Jupyter\", \"2022\")\n",
    "print(book.author)\n",
    "print(book.title)\n",
    "print(book.publisher)\n",
    "print(book.date)\n",
    "print(Book.count)"
   ]
  },
  {
   "cell_type": "markdown",
   "id": "9377edbc",
   "metadata": {},
   "source": [
    "## 🗂️ 클래스 상속(Class Inheritance)\n",
    "\n",
    "#### 📌 클래스 상속\n",
    "- 기존에 정의해둔 클래스의 기능을 그대로 물려받을 수 있음\n",
    "- 기존 클래스에 기능 일부를 추가하거나 변경하여 새로운 클래스를 정의\n",
    "- 코드를 재사용할 수 있음\n",
    "- 상속 받고자 하는 대상인 기존 클래스는 Parent, Super, Base 클래스라고 부름\n",
    "- 상속 받는 새로운 클래스는 Child, Sub, Derived 클래스라고 부름\n",
    "- 의미적으로 is-a 관계를 가짐"
   ]
  },
  {
   "cell_type": "code",
   "execution_count": 8,
   "id": "0a67dc17",
   "metadata": {},
   "outputs": [],
   "source": [
    "class FourCal:\n",
    "    def __init__(self, n1, n2):\n",
    "        self.n1 = n1\n",
    "        self.n2 = n2\n",
    "        \n",
    "    def add(self):\n",
    "        return self.n1 + self.n2\n",
    "    \n",
    "    def sub(self):\n",
    "        return self.n1 - self.n2\n",
    "    \n",
    "    def mul(self):\n",
    "        return self.n1 * self.n2\n",
    "    \n",
    "    def div(self):\n",
    "        return self.n1 / self.n2"
   ]
  },
  {
   "cell_type": "code",
   "execution_count": 9,
   "id": "af4951ed",
   "metadata": {},
   "outputs": [
    {
     "name": "stdout",
     "output_type": "stream",
     "text": [
      "16\n"
     ]
    }
   ],
   "source": [
    "class MoreFourCal(FourCal):\n",
    "    def pow(self):\n",
    "        return self.n1 ** self.n2\n",
    "\n",
    "a = MoreFourCal(4, 2)\n",
    "print(a.pow())"
   ]
  },
  {
   "cell_type": "markdown",
   "id": "0c022746",
   "metadata": {},
   "source": [
    "## 🗂️ 메소드 오버라이딩(Method Overriding) \n",
    "\n",
    "#### 📌 메소드 오버라이딩\n",
    "- 부모 클래스의 메소드를 재정의\n",
    "- 하위 클래스(자식 클래스)의 인스턴스로 호출 시 재정의된 메소드가 호출됨"
   ]
  },
  {
   "cell_type": "code",
   "execution_count": 10,
   "id": "9642499c",
   "metadata": {},
   "outputs": [
    {
     "data": {
      "text/plain": [
       "'ZeroDivisionError'"
      ]
     },
     "execution_count": 10,
     "metadata": {},
     "output_type": "execute_result"
    }
   ],
   "source": [
    "class SafeFourCal(FourCal):\n",
    "    def div(self):\n",
    "        if self.n2 == 0:\n",
    "            return \"ZeroDivisionError\"\n",
    "        else:\n",
    "            return self.n1 / self.n2\n",
    "\n",
    "a = SafeFourCal(4, 0)\n",
    "a.div()"
   ]
  },
  {
   "cell_type": "markdown",
   "id": "5641b5f1",
   "metadata": {},
   "source": [
    "#### 📌 super()\n",
    "- ```super()``` 함수는 하위 클래스(자식 클래스)에서 부모 클래스의 메소드를 호출할 때 사용"
   ]
  },
  {
   "cell_type": "code",
   "execution_count": 11,
   "id": "75802ba8",
   "metadata": {},
   "outputs": [
    {
     "name": "stdout",
     "output_type": "stream",
     "text": [
      "더하기 연산의 결과입니다\n",
      "6\n"
     ]
    }
   ],
   "source": [
    "class PrintFourCal(FourCal):\n",
    "    def add(self):\n",
    "        print(\"더하기 연산의 결과입니다\")\n",
    "        print(super().add())\n",
    "        \n",
    "a = PrintFourCal(4, 2)\n",
    "a.add()"
   ]
  }
 ],
 "metadata": {
  "kernelspec": {
   "display_name": "Python 3 (ipykernel)",
   "language": "python",
   "name": "python3"
  },
  "language_info": {
   "codemirror_mode": {
    "name": "ipython",
    "version": 3
   },
   "file_extension": ".py",
   "mimetype": "text/x-python",
   "name": "python",
   "nbconvert_exporter": "python",
   "pygments_lexer": "ipython3",
   "version": "3.9.12"
  }
 },
 "nbformat": 4,
 "nbformat_minor": 5
}
