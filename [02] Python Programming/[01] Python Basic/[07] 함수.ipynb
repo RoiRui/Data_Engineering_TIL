{
 "cells": [
  {
   "cell_type": "markdown",
   "id": "175d80bc",
   "metadata": {},
   "source": [
    "## 🗂️ 함수(Function) 기본\n",
    "\n",
    "#### 📌 함수 개념\n",
    "- 특정 값을 인자로 받고 결과 값을 반환\n",
    "- 함수가 필요할 때마다 호출 가능\n",
    "- 논리적인 단위로 분할 가능\n",
    "- 코드의 재사용성을 높임\n",
    "- 코드의 캡슐화(Capsulation)\n",
    "- 중복되는 소스 코드 최소화\n",
    "\n",
    "#### 📌 함수 선언\n",
    "- 함수 선언 문법\n",
    "```\n",
    "def 함수명(매개변수):\n",
    "    수행문\n",
    "    return 반환값\n",
    "```\n",
    "\n",
    "- def? 함수 정의 키워드\n",
    "- 매개변수? 함수로 전달되는 값을 받는 변수(생략 가능)\n",
    "- 반환 값? 함수가 특정 기능을 수행하고 돌려주는 결과 값(생략 가능)\n",
    "\n",
    "#### 📌 매개변수와 반환 값이 없는 함수"
   ]
  },
  {
   "cell_type": "code",
   "execution_count": 1,
   "id": "1c8fb7f4",
   "metadata": {},
   "outputs": [
    {
     "name": "stdout",
     "output_type": "stream",
     "text": [
      "Hello\n"
     ]
    }
   ],
   "source": [
    "def hello():\n",
    "    print(\"Hello\")\n",
    "\n",
    "hello()"
   ]
  },
  {
   "cell_type": "markdown",
   "id": "42f816bd",
   "metadata": {},
   "source": [
    "#### 📌 매개변수만 있는 함수"
   ]
  },
  {
   "cell_type": "code",
   "execution_count": 2,
   "id": "706271d2",
   "metadata": {},
   "outputs": [
    {
     "name": "stdout",
     "output_type": "stream",
     "text": [
      "Hello World\n"
     ]
    }
   ],
   "source": [
    "def hello(text):\n",
    "    print(\"Hello \" + text)\n",
    "\n",
    "hello(\"World\")"
   ]
  },
  {
   "cell_type": "markdown",
   "id": "8db457d9",
   "metadata": {},
   "source": [
    "#### 📌 반환 값만 있는 함수"
   ]
  },
  {
   "cell_type": "code",
   "execution_count": 3,
   "id": "86007562",
   "metadata": {},
   "outputs": [
    {
     "data": {
      "text/plain": [
       "'Hello Python'"
      ]
     },
     "execution_count": 3,
     "metadata": {},
     "output_type": "execute_result"
    }
   ],
   "source": [
    "def hello():\n",
    "    return \"Hello Python\"\n",
    "\n",
    "hello()"
   ]
  },
  {
   "cell_type": "markdown",
   "id": "9d6a5487",
   "metadata": {},
   "source": [
    "#### 📌 매개변수와 반환 값이 있는 함수"
   ]
  },
  {
   "cell_type": "code",
   "execution_count": 4,
   "id": "a34dfd36",
   "metadata": {},
   "outputs": [
    {
     "name": "stdout",
     "output_type": "stream",
     "text": [
      "25\n"
     ]
    }
   ],
   "source": [
    "def square(num):\n",
    "    return num * num\n",
    "\n",
    "print(square(5))"
   ]
  },
  {
   "cell_type": "markdown",
   "id": "45b3c80d",
   "metadata": {},
   "source": [
    "#### 📌 여러 반환 값이 있는 함수\n",
    "- 여러 반환 값을 사용할 경우 튜플 형태로 반환"
   ]
  },
  {
   "cell_type": "code",
   "execution_count": 5,
   "id": "4e1418c2",
   "metadata": {},
   "outputs": [
    {
     "name": "stdout",
     "output_type": "stream",
     "text": [
      "<class 'tuple'>\n",
      "(13, 3)\n",
      "13\n",
      "7\n"
     ]
    }
   ],
   "source": [
    "def plus_and_minus(num1, num2):\n",
    "    return num1 + num2, num1 - num2\n",
    "\n",
    "result = plus_and_minus(8, 5)\n",
    "print(type(result))\n",
    "print(result)\n",
    "\n",
    "result1, result2 = plus_and_minus(10, 3)\n",
    "print(result1)\n",
    "print(result2)"
   ]
  },
  {
   "cell_type": "markdown",
   "id": "d0de0149",
   "metadata": {},
   "source": [
    "#### 📌 위치 인수 · 키워드 인수\n",
    "- 위치 인수란 함수 호출 시 위치에 의하여 구별하는 방식을 의미\n",
    "- 매개변수의 순서대로 인수를 전달하여 사용하는 경우에 사용"
   ]
  },
  {
   "cell_type": "code",
   "execution_count": 6,
   "id": "48126beb",
   "metadata": {},
   "outputs": [
    {
     "name": "stdout",
     "output_type": "stream",
     "text": [
      "10\n"
     ]
    }
   ],
   "source": [
    "def add(num1, num2):\n",
    "    return num1 + num2\n",
    "\n",
    "print(add(3, 7))"
   ]
  },
  {
   "cell_type": "markdown",
   "id": "431c69f6",
   "metadata": {},
   "source": [
    "- 키워드 인수란 인수들 앞에 키워드를 두어서 인수를 구별하는 방식을 의미\n",
    "- 인수의 위치가 매개변수의 위치와 달라도 됨"
   ]
  },
  {
   "cell_type": "code",
   "execution_count": 7,
   "id": "08e0438d",
   "metadata": {},
   "outputs": [
    {
     "name": "stdout",
     "output_type": "stream",
     "text": [
      "10\n"
     ]
    }
   ],
   "source": [
    "def add(num1, num2):\n",
    "    return num1 + num2\n",
    "\n",
    "print(add(num2 = 7, num1 = 3))"
   ]
  },
  {
   "cell_type": "markdown",
   "id": "04d70f68",
   "metadata": {},
   "source": [
    "- 위치 인수와 키워드 인수를 섞어서 사용해도 되지만 위치 인수를 키워드 인수보다 앞에 두어야 함"
   ]
  },
  {
   "cell_type": "code",
   "execution_count": 8,
   "id": "cb1124cf",
   "metadata": {},
   "outputs": [
    {
     "name": "stdout",
     "output_type": "stream",
     "text": [
      "10\n"
     ]
    }
   ],
   "source": [
    "print(add(3, num2 = 7))"
   ]
  },
  {
   "cell_type": "code",
   "execution_count": 9,
   "id": "5dfe81ad",
   "metadata": {},
   "outputs": [
    {
     "ename": "SyntaxError",
     "evalue": "positional argument follows keyword argument (1940374657.py, line 1)",
     "output_type": "error",
     "traceback": [
      "\u001b[1;36m  Input \u001b[1;32mIn [9]\u001b[1;36m\u001b[0m\n\u001b[1;33m    print(add(num2 = 7, 3))\u001b[0m\n\u001b[1;37m                         ^\u001b[0m\n\u001b[1;31mSyntaxError\u001b[0m\u001b[1;31m:\u001b[0m positional argument follows keyword argument\n"
     ]
    }
   ],
   "source": [
    "print(add(num2 = 7, 3))"
   ]
  },
  {
   "cell_type": "markdown",
   "id": "4cbf8423",
   "metadata": {},
   "source": [
    "#### 📌 가변길이 매개변수 *args\n",
    "- 매개변수가 몇 개인지 알 수 없을 때 사용\n",
    "- 매개변수 앞에 ```*```을 표시\n",
    "- 해당 매개변수는 튜플에 저장됨"
   ]
  },
  {
   "cell_type": "code",
   "execution_count": 10,
   "id": "0cab3704",
   "metadata": {},
   "outputs": [
    {
     "name": "stdout",
     "output_type": "stream",
     "text": [
      "<class 'tuple'>\n",
      "손흥민 황의조 황희찬 "
     ]
    }
   ],
   "source": [
    "def show_players(*players):\n",
    "    print(type(players))\n",
    "    \n",
    "    for player in players:\n",
    "        print(player, end = \" \")\n",
    "\n",
    "show_players(\"손흥민\", \"황의조\", \"황희찬\")"
   ]
  },
  {
   "cell_type": "markdown",
   "id": "dbbae083",
   "metadata": {},
   "source": [
    "#### 📌 가변길이 키워드 매개변수 **kwargs\n",
    "- 매개변수가 몇 개인지 알 수 없을 때 사용\n",
    "- 매개변수 앞에 ```**```을 표시\n",
    "- 해당 매개변수는 딕셔너리가 되고 모든 key=value 형태의 결과값이 그 딕셔너리에 저장됨"
   ]
  },
  {
   "cell_type": "code",
   "execution_count": 11,
   "id": "1fdab518",
   "metadata": {},
   "outputs": [
    {
     "name": "stdout",
     "output_type": "stream",
     "text": [
      "<class 'dict'>\n",
      "id name phone \n",
      "sun kim 010-1234-1234 "
     ]
    }
   ],
   "source": [
    "def show_keywords(**info):\n",
    "    print(type(info))\n",
    "    \n",
    "    for key in info.keys():\n",
    "        print(key, end = \" \")\n",
    "        \n",
    "    print()\n",
    "    \n",
    "    for value in info.values():\n",
    "        print(value, end = \" \")\n",
    "\n",
    "show_keywords(id = \"sun\", name = \"kim\", phone = \"010-1234-1234\")"
   ]
  },
  {
   "cell_type": "markdown",
   "id": "92a09f03",
   "metadata": {},
   "source": [
    "#### 📌 디폴트 매개변수\n",
    "- 인수가 매개변수로 전달되지 않았을 경우 매개변수가 사용하는 기본값\n",
    "- 디폴트 매개변수는 항상 마지막에 위치해야 함"
   ]
  },
  {
   "cell_type": "code",
   "execution_count": 12,
   "id": "661983d5",
   "metadata": {},
   "outputs": [
    {
     "name": "stdout",
     "output_type": "stream",
     "text": [
      "홍길동 잘 지내죠?\n",
      "이몽룡 안녕\n"
     ]
    }
   ],
   "source": [
    "def greet(name, msg = \"안녕\"):\n",
    "    print(name + \" \" + msg)\n",
    "    \n",
    "greet(\"홍길동\", \"잘 지내죠?\")\n",
    "greet(\"이몽룡\")"
   ]
  },
  {
   "cell_type": "markdown",
   "id": "4b4f258d",
   "metadata": {},
   "source": [
    "#### 📌 return 응용\n",
    "- 특별한 상황일 때 함수에서 빠져나가고 싶은 경우 return을 단독으로 써서 함수를 즉시 빠져나갈 수 있음"
   ]
  },
  {
   "cell_type": "code",
   "execution_count": 13,
   "id": "9101a1bf",
   "metadata": {
    "scrolled": true
   },
   "outputs": [
    {
     "name": "stdout",
     "output_type": "stream",
     "text": [
      "나의 별명은 왕자입니다\n"
     ]
    }
   ],
   "source": [
    "def say_nick(nick):\n",
    "    if nick == \"바보\":\n",
    "        return\n",
    "    print(f\"나의 별명은 {nick}입니다\")\n",
    "    \n",
    "say_nick(\"왕자\")\n",
    "say_nick(\"바보\")"
   ]
  },
  {
   "cell_type": "markdown",
   "id": "9fe98edb",
   "metadata": {},
   "source": [
    "## 🗂️ 변수의 유효범위\n",
    "\n",
    "#### 📌 변수의 종류\n",
    "- 지역변수\n",
    "    - 함수 내부에서 정의된 변수\n",
    "    - 함수 내에서만 사용이 가능하며 함수 호출 시 생성되고 함수가 종료되면 소멸되어 더 이상 사용할 수 없음\n",
    "    - 함수의 매개변수 또한 외부로부터 값을 전달 받아서 함수 내부에서만 사용하는 지역변수임\n",
    "- 전역변수\n",
    "    - 함수 외부에서 정의된 변수\n",
    "    - 프로그램 내 모든 곳에서 사용이 가능함\n",
    "    - 함수 내에서 전역 변수의 값을 변경하려면 global 키워드를 사용"
   ]
  },
  {
   "cell_type": "code",
   "execution_count": 14,
   "id": "b8750174",
   "metadata": {},
   "outputs": [
    {
     "name": "stdout",
     "output_type": "stream",
     "text": [
      "2083212520336\n",
      "20\n",
      "2083212520016\n",
      "10\n"
     ]
    }
   ],
   "source": [
    "a = 10\n",
    "\n",
    "def func1():\n",
    "    a = 20 # func1 내에서만 사용되는 지역변수\n",
    "    print(id(a))\n",
    "    print(a)\n",
    "    \n",
    "def func2():\n",
    "    print(id(a))\n",
    "    print(a) # 전역변수\n",
    "    \n",
    "func1()\n",
    "func2()"
   ]
  },
  {
   "cell_type": "code",
   "execution_count": 15,
   "id": "b4c5b623",
   "metadata": {},
   "outputs": [
    {
     "name": "stdout",
     "output_type": "stream",
     "text": [
      "2083212520336\n",
      "20\n",
      "2083212520336\n",
      "20\n"
     ]
    }
   ],
   "source": [
    "a = 10\n",
    "\n",
    "def func1():\n",
    "    global a # 전역변수 a를 사용하기 위해 global 키워드 사용\n",
    "    a = 20\n",
    "    print(id(a))\n",
    "    print(a)\n",
    "    \n",
    "def func2():\n",
    "    print(id(a))\n",
    "    print(a)\n",
    "    \n",
    "func1()\n",
    "func2()"
   ]
  },
  {
   "cell_type": "markdown",
   "id": "7bafbdbe",
   "metadata": {},
   "source": [
    "## 🗂️ 함수(Function) 심화\n",
    "\n",
    "#### 📌 내부 함수(Nested Function)\n",
    "- 함수 안에 함수가 존재\n",
    "- 내부 함수는 외부에서 호출 불가"
   ]
  },
  {
   "cell_type": "code",
   "execution_count": 16,
   "id": "4123c8d4",
   "metadata": {},
   "outputs": [
    {
     "name": "stdout",
     "output_type": "stream",
     "text": [
      "13\n"
     ]
    },
    {
     "ename": "NameError",
     "evalue": "name 'func4' is not defined",
     "output_type": "error",
     "traceback": [
      "\u001b[1;31m---------------------------------------------------------------------------\u001b[0m",
      "\u001b[1;31mNameError\u001b[0m                                 Traceback (most recent call last)",
      "Input \u001b[1;32mIn [16]\u001b[0m, in \u001b[0;36m<cell line: 7>\u001b[1;34m()\u001b[0m\n\u001b[0;32m      4\u001b[0m     \u001b[38;5;28;01mreturn\u001b[39;00m func4(n1, n2)\n\u001b[0;32m      6\u001b[0m \u001b[38;5;28mprint\u001b[39m(func3(\u001b[38;5;241m5\u001b[39m, \u001b[38;5;241m8\u001b[39m))\n\u001b[1;32m----> 7\u001b[0m \u001b[38;5;28mprint\u001b[39m(\u001b[43mfunc4\u001b[49m(\u001b[38;5;241m5\u001b[39m, \u001b[38;5;241m8\u001b[39m))\n",
      "\u001b[1;31mNameError\u001b[0m: name 'func4' is not defined"
     ]
    }
   ],
   "source": [
    "def func3(n1, n2):\n",
    "    def func4(num1, num2):\n",
    "        return num1 + num2\n",
    "    return func4(n1, n2)\n",
    "\n",
    "print(func3(5, 8))\n",
    "print(func4(5, 8))"
   ]
  },
  {
   "cell_type": "markdown",
   "id": "dd351be3",
   "metadata": {},
   "source": [
    "#### 📌 재귀 함수(Recursive Function)\n",
    "- 함수가 자기 자신을 다시 호출하는 함수"
   ]
  },
  {
   "cell_type": "code",
   "execution_count": null,
   "id": "ba30383e",
   "metadata": {},
   "outputs": [],
   "source": [
    "def count(n):\n",
    "    if n >= 1:\n",
    "        print(n, end = \" \")\n",
    "        count(n - 1)\n",
    "    else:\n",
    "        return\n",
    "\n",
    "count(5)"
   ]
  },
  {
   "cell_type": "markdown",
   "id": "2ebe1f5a",
   "metadata": {},
   "source": [
    "#### 📌 람다 함수(Lambda Function)\n",
    "- 함수를 한 줄로 간결하게 만들어 사용"
   ]
  },
  {
   "cell_type": "code",
   "execution_count": null,
   "id": "6267b347",
   "metadata": {},
   "outputs": [],
   "source": [
    "add = lambda a, b : a + b\n",
    "print(add(1, 2))"
   ]
  },
  {
   "cell_type": "markdown",
   "id": "24e03e1e",
   "metadata": {},
   "source": [
    "#### 📌 map()\n",
    "- ```map()``` 함수는 built-in 함수로 리스트나 딕셔너리 같은 iterable한 데이터를 인자로 받아 개별 아이템을 함수의 인자로 전달하여 결과를 리스트 형태로 반환해 주는 함수\n",
    "- iterable 각 요소가 함수에 의해 수행된 결과 반환\n",
    "\n",
    "※ iterable vs iterator\n",
    "- iterable : member를 하나씩 차례로 반환 가능한 object\n",
    "- iterator : next() 메소드로 데이터를 순차적으로 호출 가능한 object\n",
    "- ```iter()``` 함수를 통해 iterable을 iterator로 만들 수 있음\n",
    "- iterable != iterator"
   ]
  },
  {
   "cell_type": "code",
   "execution_count": 17,
   "id": "4caf76f8",
   "metadata": {},
   "outputs": [
    {
     "name": "stdout",
     "output_type": "stream",
     "text": [
      "[1, 4, 9, 16, 25]\n"
     ]
    }
   ],
   "source": [
    "l = [1, 2, 3, 4, 5]\n",
    "square = lambda n : n * n\n",
    "l = list(map(square, l))\n",
    "print(l)"
   ]
  },
  {
   "cell_type": "code",
   "execution_count": 18,
   "id": "b2595eb2",
   "metadata": {},
   "outputs": [
    {
     "name": "stdout",
     "output_type": "stream",
     "text": [
      "[7, 9, 11, 13, 15]\n"
     ]
    }
   ],
   "source": [
    "l1 = [1, 2, 3, 4, 5]\n",
    "l2 = [6, 7, 8, 9, 10]\n",
    "l3 = list(map(lambda p1, p2 : p1 + p2, l1, l2))\n",
    "print(l3)"
   ]
  },
  {
   "cell_type": "markdown",
   "id": "2ea9dd92",
   "metadata": {},
   "source": [
    "#### 📌 filter()\n",
    "- ```filter()``` 함수는 iterable한 데이터를 인자로 개별 item을 특정 조건에 해당하는 값으로만 필터링"
   ]
  },
  {
   "cell_type": "code",
   "execution_count": 19,
   "id": "10dd3d22",
   "metadata": {},
   "outputs": [
    {
     "name": "stdout",
     "output_type": "stream",
     "text": [
      "[0, 2, 4, 6, 8]\n"
     ]
    }
   ],
   "source": [
    "l = list(range(10))\n",
    "evens = filter(lambda n : n % 2 == 0, l)\n",
    "print(list(evens))"
   ]
  },
  {
   "cell_type": "markdown",
   "id": "edf30642",
   "metadata": {},
   "source": [
    "#### 📌 reduce()\n",
    "- ```reduce()``` 함수는 iterable한 데이터를 인자로 받아 개별 item을 축약하여 하나의 값으로 만들어가는 과정"
   ]
  },
  {
   "cell_type": "code",
   "execution_count": 20,
   "id": "2b4b938f",
   "metadata": {},
   "outputs": [
    {
     "name": "stdout",
     "output_type": "stream",
     "text": [
      "45\n"
     ]
    }
   ],
   "source": [
    "import functools\n",
    "\n",
    "l = list(range(10))\n",
    "sum = functools.reduce(lambda x, y : x + y, l)\n",
    "print(sum)"
   ]
  },
  {
   "cell_type": "markdown",
   "id": "dbbccbbb",
   "metadata": {},
   "source": [
    "## 🗂️ 제네레이터(Generator)와 yield\n",
    "- iterator를 생성해주는 함수\n",
    "- 함수 내에 ```yield``` 키워드를 사용함\n",
    "\n",
    "#### 📌 yield\n",
    "- ```yield``` : 함수를 끝내지 않고 값을 계속 반환"
   ]
  },
  {
   "cell_type": "code",
   "execution_count": 21,
   "id": "d483d287",
   "metadata": {},
   "outputs": [],
   "source": [
    "def gen():\n",
    "    print(\"yield 1 전\")\n",
    "    yield 1\n",
    "    print(\"yield 1과 2 사이\")\n",
    "    yield 2\n",
    "    print(\"yield 2와 3 사이\")\n",
    "    yield 3\n",
    "    print(\"yield 3 후\")"
   ]
  },
  {
   "cell_type": "code",
   "execution_count": 22,
   "id": "6f727216",
   "metadata": {},
   "outputs": [],
   "source": [
    "g1 = gen()"
   ]
  },
  {
   "cell_type": "code",
   "execution_count": 23,
   "id": "1aaf45cd",
   "metadata": {},
   "outputs": [
    {
     "name": "stdout",
     "output_type": "stream",
     "text": [
      "yield 1 전\n",
      "1\n"
     ]
    }
   ],
   "source": [
    "print(next(g1))"
   ]
  },
  {
   "cell_type": "code",
   "execution_count": 24,
   "id": "e182bed5",
   "metadata": {},
   "outputs": [
    {
     "name": "stdout",
     "output_type": "stream",
     "text": [
      "yield 1과 2 사이\n",
      "2\n"
     ]
    }
   ],
   "source": [
    "print(next(g1))"
   ]
  },
  {
   "cell_type": "code",
   "execution_count": 25,
   "id": "adb9594d",
   "metadata": {},
   "outputs": [
    {
     "name": "stdout",
     "output_type": "stream",
     "text": [
      "yield 2와 3 사이\n",
      "3\n"
     ]
    }
   ],
   "source": [
    "print(next(g1))"
   ]
  },
  {
   "cell_type": "code",
   "execution_count": 26,
   "id": "aeb2e567",
   "metadata": {},
   "outputs": [],
   "source": [
    "def infinite_generator():\n",
    "    count = 0\n",
    "    while True:\n",
    "        count += 1\n",
    "        yield count"
   ]
  },
  {
   "cell_type": "code",
   "execution_count": 27,
   "id": "e2720762",
   "metadata": {},
   "outputs": [],
   "source": [
    "g2 = infinite_generator()"
   ]
  },
  {
   "cell_type": "code",
   "execution_count": 28,
   "id": "71bec991",
   "metadata": {},
   "outputs": [
    {
     "name": "stdout",
     "output_type": "stream",
     "text": [
      "1\n"
     ]
    }
   ],
   "source": [
    "print(next(g2))"
   ]
  },
  {
   "cell_type": "code",
   "execution_count": 29,
   "id": "82bfd4cb",
   "metadata": {},
   "outputs": [
    {
     "name": "stdout",
     "output_type": "stream",
     "text": [
      "2\n"
     ]
    }
   ],
   "source": [
    "print(next(g2))"
   ]
  },
  {
   "cell_type": "code",
   "execution_count": 30,
   "id": "34a6f108",
   "metadata": {},
   "outputs": [
    {
     "name": "stdout",
     "output_type": "stream",
     "text": [
      "3\n"
     ]
    }
   ],
   "source": [
    "print(next(g2))"
   ]
  },
  {
   "cell_type": "code",
   "execution_count": 31,
   "id": "b9d6f849",
   "metadata": {},
   "outputs": [
    {
     "name": "stdout",
     "output_type": "stream",
     "text": [
      "4\n"
     ]
    }
   ],
   "source": [
    "print(next(g2))"
   ]
  },
  {
   "cell_type": "code",
   "execution_count": 32,
   "id": "59c5ec08",
   "metadata": {},
   "outputs": [
    {
     "name": "stdout",
     "output_type": "stream",
     "text": [
      "5\n"
     ]
    }
   ],
   "source": [
    "print(next(g2))"
   ]
  },
  {
   "cell_type": "markdown",
   "id": "f208424a",
   "metadata": {},
   "source": [
    "#### 📌 yield from\n",
    "- ```yield from``` : 반복문 없이 iterable한 객체를 yield 할 수 있음"
   ]
  },
  {
   "cell_type": "code",
   "execution_count": 33,
   "id": "b3bc4fb4",
   "metadata": {},
   "outputs": [
    {
     "data": {
      "text/plain": [
       "[1, 2, 3]"
      ]
     },
     "execution_count": 33,
     "metadata": {},
     "output_type": "execute_result"
    }
   ],
   "source": [
    "def three_generator():\n",
    "    a = [1, 2, 3]\n",
    "    for i in a:\n",
    "        yield i\n",
    "\n",
    "g3 = three_generator()\n",
    "list(g3)"
   ]
  },
  {
   "cell_type": "code",
   "execution_count": 34,
   "id": "17a2f393",
   "metadata": {},
   "outputs": [
    {
     "data": {
      "text/plain": [
       "[1, 2, 3]"
      ]
     },
     "execution_count": 34,
     "metadata": {},
     "output_type": "execute_result"
    }
   ],
   "source": [
    "def three_generator():\n",
    "    a = [1, 2, 3]\n",
    "    yield from a\n",
    "\n",
    "g4 = three_generator()\n",
    "list(g4)"
   ]
  }
 ],
 "metadata": {
  "kernelspec": {
   "display_name": "Python 3 (ipykernel)",
   "language": "python",
   "name": "python3"
  },
  "language_info": {
   "codemirror_mode": {
    "name": "ipython",
    "version": 3
   },
   "file_extension": ".py",
   "mimetype": "text/x-python",
   "name": "python",
   "nbconvert_exporter": "python",
   "pygments_lexer": "ipython3",
   "version": "3.9.12"
  }
 },
 "nbformat": 4,
 "nbformat_minor": 5
}
