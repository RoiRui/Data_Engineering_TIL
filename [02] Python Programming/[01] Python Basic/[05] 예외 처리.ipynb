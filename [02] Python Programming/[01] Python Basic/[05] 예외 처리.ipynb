{
 "cells": [
  {
   "cell_type": "markdown",
   "id": "8f188afd",
   "metadata": {},
   "source": [
    "## 🗂️ 에러와 예외(Errors and Exceptions)\n",
    "\n",
    "#### 📌 에러 개념\n",
    "- 문법적 오류나 실행 시간에 잘못된 메모리 접근 오류, 논리 오류, 사용자의 잘못된 입력 오류 등을 의미\n",
    "- 오류가 발생하면 프로그램이 중단되고 에러 메세지가 출력\n",
    "\n",
    "|에러|설명|\n",
    "|:--:|:--:|\n",
    "|AssertionError|assert 문이 실패할 때 발생|\n",
    "|AttributeError|속성에 참조가 대입이 실패할 때 발생|\n",
    "|EOFError|EOF(End Of File) 조건을 만날 때 발생|\n",
    "|ImportError|import 문이 모듈 로드에 문제가 있을 때 발생|\n",
    "|ModuleNotFoundError|import 할 모듈을 찾을 수 없을 때 발생|\n",
    "|IndexError|시퀀스 인덱스가 범위를 벗어날 때 발생|\n",
    "|KeyError|딕셔너리 키가 키 집합에서 발견되지 않을 때 발생|\n",
    "|KeyboardIntterrupt|사용자가 인터럽트 키를 누를 때 발생|\n",
    "|MemoryError|작업에 메모리가 부족하지만 일부 객체를 삭제해서 복구될 수 있는 경우 발생|\n",
    "|NameError|지역 또는 전역 이름을 찾을 수 없을 때 발생|\n",
    "|NotImplementedError|RuntimeError에서 내용이 없는 메소드 호출 시 발생|\n",
    "|OSError|운영체제에서 에러가 있을 경우 발생|\n",
    "|OverflowError|산술 연산의 결과가 너무 커서 표현할 수 없을 때 발생|\n",
    "|RuntimeError|다른 범주에 속하지 않는 에러가 감지될 때 발생|\n",
    "|SyntaxError|문법 오류가 발견될 때 발생|\n",
    "|IndentationError|잘못된 들여쓰기와 관련된 문법 오류가 있을 때 발생|\n",
    "|TabError|들여쓰기가 일관성 없이 탭과 스페이스를 사용하는 경우 발생|\n",
    "|SystemError|인터프리터 내부에서 에러가 발견될 때 발생|\n",
    "|SystemExit|```sysexit()``` 함수가 호출될 때 발생|\n",
    "|TypeError|연산이나 함수가 부적절한 형의 객체에 적용될 때 발생|\n",
    "|UnboundLocalError|함수나 메소드에서 지역 변수를 참조하지만 해당 변수에 값이 연결되지 않으면 발생|\n",
    "|UnicodeError|유니코드 관련 인코딩 · 디코딩 에러가 일어날 때 발생|\n",
    "|ValueError|연산이나 함수가 올바른 자료형이지만 부적절한 값을 가진 인자를 받았을 때 생성|\n",
    "|ZeroDivisionError|0으로 다른 숫자를 나누는 경우에 발생|\n",
    "|FileExistsError|이미 존재하는 파일이나 디렉토리를 만들려고 할 때 발생|\n",
    "|FileNotFoundError|파일이나 디렉토리가 요청되었지만 존재하지 않을 때 발생|\n",
    "|InterruptedError|시스템 호출이 들어오는 시그널에 의해 중단될 때 발생|\n",
    "|isADirectoryError|디렉토리에 파일 연산이 요청되었을 때 발생|\n",
    "|NotADirectoryError|디렉토리가 아닌 것에 디렉토리 연산이 요청되었을 때 발생|\n",
    "|PermissionError|적절한 접근권한 없이 연산을 실행하려고 할 때 발생|\n",
    "|ProcessLockupError|주어진 프로세스가 존재하지 않을 때 발생|\n",
    "|TimeoutError|시스템 함수가 시스템 수준에서 시간이 초과될 때 발생|\n",
    "|Warning|오류는 아니지만 주의가 필요한 경고 시 발생|"
   ]
  },
  {
   "cell_type": "markdown",
   "id": "6d1f53e5",
   "metadata": {},
   "source": [
    "- ZeroDivisionError"
   ]
  },
  {
   "cell_type": "code",
   "execution_count": 1,
   "id": "7f20ffa0",
   "metadata": {},
   "outputs": [
    {
     "ename": "ZeroDivisionError",
     "evalue": "division by zero",
     "output_type": "error",
     "traceback": [
      "\u001b[1;31m---------------------------------------------------------------------------\u001b[0m",
      "\u001b[1;31mZeroDivisionError\u001b[0m                         Traceback (most recent call last)",
      "Input \u001b[1;32mIn [1]\u001b[0m, in \u001b[0;36m<cell line: 1>\u001b[1;34m()\u001b[0m\n\u001b[1;32m----> 1\u001b[0m \u001b[38;5;241;43m10\u001b[39;49m\u001b[43m \u001b[49m\u001b[38;5;241;43m/\u001b[39;49m\u001b[43m \u001b[49m\u001b[38;5;241;43m0\u001b[39;49m\n",
      "\u001b[1;31mZeroDivisionError\u001b[0m: division by zero"
     ]
    }
   ],
   "source": [
    "10 / 0"
   ]
  },
  {
   "cell_type": "markdown",
   "id": "30d1845d",
   "metadata": {},
   "source": [
    "- NameError"
   ]
  },
  {
   "cell_type": "code",
   "execution_count": 2,
   "id": "bd6cca90",
   "metadata": {},
   "outputs": [
    {
     "ename": "NameError",
     "evalue": "name 'var' is not defined",
     "output_type": "error",
     "traceback": [
      "\u001b[1;31m---------------------------------------------------------------------------\u001b[0m",
      "\u001b[1;31mNameError\u001b[0m                                 Traceback (most recent call last)",
      "Input \u001b[1;32mIn [2]\u001b[0m, in \u001b[0;36m<cell line: 1>\u001b[1;34m()\u001b[0m\n\u001b[1;32m----> 1\u001b[0m \u001b[43mvar\u001b[49m \u001b[38;5;241m+\u001b[39m \u001b[38;5;241m3\u001b[39m\n",
      "\u001b[1;31mNameError\u001b[0m: name 'var' is not defined"
     ]
    }
   ],
   "source": [
    "var + 3"
   ]
  },
  {
   "cell_type": "markdown",
   "id": "31760cbb",
   "metadata": {},
   "source": [
    "- TypeError"
   ]
  },
  {
   "cell_type": "code",
   "execution_count": 3,
   "id": "659510b9",
   "metadata": {},
   "outputs": [
    {
     "ename": "TypeError",
     "evalue": "can only concatenate str (not \"int\") to str",
     "output_type": "error",
     "traceback": [
      "\u001b[1;31m---------------------------------------------------------------------------\u001b[0m",
      "\u001b[1;31mTypeError\u001b[0m                                 Traceback (most recent call last)",
      "Input \u001b[1;32mIn [3]\u001b[0m, in \u001b[0;36m<cell line: 1>\u001b[1;34m()\u001b[0m\n\u001b[1;32m----> 1\u001b[0m \u001b[38;5;124;43m\"\u001b[39;49m\u001b[38;5;124;43m1\u001b[39;49m\u001b[38;5;124;43m\"\u001b[39;49m\u001b[43m \u001b[49m\u001b[38;5;241;43m+\u001b[39;49m\u001b[43m \u001b[49m\u001b[38;5;241;43m2\u001b[39;49m\n",
      "\u001b[1;31mTypeError\u001b[0m: can only concatenate str (not \"int\") to str"
     ]
    }
   ],
   "source": [
    "\"1\" + 2"
   ]
  },
  {
   "cell_type": "markdown",
   "id": "6b61c63c",
   "metadata": {},
   "source": [
    "- ValueError"
   ]
  },
  {
   "cell_type": "code",
   "execution_count": 4,
   "id": "920e8930",
   "metadata": {},
   "outputs": [
    {
     "ename": "ValueError",
     "evalue": "invalid literal for int() with base 10: 'string'",
     "output_type": "error",
     "traceback": [
      "\u001b[1;31m---------------------------------------------------------------------------\u001b[0m",
      "\u001b[1;31mValueError\u001b[0m                                Traceback (most recent call last)",
      "Input \u001b[1;32mIn [4]\u001b[0m, in \u001b[0;36m<cell line: 1>\u001b[1;34m()\u001b[0m\n\u001b[1;32m----> 1\u001b[0m \u001b[38;5;28;43mint\u001b[39;49m\u001b[43m(\u001b[49m\u001b[38;5;124;43m\"\u001b[39;49m\u001b[38;5;124;43mstring\u001b[39;49m\u001b[38;5;124;43m\"\u001b[39;49m\u001b[43m)\u001b[49m\n",
      "\u001b[1;31mValueError\u001b[0m: invalid literal for int() with base 10: 'string'"
     ]
    }
   ],
   "source": [
    "int(\"string\")"
   ]
  },
  {
   "cell_type": "markdown",
   "id": "5bc542bd",
   "metadata": {},
   "source": [
    "#### 📌 예외 개념\n",
    "- 오류에 대처하기 위한 오류\n",
    "- 예외는 주로 실행 중에 발생\n",
    "\n",
    "## 🗂️ 예외 처리(Exception Handling)\n",
    "\n",
    "#### 📌 try ~ except ~ else ~ finally 문\n",
    "- try 문을 통해 예외 발생 가능한 코드에 정의\n",
    "- except 문을 이용해 예외 처리 방법을 정의\n",
    "- else 문을 통해 에러가 발생하지 않았을 때 수행할 코드를 정의 (생략 가능)\n",
    "- finally 문을 통해 에러 발생 유무와 관계없이 수행할 코드를 정의 (생략 가능)"
   ]
  },
  {
   "cell_type": "code",
   "execution_count": 5,
   "id": "8e5f9b9f",
   "metadata": {},
   "outputs": [
    {
     "name": "stdout",
     "output_type": "stream",
     "text": [
      "에러 발생\n"
     ]
    }
   ],
   "source": [
    "try:\n",
    "    print(2 / 0)\n",
    "except:\n",
    "    print(\"에러 발생\")"
   ]
  },
  {
   "cell_type": "code",
   "execution_count": 6,
   "id": "4b0031e4",
   "metadata": {},
   "outputs": [
    {
     "name": "stdout",
     "output_type": "stream",
     "text": [
      "ZeroDivisionError 발생\n"
     ]
    }
   ],
   "source": [
    "try:\n",
    "    print(2 / 0)\n",
    "except ZeroDivisionError:\n",
    "    print(\"ZeroDivisionError 발생\")"
   ]
  },
  {
   "cell_type": "code",
   "execution_count": 7,
   "id": "2597a7bf",
   "metadata": {},
   "outputs": [
    {
     "name": "stdout",
     "output_type": "stream",
     "text": [
      "division by zero\n"
     ]
    }
   ],
   "source": [
    "try:\n",
    "    print(2 / 0)\n",
    "except ZeroDivisionError as e:\n",
    "    print(e)"
   ]
  },
  {
   "cell_type": "code",
   "execution_count": 8,
   "id": "02f29657",
   "metadata": {},
   "outputs": [
    {
     "name": "stdout",
     "output_type": "stream",
     "text": [
      "입력 : *\n",
      "invalid literal for int() with base 10: '*'\n",
      "종료되었습니다.\n"
     ]
    }
   ],
   "source": [
    "try:\n",
    "    n = int(input(\"입력 : \"))\n",
    "    result = 1 / n\n",
    "except ZeroDivisionError as e:\n",
    "    print(e)\n",
    "except ValueError as e:\n",
    "    print(e)\n",
    "else:\n",
    "    print(result)\n",
    "finally:\n",
    "    print(\"종료되었습니다.\")"
   ]
  },
  {
   "cell_type": "markdown",
   "id": "6ef98b3f",
   "metadata": {},
   "source": [
    "#### 📌 raise 문\n",
    "- 직접적으로 에러를 발생\n",
    "- 에러의 종류와 에러 상황을 정의하고 발생"
   ]
  },
  {
   "cell_type": "code",
   "execution_count": 9,
   "id": "fa0eac18",
   "metadata": {},
   "outputs": [
    {
     "ename": "ZeroDivisionError",
     "evalue": "숫자를 0으로 나눔",
     "output_type": "error",
     "traceback": [
      "\u001b[1;31m---------------------------------------------------------------------------\u001b[0m",
      "\u001b[1;31mZeroDivisionError\u001b[0m                         Traceback (most recent call last)",
      "Input \u001b[1;32mIn [9]\u001b[0m, in \u001b[0;36m<cell line: 1>\u001b[1;34m()\u001b[0m\n\u001b[1;32m----> 1\u001b[0m \u001b[38;5;28;01mraise\u001b[39;00m \u001b[38;5;167;01mZeroDivisionError\u001b[39;00m(\u001b[38;5;124m\"\u001b[39m\u001b[38;5;124m숫자를 0으로 나눔\u001b[39m\u001b[38;5;124m\"\u001b[39m)\n",
      "\u001b[1;31mZeroDivisionError\u001b[0m: 숫자를 0으로 나눔"
     ]
    }
   ],
   "source": [
    "raise ZeroDivisionError(\"숫자를 0으로 나눔\")"
   ]
  },
  {
   "cell_type": "code",
   "execution_count": 10,
   "id": "e0b01702",
   "metadata": {},
   "outputs": [
    {
     "ename": "NameError",
     "evalue": "지역 또는 전역 이름을 찾을 수 없음",
     "output_type": "error",
     "traceback": [
      "\u001b[1;31m---------------------------------------------------------------------------\u001b[0m",
      "\u001b[1;31mNameError\u001b[0m                                 Traceback (most recent call last)",
      "Input \u001b[1;32mIn [10]\u001b[0m, in \u001b[0;36m<cell line: 1>\u001b[1;34m()\u001b[0m\n\u001b[1;32m----> 1\u001b[0m \u001b[38;5;28;01mraise\u001b[39;00m \u001b[38;5;167;01mNameError\u001b[39;00m(\u001b[38;5;124m\"\u001b[39m\u001b[38;5;124m지역 또는 전역 이름을 찾을 수 없음\u001b[39m\u001b[38;5;124m\"\u001b[39m)\n",
      "\u001b[1;31mNameError\u001b[0m: 지역 또는 전역 이름을 찾을 수 없음"
     ]
    }
   ],
   "source": [
    "raise NameError(\"지역 또는 전역 이름을 찾을 수 없음\")"
   ]
  },
  {
   "cell_type": "markdown",
   "id": "ea813e47",
   "metadata": {},
   "source": [
    "#### 📌 assert 문\n",
    "- raise 문과 달리 주로 검증을 위한 목적으로 작성\n",
    "- 상태를 검증하는 목적으로 작성되며 검증식이 포함됨\n",
    "- 검증식이 ```False```일 경우 ```AssertionError``` 발생"
   ]
  },
  {
   "cell_type": "code",
   "execution_count": 11,
   "id": "63378024",
   "metadata": {},
   "outputs": [],
   "source": [
    "assert True"
   ]
  },
  {
   "cell_type": "code",
   "execution_count": 12,
   "id": "b5eac9a4",
   "metadata": {},
   "outputs": [
    {
     "ename": "AssertionError",
     "evalue": "",
     "output_type": "error",
     "traceback": [
      "\u001b[1;31m---------------------------------------------------------------------------\u001b[0m",
      "\u001b[1;31mAssertionError\u001b[0m                            Traceback (most recent call last)",
      "Input \u001b[1;32mIn [12]\u001b[0m, in \u001b[0;36m<cell line: 1>\u001b[1;34m()\u001b[0m\n\u001b[1;32m----> 1\u001b[0m \u001b[38;5;28;01massert\u001b[39;00m \u001b[38;5;28;01mFalse\u001b[39;00m\n",
      "\u001b[1;31mAssertionError\u001b[0m: "
     ]
    }
   ],
   "source": [
    "assert False"
   ]
  },
  {
   "cell_type": "code",
   "execution_count": 13,
   "id": "3cadcd7a",
   "metadata": {},
   "outputs": [
    {
     "ename": "AssertionError",
     "evalue": "에러 발생",
     "output_type": "error",
     "traceback": [
      "\u001b[1;31m---------------------------------------------------------------------------\u001b[0m",
      "\u001b[1;31mAssertionError\u001b[0m                            Traceback (most recent call last)",
      "Input \u001b[1;32mIn [13]\u001b[0m, in \u001b[0;36m<cell line: 1>\u001b[1;34m()\u001b[0m\n\u001b[1;32m----> 1\u001b[0m \u001b[38;5;28;01massert\u001b[39;00m \u001b[38;5;28;01mFalse\u001b[39;00m, \u001b[38;5;124m\"\u001b[39m\u001b[38;5;124m에러 발생\u001b[39m\u001b[38;5;124m\"\u001b[39m\n",
      "\u001b[1;31mAssertionError\u001b[0m: 에러 발생"
     ]
    }
   ],
   "source": [
    "assert False, \"에러 발생\""
   ]
  },
  {
   "cell_type": "code",
   "execution_count": 14,
   "id": "694610be",
   "metadata": {},
   "outputs": [
    {
     "ename": "AssertionError",
     "evalue": "에러 발생",
     "output_type": "error",
     "traceback": [
      "\u001b[1;31m---------------------------------------------------------------------------\u001b[0m",
      "\u001b[1;31mAssertionError\u001b[0m                            Traceback (most recent call last)",
      "Input \u001b[1;32mIn [14]\u001b[0m, in \u001b[0;36m<cell line: 2>\u001b[1;34m()\u001b[0m\n\u001b[0;32m      1\u001b[0m b \u001b[38;5;241m=\u001b[39m \u001b[38;5;241m0\u001b[39m\n\u001b[1;32m----> 2\u001b[0m \u001b[38;5;28;01massert\u001b[39;00m b \u001b[38;5;241m!=\u001b[39m \u001b[38;5;241m0\u001b[39m, \u001b[38;5;124m\"\u001b[39m\u001b[38;5;124m에러 발생\u001b[39m\u001b[38;5;124m\"\u001b[39m\n",
      "\u001b[1;31mAssertionError\u001b[0m: 에러 발생"
     ]
    }
   ],
   "source": [
    "b = 0\n",
    "assert b != 0, \"에러 발생\""
   ]
  }
 ],
 "metadata": {
  "kernelspec": {
   "display_name": "Python 3 (ipykernel)",
   "language": "python",
   "name": "python3"
  },
  "language_info": {
   "codemirror_mode": {
    "name": "ipython",
    "version": 3
   },
   "file_extension": ".py",
   "mimetype": "text/x-python",
   "name": "python",
   "nbconvert_exporter": "python",
   "pygments_lexer": "ipython3",
   "version": "3.9.12"
  }
 },
 "nbformat": 4,
 "nbformat_minor": 5
}
