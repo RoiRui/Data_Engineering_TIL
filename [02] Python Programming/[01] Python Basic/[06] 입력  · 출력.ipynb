{
 "cells": [
  {
   "cell_type": "markdown",
   "id": "ccaabae1",
   "metadata": {},
   "source": [
    "## 🗂️ 표준 입출력(Standard Input/Output)\n",
    "\n",
    "#### 📌 표준 입력 함수\n",
    "- ```input()``` 함수 : 콘솔 창을 통해서 사용자의 입력을 받는 표준 입력 함수\n",
    "- ```input()``` 함수 안에 값을 입력 받기 위한 질문을 텍스트로 넣을 수 있음"
   ]
  },
  {
   "cell_type": "code",
   "execution_count": 1,
   "id": "3cc31474",
   "metadata": {},
   "outputs": [
    {
     "name": "stdout",
     "output_type": "stream",
     "text": [
      "값을 입력하세요 : 1\n",
      "1\n"
     ]
    }
   ],
   "source": [
    "x = input(\"값을 입력하세요 : \")\n",
    "print(x)"
   ]
  },
  {
   "cell_type": "code",
   "execution_count": 2,
   "id": "e21408e7",
   "metadata": {},
   "outputs": [
    {
     "name": "stdout",
     "output_type": "stream",
     "text": [
      "섭씨 온도 : 30\n",
      "화씨 온도 : 86.0\n"
     ]
    }
   ],
   "source": [
    "celsius = float(input(\"섭씨 온도 : \"))\n",
    "fahrenheit = (celsius * 1.8) + 32\n",
    "print(\"화씨 온도 : \" + str(fahrenheit))"
   ]
  },
  {
   "cell_type": "markdown",
   "id": "ca535f5b",
   "metadata": {},
   "source": [
    "#### 📌 표준 출력 함수\n",
    "- ```print()``` 함수 : 콘솔 창을 통해서 결과를 출력하는 표준 출력 함수\n",
    "- sep = 'separator' : 객체 분리 방법 지정 (기본 값은 ```\\n```)\n",
    "- end = 'end' : 끝에 출력할 항목 지정 (기본 값은 ```\\n```)"
   ]
  },
  {
   "cell_type": "code",
   "execution_count": 3,
   "id": "501312d7",
   "metadata": {},
   "outputs": [
    {
     "name": "stdout",
     "output_type": "stream",
     "text": [
      "Hello\n",
      "Hello/World\n",
      "Hello World!"
     ]
    }
   ],
   "source": [
    "print(\"Hello\")\n",
    "print(\"Hello\", \"World\", sep = \"/\")\n",
    "print(\"Hello World\", end = \"!\")"
   ]
  },
  {
   "cell_type": "markdown",
   "id": "1a428b59",
   "metadata": {},
   "source": [
    "## 🗂️ 파일 입출력(File Input/Output)\n",
    "\n",
    "#### 📌 파일 열기 · 닫기"
   ]
  },
  {
   "cell_type": "code",
   "execution_count": 4,
   "id": "2fae34f1",
   "metadata": {},
   "outputs": [],
   "source": [
    "# open() · close()\n",
    "f = open(\"file.txt\", \"w\")\n",
    "f.close()"
   ]
  },
  {
   "attachments": {
    "image.png": {
     "image/png": "[encoded data removed]"
    }
   },
   "cell_type": "markdown",
   "id": "11c4a912",
   "metadata": {},
   "source": [
    "![image.png](attachment:image.png)"
   ]
  },
  {
   "cell_type": "markdown",
   "id": "4af6cd79",
   "metadata": {},
   "source": [
    "#### 📌 파일 모드(File Mode)\n",
    "|파일 모드|설명|\n",
    "|:-------:|:--:|\n",
    "|r|읽기 모드(기본값)|\n",
    "|w|쓰기 모드(기존에 파일이 있으면 덮어쓰기)|\n",
    "|a|쓰기 모드(기존에 파일이 있으면 이어서 쓰기)|\n",
    "|+|읽기/쓰기 모드|\n",
    "|t|텍스트 모드(텍스트 파일 처리)|\n",
    "|b|이진 모드(이진 파일 처리)|"
   ]
  },
  {
   "cell_type": "markdown",
   "id": "e850db49",
   "metadata": {},
   "source": [
    "#### 📌 파일 쓰기"
   ]
  },
  {
   "cell_type": "code",
   "execution_count": 5,
   "id": "764796b1",
   "metadata": {},
   "outputs": [],
   "source": [
    "# write()\n",
    "f = open(\"file.txt\", \"w\")\n",
    "f.write(\"Hello World\")\n",
    "f.close()"
   ]
  },
  {
   "attachments": {
    "image.png": {
     "image/png": "[encoded data removed]"
    }
   },
   "cell_type": "markdown",
   "id": "0416cf9c",
   "metadata": {},
   "source": [
    "![image.png](attachment:image.png)"
   ]
  },
  {
   "cell_type": "code",
   "execution_count": 6,
   "id": "a0a51f85",
   "metadata": {},
   "outputs": [],
   "source": [
    "# write()\n",
    "list = [\"One\\n\", \"Two\\n\", \"Three\\n\"]\n",
    "\n",
    "f = open(\"file.txt\", \"w\")\n",
    "f.writelines(list)\n",
    "f.close()"
   ]
  },
  {
   "attachments": {
    "image.png": {
     "image/png": "[encoded data removed]"
    }
   },
   "cell_type": "markdown",
   "id": "892362ed",
   "metadata": {},
   "source": [
    "![image.png](attachment:image.png)"
   ]
  },
  {
   "cell_type": "code",
   "execution_count": 7,
   "id": "eeb933d0",
   "metadata": {},
   "outputs": [
    {
     "name": "stdout",
     "output_type": "stream",
     "text": [
      "입력 : Hello World\n"
     ]
    }
   ],
   "source": [
    "# write()\n",
    "text = input(\"입력 : \")\n",
    "f = open(\"file.txt\", \"w\")\n",
    "f.write(text)\n",
    "f.close()"
   ]
  },
  {
   "attachments": {
    "image.png": {
     "image/png": "[encoded data removed]"
    }
   },
   "cell_type": "markdown",
   "id": "3d381924",
   "metadata": {},
   "source": [
    "![image.png](attachment:image.png)"
   ]
  },
  {
   "cell_type": "code",
   "execution_count": 8,
   "id": "4a503ebe",
   "metadata": {},
   "outputs": [
    {
     "name": "stdout",
     "output_type": "stream",
     "text": [
      "여러 값 입력 : 1 2 3 4 5\n"
     ]
    }
   ],
   "source": [
    "# writelines()\n",
    "text = [(text + \"\\n\") for text in input(\"여러 값 입력 : \").split()]\n",
    "f = open(\"file.txt\", \"w\")\n",
    "f.writelines(text)\n",
    "f.close()"
   ]
  },
  {
   "attachments": {
    "image.png": {
     "image/png": "[encoded data removed]"
    }
   },
   "cell_type": "markdown",
   "id": "bee9665e",
   "metadata": {},
   "source": [
    "![image.png](attachment:image.png)"
   ]
  },
  {
   "cell_type": "code",
   "execution_count": 9,
   "id": "a7ecbf9e",
   "metadata": {},
   "outputs": [
    {
     "name": "stdout",
     "output_type": "stream",
     "text": [
      "반복 입력 : 1\n",
      "반복 입력 : 2\n",
      "반복 입력 : 3\n",
      "반복 입력 : 4\n",
      "반복 입력 : 5\n",
      "반복 입력 : q\n"
     ]
    }
   ],
   "source": [
    "# writelines()\n",
    "x = \"\"\n",
    "text = \"\"\n",
    "\n",
    "while x != \"q\":\n",
    "    x = input(\"반복 입력 : \")\n",
    "    text += x + \"\\n\"\n",
    "    if x == \"q\":\n",
    "        break\n",
    "        \n",
    "f = open(\"file.txt\", \"w\")\n",
    "f.writelines(text)\n",
    "f.close()"
   ]
  },
  {
   "attachments": {
    "image.png": {
     "image/png": "[encoded data removed]"
    }
   },
   "cell_type": "markdown",
   "id": "517e09d2",
   "metadata": {},
   "source": [
    "![image.png](attachment:image.png)"
   ]
  },
  {
   "cell_type": "markdown",
   "id": "3aef29c8",
   "metadata": {},
   "source": [
    "#### 📌 파일 읽기"
   ]
  },
  {
   "cell_type": "code",
   "execution_count": 10,
   "id": "2c4a4131",
   "metadata": {},
   "outputs": [],
   "source": [
    "f = open(\"anthem.txt\", \"w\")\n",
    "f.write(\"동해물과 백두산이 마르고 닳도록\\n하느님이 보우하사 우리나라 만세\\n\")\n",
    "f.close()"
   ]
  },
  {
   "cell_type": "code",
   "execution_count": 11,
   "id": "1c7f2257",
   "metadata": {},
   "outputs": [
    {
     "name": "stdout",
     "output_type": "stream",
     "text": [
      "동해물과 백두산이 마르고 닳도록\n",
      "하느님이 보우하사 우리나라 만세\n"
     ]
    }
   ],
   "source": [
    "# readline()\n",
    "f = open(\"anthem.txt\", \"r\")\n",
    "\n",
    "while True:\n",
    "    line = f.readline()\n",
    "    if not line:\n",
    "        break\n",
    "    print(line, end = \"\")\n",
    "\n",
    "f.close()"
   ]
  },
  {
   "cell_type": "code",
   "execution_count": 12,
   "id": "2a5893b2",
   "metadata": {},
   "outputs": [
    {
     "name": "stdout",
     "output_type": "stream",
     "text": [
      "['동해물과 백두산이 마르고 닳도록\\n', '하느님이 보우하사 우리나라 만세\\n']\n"
     ]
    }
   ],
   "source": [
    "# readlines()\n",
    "f = open(\"anthem.txt\", \"r\")\n",
    "lines = f.readlines()\n",
    "print(lines)\n",
    "f.close()"
   ]
  },
  {
   "cell_type": "code",
   "execution_count": 13,
   "id": "2c56754c",
   "metadata": {},
   "outputs": [
    {
     "name": "stdout",
     "output_type": "stream",
     "text": [
      "동해물과 백두산이 마르고 닳도록\n",
      "하느님이 보우하사 우리나라 만세\n",
      "\n"
     ]
    }
   ],
   "source": [
    "# read()\n",
    "f = open(\"anthem.txt\", \"r\")\n",
    "text = f.read()\n",
    "print(text)\n",
    "f.close()"
   ]
  },
  {
   "cell_type": "markdown",
   "id": "2ef5ff44",
   "metadata": {},
   "source": [
    "#### 📌 tell()\n",
    "- 파일 포인터 위치"
   ]
  },
  {
   "cell_type": "code",
   "execution_count": 14,
   "id": "f020cef1",
   "metadata": {},
   "outputs": [
    {
     "name": "stdout",
     "output_type": "stream",
     "text": [
      "0\n",
      "동해물과 백두산이 마르고 닳도록\n",
      "\n",
      "33\n",
      "하느님이 보우하사 우리나라 만세\n",
      "\n",
      "66\n"
     ]
    }
   ],
   "source": [
    "f = open(\"anthem.txt\", \"r\")\n",
    "\n",
    "while True:\n",
    "    print(f.tell())\n",
    "    line = f.readline()\n",
    "    if not line:\n",
    "        break\n",
    "    print(line)\n",
    "\n",
    "f.close()"
   ]
  },
  {
   "cell_type": "markdown",
   "id": "8932ec0f",
   "metadata": {},
   "source": [
    "#### 📌 seek()\n",
    "- 파일 포인터 위치 이동"
   ]
  },
  {
   "cell_type": "code",
   "execution_count": 15,
   "id": "7f8f3127",
   "metadata": {},
   "outputs": [
    {
     "name": "stdout",
     "output_type": "stream",
     "text": [
      "하느님이 보우하사 우리나라 만세\n",
      "\n",
      "동해물과 백두산이 마르고 닳도록\n",
      "\n"
     ]
    }
   ],
   "source": [
    "f = open(\"anthem.txt\", \"r\")\n",
    "\n",
    "f.seek(33)\n",
    "line = f.readline()\n",
    "print(line)\n",
    "\n",
    "f.seek(0)\n",
    "line = f.readline()\n",
    "print(line)"
   ]
  },
  {
   "cell_type": "markdown",
   "id": "ac130d8b",
   "metadata": {},
   "source": [
    "#### 📌 with 문\n",
    "- 항상 파일을 ```open()``` 함수로 열고 ```close()``` 함수로 닫아야 하는 일을 자동으로 처리\n",
    "- with 문을 이용하면 with 블록 내에서 파일을 열고 벗어나면 자동으로 파일을 닫음"
   ]
  },
  {
   "cell_type": "code",
   "execution_count": 16,
   "id": "5a6ac66f",
   "metadata": {},
   "outputs": [],
   "source": [
    "with open(\"anthem.txt\", \"w\") as f:\n",
    "    f.write(\"Hello World\")"
   ]
  },
  {
   "cell_type": "markdown",
   "id": "99c23919",
   "metadata": {},
   "source": [
    "#### 📌 텍스트 파일 vs 이진 파일\n",
    "- 텍스트 파일(Text File) : 사람이 읽을 수 있는 텍스트로 구성된 파일\n",
    "- 이진 파일(Binary File) : 텍스트가 아닌 비트 단위의 파일\n",
    "- 이진 파일의 종류 : 그림, 음악, 영상, 프로그램 파일 등"
   ]
  }
 ],
 "metadata": {
  "kernelspec": {
   "display_name": "Python 3 (ipykernel)",
   "language": "python",
   "name": "python3"
  },
  "language_info": {
   "codemirror_mode": {
    "name": "ipython",
    "version": 3
   },
   "file_extension": ".py",
   "mimetype": "text/x-python",
   "name": "python",
   "nbconvert_exporter": "python",
   "pygments_lexer": "ipython3",
   "version": "3.9.12"
  }
 },
 "nbformat": 4,
 "nbformat_minor": 5
}
