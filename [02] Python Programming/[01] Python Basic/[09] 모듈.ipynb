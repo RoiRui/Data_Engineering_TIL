{
 "cells": [
  {
   "cell_type": "markdown",
   "id": "77371f56",
   "metadata": {},
   "source": [
    "## 🗂️ 모듈(Module)\n",
    "\n",
    "#### 📌 모듈 개념\n",
    "- 함수, 변수 그리고 클래스의 집합\n",
    "- 다른 파이썬 프로그램에서 가져와 사용할 수 있는 파이썬 파일\n",
    "- 파이썬에는 다른 사람들이 만들어 놓은 모듈이 굉장히 많음\n",
    "- 사용자가 직접 모듈을 만들어 사용할 수도 있음\n",
    "\n",
    "#### 📌 모듈의 장점\n",
    "- 단순성(Simplicity)\n",
    "    - 전체 문제에 초점을 맞추기보다는 상대적으로 작은 부분에 초점을 맞춤\n",
    "    - 단일 모듈로 작업할 수 있는 작은 도메인\n",
    "    - 개발이 쉬우며 오류 발생이 적음\n",
    "- 유지보수성(Maintainability)\n",
    "    - 일반적으로 모듈은 서로 다른 문제 영역간에 논리적 경계를 설정하도록 설계\n",
    "    - 상호 의존성을 최소화하는 방식으로 모듈을 작성하여 단일 모듈을 수정하면 프로그램의 다른 부분에 영향을 미칠 가능성이 적음\n",
    "    - 모듈 외부의 응용 프로그램에 대해 전혀 알지 못해도 모듈을 변경할 수 있음\n",
    "    - 개발 팀이 대규모 응용 프로그램에서 공동으로 작업할 수 있음\n",
    "- 재사용성(Reusability)\n",
    "    - 단일 모듈에서 정의된 기능은 응용 프로그램의 다른 부분에서 쉽게 재사용 가능\n",
    "    - 중복 코드를 만들 필요가 없음\n",
    "- 범위 지정(Scoping)\n",
    "    - 일반적으로 모듈은 프로그램의 여러 영역에서 식별자 간의 충돌을 피하는 데 도움이 되는 별도의 네임 스페이스를 정의\n",
    "    \n",
    "#### 📌 네임스페이스(Namespace)\n",
    "- 모듈 호출의 범위 지정\n",
    "- 모듈 이름에 alias 생성하여 모듈의 이름을 바꿔서 사용할 수 있음\n",
    "- from 구문을 사용하여 모듈에서 특정 함수 또는 클래스만 호출할 수 있음\n",
    "- ```*```을 사용하여 모듈 안에 모든 함수, 클래스, 변수를 가져올 수 있음"
   ]
  },
  {
   "cell_type": "markdown",
   "id": "e959492f",
   "metadata": {},
   "source": [
    "#### 📌 모듈의 종류\n",
    "- 사용자 정의 모듈 : 사용자가 직접 정의해서 사용하는 모듈\n",
    "- 표준 모듈 : 파이썬에서 기본 제공하는 모듈\n",
    "- 써드 파티 모듈 : 외부에서 제공하는 모듈\n",
    "\n",
    "## 🗂️ 사용자 정의 모듈"
   ]
  },
  {
   "cell_type": "code",
   "execution_count": 1,
   "id": "6a904a2a",
   "metadata": {},
   "outputs": [
    {
     "name": "stdout",
     "output_type": "stream",
     "text": [
      "Overwriting Calculator.py\n"
     ]
    }
   ],
   "source": [
    "%%writefile Calculator.py\n",
    "def add(a, b):\n",
    "    return a + b\n",
    "\n",
    "def sub(a, b):\n",
    "    return a - b\n",
    "\n",
    "def mul(a, b):\n",
    "    return a * b\n",
    "\n",
    "def div(a, b):\n",
    "    return a / b\n",
    "\n",
    "def mod(a, b):\n",
    "    return a % b"
   ]
  },
  {
   "cell_type": "code",
   "execution_count": 2,
   "id": "2c7d349c",
   "metadata": {},
   "outputs": [
    {
     "name": "stdout",
     "output_type": "stream",
     "text": [
      "8\n",
      "-2\n",
      "15\n",
      "0.6\n",
      "3\n"
     ]
    }
   ],
   "source": [
    "from Calculator import *\n",
    "\n",
    "print(add(3, 5))\n",
    "print(sub(3, 5))\n",
    "print(mul(3, 5))\n",
    "print(div(3, 5))\n",
    "print(mod(3, 5))"
   ]
  },
  {
   "cell_type": "markdown",
   "id": "5b18d219",
   "metadata": {},
   "source": [
    "## 🗂️ 파이썬 표준 모듈"
   ]
  },
  {
   "cell_type": "code",
   "execution_count": 3,
   "id": "939a68e7",
   "metadata": {
    "scrolled": true
   },
   "outputs": [
    {
     "name": "stdout",
     "output_type": "stream",
     "text": [
      "('_abc', '_ast', '_bisect', '_blake2', '_codecs', '_codecs_cn', '_codecs_hk', '_codecs_iso2022', '_codecs_jp', '_codecs_kr', '_codecs_tw', '_collections', '_contextvars', '_csv', '_datetime', '_functools', '_heapq', '_imp', '_io', '_json', '_locale', '_lsprof', '_md5', '_multibytecodec', '_opcode', '_operator', '_peg_parser', '_pickle', '_random', '_sha1', '_sha256', '_sha3', '_sha512', '_signal', '_sre', '_stat', '_statistics', '_string', '_struct', '_symtable', '_thread', '_tracemalloc', '_warnings', '_weakref', '_winapi', '_xxsubinterpreters', 'array', 'atexit', 'audioop', 'binascii', 'builtins', 'cmath', 'errno', 'faulthandler', 'gc', 'itertools', 'marshal', 'math', 'mmap', 'msvcrt', 'nt', 'parser', 'sys', 'time', 'winreg', 'xxsubtype', 'zlib')\n"
     ]
    }
   ],
   "source": [
    "import sys\n",
    "\n",
    "print(sys.builtin_module_names)"
   ]
  },
  {
   "cell_type": "markdown",
   "id": "a391c09a",
   "metadata": {},
   "source": [
    "#### 📌 시간 모듈 time"
   ]
  },
  {
   "cell_type": "code",
   "execution_count": 4,
   "id": "6cf83fc3",
   "metadata": {},
   "outputs": [],
   "source": [
    "import time"
   ]
  },
  {
   "cell_type": "code",
   "execution_count": 5,
   "id": "57d8a0e6",
   "metadata": {},
   "outputs": [
    {
     "name": "stdout",
     "output_type": "stream",
     "text": [
      "<module 'time' (built-in)>\n"
     ]
    }
   ],
   "source": [
    "print(time)"
   ]
  },
  {
   "cell_type": "code",
   "execution_count": 6,
   "id": "983f057b",
   "metadata": {},
   "outputs": [
    {
     "name": "stdout",
     "output_type": "stream",
     "text": [
      "1659809273.8450298\n"
     ]
    }
   ],
   "source": [
    "print(time.time())"
   ]
  },
  {
   "cell_type": "code",
   "execution_count": 7,
   "id": "a2fceab4",
   "metadata": {},
   "outputs": [
    {
     "name": "stdout",
     "output_type": "stream",
     "text": [
      "time.struct_time(tm_year=2022, tm_mon=8, tm_mday=6, tm_hour=18, tm_min=7, tm_sec=53, tm_wday=5, tm_yday=218, tm_isdst=0)\n"
     ]
    }
   ],
   "source": [
    "now = time.gmtime(time.time())\n",
    "print(now)"
   ]
  },
  {
   "cell_type": "code",
   "execution_count": 8,
   "id": "46fc33c5",
   "metadata": {},
   "outputs": [
    {
     "name": "stdout",
     "output_type": "stream",
     "text": [
      "2022년 8월 6일\n"
     ]
    }
   ],
   "source": [
    "year = str(now.tm_year)\n",
    "month = str(now.tm_mon)\n",
    "day = str(now.tm_mday)\n",
    "\n",
    "print(year + \"년 \" + month + \"월 \" + day + \"일\")"
   ]
  },
  {
   "cell_type": "markdown",
   "id": "e4f2d916",
   "metadata": {},
   "source": [
    "#### 📌 날짜 · 시간 모듈 datetime의 date 클래스"
   ]
  },
  {
   "cell_type": "code",
   "execution_count": 9,
   "id": "f0c120ec",
   "metadata": {},
   "outputs": [],
   "source": [
    "from datetime import date"
   ]
  },
  {
   "cell_type": "code",
   "execution_count": 10,
   "id": "a7520999",
   "metadata": {},
   "outputs": [
    {
     "name": "stdout",
     "output_type": "stream",
     "text": [
      "<class 'datetime.date'>\n"
     ]
    }
   ],
   "source": [
    "print(date)"
   ]
  },
  {
   "cell_type": "code",
   "execution_count": 11,
   "id": "ddb1f99e",
   "metadata": {},
   "outputs": [
    {
     "name": "stdout",
     "output_type": "stream",
     "text": [
      "2000-01-01\n"
     ]
    }
   ],
   "source": [
    "print(date(2000, 1, 1))"
   ]
  },
  {
   "cell_type": "code",
   "execution_count": 12,
   "id": "884e570f",
   "metadata": {},
   "outputs": [
    {
     "name": "stdout",
     "output_type": "stream",
     "text": [
      "2022-08-07\n"
     ]
    }
   ],
   "source": [
    "print(date.today())"
   ]
  },
  {
   "cell_type": "code",
   "execution_count": 13,
   "id": "1df58140",
   "metadata": {},
   "outputs": [
    {
     "name": "stdout",
     "output_type": "stream",
     "text": [
      "2022년 8월 7일 일요일\n"
     ]
    }
   ],
   "source": [
    "today = date.today()\n",
    "year = str(today.year)\n",
    "month = str(today.month)\n",
    "day = str(today.day)\n",
    "weekday = \"월화수목금토일\"[today.weekday()]\n",
    "\n",
    "print(year + \"년 \" + month + \"월 \" + day + \"일 \" + weekday + \"요일\")"
   ]
  },
  {
   "cell_type": "markdown",
   "id": "6bebac70",
   "metadata": {},
   "source": [
    "#### 📌 날짜 · 시간 모듈 datetime의 time 클래스"
   ]
  },
  {
   "cell_type": "code",
   "execution_count": 14,
   "id": "c73c4543",
   "metadata": {},
   "outputs": [],
   "source": [
    "from datetime import time"
   ]
  },
  {
   "cell_type": "code",
   "execution_count": 15,
   "id": "3f4feb72",
   "metadata": {},
   "outputs": [
    {
     "name": "stdout",
     "output_type": "stream",
     "text": [
      "<class 'datetime.time'>\n"
     ]
    }
   ],
   "source": [
    "print(time)"
   ]
  },
  {
   "cell_type": "code",
   "execution_count": 16,
   "id": "842fb351",
   "metadata": {},
   "outputs": [
    {
     "name": "stdout",
     "output_type": "stream",
     "text": [
      "15:30:45\n"
     ]
    }
   ],
   "source": [
    "print(time(15, 30, 45))"
   ]
  },
  {
   "cell_type": "code",
   "execution_count": 17,
   "id": "ee50efcc",
   "metadata": {},
   "outputs": [
    {
     "name": "stdout",
     "output_type": "stream",
     "text": [
      "15:30:45.100000\n"
     ]
    }
   ],
   "source": [
    "print(time(15, 30, 45, 100000))"
   ]
  },
  {
   "cell_type": "code",
   "execution_count": 18,
   "id": "1dfb1564",
   "metadata": {},
   "outputs": [
    {
     "name": "stdout",
     "output_type": "stream",
     "text": [
      "20시 40분 15초 20000마이크로초\n"
     ]
    }
   ],
   "source": [
    "now = time(20, 40, 15, 20000)\n",
    "hour = str(now.hour)\n",
    "minute = str(now.minute)\n",
    "sec = str(now.second)\n",
    "msec = str(now.microsecond)\n",
    "\n",
    "print(hour + \"시 \" + minute + \"분 \" + sec + \"초 \" + msec + \"마이크로초\")"
   ]
  },
  {
   "cell_type": "markdown",
   "id": "36994d16",
   "metadata": {},
   "source": [
    "#### 📌 날짜 · 시간 모듈 datetime의 datetime 클래스\n",
    "- 날짜 · 시간을 문자열로 표현하기 위한 ```strftime()``` 메소드\n",
    "|표현|설명|\n",
    "|:--:|:--:|\n",
    "|%Y|년(YYYY)|\n",
    "|%y|년(yy)|\n",
    "|%m|월(mm)|\n",
    "|%d|일(dd)|\n",
    "|%A|요일|\n",
    "|%H|시(24)|\n",
    "|%I|시(12)|\n",
    "|%p|AM, PM|\n",
    "|%M|분(MM)|\n",
    "|%S|초(SS)|\n",
    "|%f|마이크로초|"
   ]
  },
  {
   "cell_type": "code",
   "execution_count": 19,
   "id": "b6bf44bb",
   "metadata": {},
   "outputs": [],
   "source": [
    "from datetime import datetime"
   ]
  },
  {
   "cell_type": "code",
   "execution_count": 20,
   "id": "1da3861c",
   "metadata": {},
   "outputs": [
    {
     "name": "stdout",
     "output_type": "stream",
     "text": [
      "<class 'datetime.datetime'>\n"
     ]
    }
   ],
   "source": [
    "print(datetime)"
   ]
  },
  {
   "cell_type": "code",
   "execution_count": 21,
   "id": "1f11499e",
   "metadata": {},
   "outputs": [
    {
     "name": "stdout",
     "output_type": "stream",
     "text": [
      "2020-01-01 15:30:45.100000\n"
     ]
    }
   ],
   "source": [
    "print(datetime(2020, 1, 1, 15, 30, 45, 100000))"
   ]
  },
  {
   "cell_type": "code",
   "execution_count": 22,
   "id": "3f440826",
   "metadata": {},
   "outputs": [
    {
     "name": "stdout",
     "output_type": "stream",
     "text": [
      "2022년 08월 07일 03시 07분 54초\n",
      "2022/08/07 03:07:54:109807\n"
     ]
    }
   ],
   "source": [
    "now = datetime.now()\n",
    "print(now.strftime(\"%Y년 %m월 %d일 %H시 %M분 %S초\"))\n",
    "print(now.strftime(\"%Y/%m/%d %H:%M:%S:%f\"))"
   ]
  },
  {
   "cell_type": "markdown",
   "id": "6b9c177f",
   "metadata": {},
   "source": [
    "#### 📌 수학 모듈 math\n",
    "\n",
    "- ```math``` 모듈 상수\n",
    "|상수|모듈|\n",
    "|:--:|:--:|\n",
    "|math.pi|원주율|\n",
    "|math.e|자연상수|\n",
    "|math.inf|무한대|\n",
    "- ```math``` 모듈 함수\n",
    "|함수|설명|\n",
    "|:--:|:--:|\n",
    "|math.factorial(x)|팩토리얼 x|\n",
    "|math.gcd(a, b)|a와 b의 최대공약수|\n",
    "|math.floor(x)|x의 내림값|\n",
    "|math.ceil(x)|x의 올림값|\n",
    "|math.pow(x, y)|x의 y승|\n",
    "|math.sqrt(x)|x의 제곱근|\n",
    "|math.log(x, base)|base를 밑으로 하는 x 로그|\n",
    "|math.sin(x)|x 라디안의 사인|\n",
    "|math.cos(x)|x 라디안의 코사인|\n",
    "|math.tan(x)|x 라디안의 탄젠트|\n",
    "|math.degrees(x)|x 라디안을 도 단위로 변환|\n",
    "|math.radians(x)|x 도를 라디안 단위로 변환|"
   ]
  },
  {
   "cell_type": "code",
   "execution_count": 23,
   "id": "0a249d72",
   "metadata": {},
   "outputs": [],
   "source": [
    "import math"
   ]
  },
  {
   "cell_type": "code",
   "execution_count": 24,
   "id": "03ee8dd0",
   "metadata": {},
   "outputs": [
    {
     "name": "stdout",
     "output_type": "stream",
     "text": [
      "6\n"
     ]
    }
   ],
   "source": [
    "print(math.factorial(3))"
   ]
  },
  {
   "cell_type": "code",
   "execution_count": 25,
   "id": "c219b4c2",
   "metadata": {},
   "outputs": [
    {
     "name": "stdout",
     "output_type": "stream",
     "text": [
      "12\n"
     ]
    }
   ],
   "source": [
    "print(math.gcd(12, 24))"
   ]
  },
  {
   "cell_type": "code",
   "execution_count": 26,
   "id": "ed00f3e0",
   "metadata": {},
   "outputs": [
    {
     "name": "stdout",
     "output_type": "stream",
     "text": [
      "3\n"
     ]
    }
   ],
   "source": [
    "print(math.floor(math.pi))"
   ]
  },
  {
   "cell_type": "code",
   "execution_count": 27,
   "id": "83706b9f",
   "metadata": {},
   "outputs": [
    {
     "name": "stdout",
     "output_type": "stream",
     "text": [
      "4\n"
     ]
    }
   ],
   "source": [
    "print(math.ceil(math.pi))"
   ]
  },
  {
   "cell_type": "code",
   "execution_count": 28,
   "id": "18cbc2c4",
   "metadata": {},
   "outputs": [
    {
     "name": "stdout",
     "output_type": "stream",
     "text": [
      "1024.0\n"
     ]
    }
   ],
   "source": [
    "print(math.pow(2, 10))"
   ]
  },
  {
   "cell_type": "code",
   "execution_count": 29,
   "id": "0eb28fa5",
   "metadata": {},
   "outputs": [
    {
     "name": "stdout",
     "output_type": "stream",
     "text": [
      "3.0\n"
     ]
    }
   ],
   "source": [
    "print(math.sqrt(9))"
   ]
  },
  {
   "cell_type": "code",
   "execution_count": 30,
   "id": "e72d34dd",
   "metadata": {
    "scrolled": true
   },
   "outputs": [
    {
     "name": "stdout",
     "output_type": "stream",
     "text": [
      "4.0\n"
     ]
    }
   ],
   "source": [
    "print(math.log(16, 2))"
   ]
  },
  {
   "cell_type": "code",
   "execution_count": 31,
   "id": "40e2e613",
   "metadata": {},
   "outputs": [
    {
     "name": "stdout",
     "output_type": "stream",
     "text": [
      "1.0\n"
     ]
    }
   ],
   "source": [
    "print(math.sin(math.radians(90)))"
   ]
  },
  {
   "cell_type": "code",
   "execution_count": 32,
   "id": "7bf6fc43",
   "metadata": {},
   "outputs": [
    {
     "name": "stdout",
     "output_type": "stream",
     "text": [
      "-1.0\n"
     ]
    }
   ],
   "source": [
    "print(math.cos(math.radians(180)))"
   ]
  },
  {
   "cell_type": "code",
   "execution_count": 33,
   "id": "3ac48298",
   "metadata": {},
   "outputs": [
    {
     "name": "stdout",
     "output_type": "stream",
     "text": [
      "0.0\n"
     ]
    }
   ],
   "source": [
    "print(math.tan(math.radians(0)))"
   ]
  },
  {
   "cell_type": "code",
   "execution_count": 34,
   "id": "ec55b5bd",
   "metadata": {},
   "outputs": [
    {
     "name": "stdout",
     "output_type": "stream",
     "text": [
      "180.0\n"
     ]
    }
   ],
   "source": [
    "print(math.degrees(math.pi))"
   ]
  },
  {
   "cell_type": "code",
   "execution_count": 35,
   "id": "955e6899",
   "metadata": {},
   "outputs": [
    {
     "name": "stdout",
     "output_type": "stream",
     "text": [
      "3.141592653589793\n"
     ]
    }
   ],
   "source": [
    "print(math.radians(180))"
   ]
  },
  {
   "cell_type": "markdown",
   "id": "ab47c32e",
   "metadata": {},
   "source": [
    "#### 📌 순열과 조합 모듈 itertools\n",
    "- ```itertools``` 모듈 함수\n",
    "|함수|설명|\n",
    "|:--:|:--:|\n",
    "|itertools.product(seq1, ...)|시퀀스의 곱집합|\n",
    "|itertools.permutations(p, r)|p 시퀀스의 요소 r개를 나열하는 순열|\n",
    "|itertools.combinations(p, r)|p 시퀀스의 요소 r개를 선택하는 조합|\n",
    "|itertools.combinations_with_replacement(p, r)|p 시퀀스의 요소 r개를 중복 허용해 선택하는 조합|"
   ]
  },
  {
   "cell_type": "code",
   "execution_count": 36,
   "id": "c7b16984",
   "metadata": {},
   "outputs": [],
   "source": [
    "import itertools"
   ]
  },
  {
   "cell_type": "code",
   "execution_count": 37,
   "id": "1dce89ea",
   "metadata": {},
   "outputs": [],
   "source": [
    "list1 = ['a', 'b', 'c']\n",
    "list2 = [1, 2]"
   ]
  },
  {
   "cell_type": "code",
   "execution_count": 38,
   "id": "9a3d6380",
   "metadata": {},
   "outputs": [
    {
     "name": "stdout",
     "output_type": "stream",
     "text": [
      "[('a', 1), ('a', 2), ('b', 1), ('b', 2), ('c', 1), ('c', 2)]\n"
     ]
    }
   ],
   "source": [
    "list_cp = list(itertools.product(list1, list2))\n",
    "print(list_cp)"
   ]
  },
  {
   "cell_type": "code",
   "execution_count": 39,
   "id": "d9dc9d5c",
   "metadata": {},
   "outputs": [
    {
     "name": "stdout",
     "output_type": "stream",
     "text": [
      "[('a', 'b'), ('a', 'c'), ('b', 'a'), ('b', 'c'), ('c', 'a'), ('c', 'b')]\n"
     ]
    }
   ],
   "source": [
    "list_p = list(itertools.permutations(list1, 2))\n",
    "print(list_p)"
   ]
  },
  {
   "cell_type": "code",
   "execution_count": 40,
   "id": "ff908ae5",
   "metadata": {},
   "outputs": [
    {
     "name": "stdout",
     "output_type": "stream",
     "text": [
      "[('a', 'b'), ('a', 'c'), ('b', 'c')]\n"
     ]
    }
   ],
   "source": [
    "list_c = list(itertools.combinations(list1, 2))\n",
    "print(list_c)"
   ]
  },
  {
   "cell_type": "code",
   "execution_count": 41,
   "id": "149fdcac",
   "metadata": {
    "scrolled": true
   },
   "outputs": [
    {
     "name": "stdout",
     "output_type": "stream",
     "text": [
      "[('a', 'a'), ('a', 'b'), ('a', 'c'), ('b', 'b'), ('b', 'c'), ('c', 'c')]\n"
     ]
    }
   ],
   "source": [
    "list_cr = list(itertools.combinations_with_replacement(list1, 2))\n",
    "print(list_cr)"
   ]
  },
  {
   "cell_type": "markdown",
   "id": "60fb7830",
   "metadata": {},
   "source": [
    "#### 📌 통계 모듈 statistics\n",
    "- ```statistics``` 모듈 함수\n",
    "|함수|설명|\n",
    "|:--:|:--:|\n",
    "|statistics.median(seq)|시퀀스의 중앙값|\n",
    "|statistics.mean(seq)|시퀀스의 산술 평균|\n",
    "|statistics.harmonic_mean(seq)|시퀀스의 조화 평균|\n",
    "|statistics.stdev(seq)|시퀀스의 표본 표준편차|\n",
    "|statistics.variance(seq)|시퀀스의 표본 분산|"
   ]
  },
  {
   "cell_type": "code",
   "execution_count": 42,
   "id": "40573a42",
   "metadata": {},
   "outputs": [],
   "source": [
    "import statistics"
   ]
  },
  {
   "cell_type": "code",
   "execution_count": 43,
   "id": "30bc3bc8",
   "metadata": {},
   "outputs": [],
   "source": [
    "values = [56, 44, 67, 47, 82, 67, 92, 89, 81, 82]"
   ]
  },
  {
   "cell_type": "code",
   "execution_count": 44,
   "id": "01c379fa",
   "metadata": {},
   "outputs": [
    {
     "name": "stdout",
     "output_type": "stream",
     "text": [
      "74.0\n"
     ]
    }
   ],
   "source": [
    "print(statistics.median(values))"
   ]
  },
  {
   "cell_type": "code",
   "execution_count": 45,
   "id": "36b7f967",
   "metadata": {},
   "outputs": [
    {
     "name": "stdout",
     "output_type": "stream",
     "text": [
      "70.7\n"
     ]
    }
   ],
   "source": [
    "print(statistics.mean(values))"
   ]
  },
  {
   "cell_type": "code",
   "execution_count": 46,
   "id": "5980db2c",
   "metadata": {},
   "outputs": [
    {
     "name": "stdout",
     "output_type": "stream",
     "text": [
      "66.42170307761845\n"
     ]
    }
   ],
   "source": [
    "print(statistics.harmonic_mean(values))"
   ]
  },
  {
   "cell_type": "code",
   "execution_count": 47,
   "id": "63e769f5",
   "metadata": {},
   "outputs": [
    {
     "name": "stdout",
     "output_type": "stream",
     "text": [
      "17.217884758458442\n"
     ]
    }
   ],
   "source": [
    "print(statistics.stdev(values))"
   ]
  },
  {
   "cell_type": "code",
   "execution_count": 48,
   "id": "bd43e7ce",
   "metadata": {},
   "outputs": [
    {
     "name": "stdout",
     "output_type": "stream",
     "text": [
      "296.4555555555556\n"
     ]
    }
   ],
   "source": [
    "print(statistics.variance(values))"
   ]
  },
  {
   "cell_type": "markdown",
   "id": "308e1766",
   "metadata": {},
   "source": [
    "#### 📌 랜덤 모듈 random\n",
    "- ```random``` 모듈 함수\n",
    "|함수|설명|\n",
    "|:--:|:--:|\n",
    "|random.random()|0.0 ~ 1.0 미만의 실수 값 반환|\n",
    "|random.randint(1, 10)|1 ~ 10 사이의 정수 반환|\n",
    "|random.randrange(0, 10, 2)|0 ~ 10 미만의 2의 배수 반환|\n",
    "|random.choice(seq)|자료형 변수에서 임의의 값 반환|\n",
    "|random.sample(seq, r)|자료형 변수에서 r개만큼 반환|\n",
    "|random.shuffle(seq)|자료형 변수 내용을 랜덤으로 셔플|"
   ]
  },
  {
   "cell_type": "code",
   "execution_count": 49,
   "id": "190588bf",
   "metadata": {},
   "outputs": [],
   "source": [
    "import random"
   ]
  },
  {
   "cell_type": "code",
   "execution_count": 50,
   "id": "91390d71",
   "metadata": {},
   "outputs": [],
   "source": [
    "list = [1, 2, 3, 4, 5]"
   ]
  },
  {
   "cell_type": "code",
   "execution_count": 51,
   "id": "26ae7ff3",
   "metadata": {},
   "outputs": [
    {
     "name": "stdout",
     "output_type": "stream",
     "text": [
      "0.3863426041920254\n"
     ]
    }
   ],
   "source": [
    "print(random.random())"
   ]
  },
  {
   "cell_type": "code",
   "execution_count": 52,
   "id": "a59c4327",
   "metadata": {},
   "outputs": [
    {
     "name": "stdout",
     "output_type": "stream",
     "text": [
      "6\n"
     ]
    }
   ],
   "source": [
    "print(random.randint(1, 10))"
   ]
  },
  {
   "cell_type": "code",
   "execution_count": 53,
   "id": "7b4a3169",
   "metadata": {},
   "outputs": [
    {
     "name": "stdout",
     "output_type": "stream",
     "text": [
      "6\n"
     ]
    }
   ],
   "source": [
    "print(random.randrange(0, 10, 2))"
   ]
  },
  {
   "cell_type": "code",
   "execution_count": 54,
   "id": "b4f214c9",
   "metadata": {},
   "outputs": [
    {
     "name": "stdout",
     "output_type": "stream",
     "text": [
      "1\n"
     ]
    }
   ],
   "source": [
    "print(random.choice(list))"
   ]
  },
  {
   "cell_type": "code",
   "execution_count": 55,
   "id": "b02e6809",
   "metadata": {},
   "outputs": [
    {
     "name": "stdout",
     "output_type": "stream",
     "text": [
      "[3, 4]\n"
     ]
    }
   ],
   "source": [
    "print(random.sample(list, 2))"
   ]
  },
  {
   "cell_type": "code",
   "execution_count": 56,
   "id": "d46bf295",
   "metadata": {
    "scrolled": true
   },
   "outputs": [
    {
     "name": "stdout",
     "output_type": "stream",
     "text": [
      "[2, 4, 5, 3, 1]\n"
     ]
    }
   ],
   "source": [
    "random.shuffle(list)\n",
    "print(list)"
   ]
  },
  {
   "cell_type": "markdown",
   "id": "7c42e4f7",
   "metadata": {},
   "source": [
    "## 🗂️ main() 함수\n",
    "\n",
    "#### 📌 main() 함수 개념\n",
    "- 일반적으로 프로그래밍 언어(C, Java)에서 프로그램이 시작될 때 제일 먼저 자동으로 호출되는 함수로 전체 프로그램이 main()에 있는 순서대로 수행됨\n",
    "- 파이썬에서는 main() 함수가 정의되어 있지 않지만 프로그램을 실행시켰을 때 main() 함수가 동작하는 것처럼 작성 가능\n",
    "\n",
    "#### 📌 if \\_\\_name\\_\\_ = \"\\_\\_main\\_\\_\"\n",
    "- \\_\\_name\\_\\_은 현재 모듈의 이름을 담고 있는 스페셜 · 내장 변수\n",
    "- 모듈이 직접 실행되는 경우에만 \\_\\_name\\_\\_은 \"\\_\\_main\\_\\_\"으로 설정됨\n",
    "- 다른 모듈에 의해 import 된 경우 \\_\\_name\\_\\_이 \"\\_\\_main\\_\\_\"이 아니기 때문에 조건문 내의 코드가 실행되지 않음\n",
    "- 모듈에 if \\_\\_name__==\"\\_\\_main\\_\\_\"이라는 조건문을 넣어주고 그 아래에는 직접 실행시켰을 때만 실행되길 원하는 코드들을 넣어주는 것"
   ]
  }
 ],
 "metadata": {
  "kernelspec": {
   "display_name": "Python 3 (ipykernel)",
   "language": "python",
   "name": "python3"
  },
  "language_info": {
   "codemirror_mode": {
    "name": "ipython",
    "version": 3
   },
   "file_extension": ".py",
   "mimetype": "text/x-python",
   "name": "python",
   "nbconvert_exporter": "python",
   "pygments_lexer": "ipython3",
   "version": "3.9.12"
  }
 },
 "nbformat": 4,
 "nbformat_minor": 5
}
