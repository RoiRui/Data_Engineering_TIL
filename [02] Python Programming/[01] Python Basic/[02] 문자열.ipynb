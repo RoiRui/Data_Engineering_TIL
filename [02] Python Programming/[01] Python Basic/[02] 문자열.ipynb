{
 "cells": [
  {
   "cell_type": "markdown",
   "id": "6705e575",
   "metadata": {},
   "source": [
    "## 🗂️ 문자열(String)\n",
    "\n",
    "#### 📌 문자열 개념\n",
    "- 문자, 단어 등으로 구성된 문자들의 집합\n",
    "- 시퀀스 자료형(Sequence Data Type)\n",
    "\n",
    "#### 📌 문자열 생성\n",
    "- 파이썬에서 문자열은 작은 따옴표(') 또는 큰 따옴표(\")로 표현"
   ]
  },
  {
   "cell_type": "code",
   "execution_count": 1,
   "id": "d18f1fbb",
   "metadata": {},
   "outputs": [
    {
     "name": "stdout",
     "output_type": "stream",
     "text": [
      "Hello\n",
      "Hello\n",
      "Hello\n",
      "Hello\n"
     ]
    }
   ],
   "source": [
    "print('Hello')\n",
    "print(\"Hello\")\n",
    "print('''Hello''')\n",
    "print(\"\"\"Hello\"\"\")"
   ]
  },
  {
   "cell_type": "markdown",
   "id": "685b3cb8",
   "metadata": {},
   "source": [
    "#### 📌 따옴표가 있는 문자열 생성\n",
    "- 문자열에 작은 따옴표가 있을 경우 큰 따옴표로 둘러싸서 표현\n",
    "- 문자열에 큰 따옴표가 있을 경우 작은 따옴표로 둘러싸서 표현\n",
    "- 이스케이프 코드(\\\\)를 이용하여 작은 따옴표와 큰 따옴표를 문자열에 포함"
   ]
  },
  {
   "cell_type": "code",
   "execution_count": 2,
   "id": "3196d554",
   "metadata": {},
   "outputs": [
    {
     "name": "stdout",
     "output_type": "stream",
     "text": [
      "Python's favorite food is perl\n"
     ]
    }
   ],
   "source": [
    "s = \"Python's favorite food is perl\"\n",
    "print(s)"
   ]
  },
  {
   "cell_type": "code",
   "execution_count": 3,
   "id": "aa9c8a77",
   "metadata": {},
   "outputs": [
    {
     "name": "stdout",
     "output_type": "stream",
     "text": [
      "\"Python is very easy.\" he says\n"
     ]
    }
   ],
   "source": [
    "s = '\"Python is very easy.\" he says'\n",
    "print(s)"
   ]
  },
  {
   "cell_type": "code",
   "execution_count": 4,
   "id": "ad942407",
   "metadata": {},
   "outputs": [
    {
     "name": "stdout",
     "output_type": "stream",
     "text": [
      "Python's favorite food is perl. \"Python is very easy\" he says\n"
     ]
    }
   ],
   "source": [
    "s = \"Python\\'s favorite food is perl. \\\"Python is very easy\\\" he says\"\n",
    "print(s)"
   ]
  },
  {
   "cell_type": "markdown",
   "id": "88233e5c",
   "metadata": {},
   "source": [
    "#### 📌 이스케이프 코드(Escape Code)\n",
    "- 특수 문자\n",
    "- 문자 앞에 백슬래시(\\\\) 사용\n",
    "- 문자열에서 특수 문자를 표현하는데 사용\n",
    "\n",
    "|이스케이프 코드|이름|\n",
    "|:-------------:|:--:|\n",
    "|\\\\|역슬래시(backslash)|\n",
    "|\\\\'|작은 따옴표(single quote)|\n",
    "|\\\\\"|큰 따옴표(double quote)|\n",
    "|\\\\a|알람(alarm)|\n",
    "|\\\\b|백스페이스(backspace)|\n",
    "|\\\\f|폼 피드(form feed)|\n",
    "|\\\\n|라인 피드(line feed)|\n",
    "|\\\\r|캐리지 리턴(carriage return)|\n",
    "|\\\\t|수평 탭(tab)|\n",
    "|\\\\v|수직 탭(tab)|\n",
    "|\\\\ooo|8진수 문자(octal value)|\n",
    "|\\\\xhh|16진수 문자(hexadecimalvalue)|\n",
    "\n",
    "#### 📌 여러 줄이 있는 문자열 생성\n",
    "- 이스케이프 코드(\\\\n)을 이용하여 여러 줄이 있는 문자열 생성 가능"
   ]
  },
  {
   "cell_type": "code",
   "execution_count": 5,
   "id": "919b6765",
   "metadata": {},
   "outputs": [
    {
     "name": "stdout",
     "output_type": "stream",
     "text": [
      "동해물과 백두산이 마르고 닳도록\n",
      "하느님이 보우하사 우리나라 만세\n",
      "무궁화 삼천리 화려강산\n",
      "대한 사람 대한으로 길이 보전하세\n"
     ]
    }
   ],
   "source": [
    "text = \"동해물과 백두산이 마르고 닳도록\\n하느님이 보우하사 우리나라 만세\\n무궁화 삼천리 화려강산\\n대한 사람 대한으로 길이 보전하세\"\n",
    "print(text)"
   ]
  },
  {
   "cell_type": "markdown",
   "id": "7b6dbe96",
   "metadata": {},
   "source": [
    "- 작은 따옴표 3개 또는 큰 따옴표 3개를 이용하여 여러 줄이 있는 문자열 생성"
   ]
  },
  {
   "cell_type": "code",
   "execution_count": 6,
   "id": "11f00910",
   "metadata": {},
   "outputs": [
    {
     "name": "stdout",
     "output_type": "stream",
     "text": [
      "동해물과 백두산이 마르고 닳도록\n",
      "하느님이 보우하사 우리나라 만세\n",
      "무궁화 삼천리 화려강산\n",
      "대한 사람 대한으로 길이 보전하세\n"
     ]
    }
   ],
   "source": [
    "text = '''동해물과 백두산이 마르고 닳도록\n",
    "하느님이 보우하사 우리나라 만세\n",
    "무궁화 삼천리 화려강산\n",
    "대한 사람 대한으로 길이 보전하세'''\n",
    "print(text)"
   ]
  },
  {
   "cell_type": "markdown",
   "id": "c6974a7b",
   "metadata": {},
   "source": [
    "## 🗂️ 문자열 연산\n",
    "\n",
    "#### 📌 문자열 더하기\n",
    "- ```+``` 연산자를 사용하여 문자열 연결"
   ]
  },
  {
   "cell_type": "code",
   "execution_count": 7,
   "id": "039e0795",
   "metadata": {},
   "outputs": [
    {
     "name": "stdout",
     "output_type": "stream",
     "text": [
      "Hello World\n"
     ]
    }
   ],
   "source": [
    "s1 = \"Hello\"\n",
    "s2 = \" World\"\n",
    "print(s1 + s2)"
   ]
  },
  {
   "cell_type": "markdown",
   "id": "4b1cc392",
   "metadata": {},
   "source": [
    "#### 📌 문자열 곱하기\n",
    "- ```*``` 연산자를 사용하여 문자열 반복"
   ]
  },
  {
   "cell_type": "code",
   "execution_count": 8,
   "id": "86d43a27",
   "metadata": {},
   "outputs": [
    {
     "name": "stdout",
     "output_type": "stream",
     "text": [
      "HelloHelloHello\n"
     ]
    }
   ],
   "source": [
    "s = \"Hello\"\n",
    "print(s * 3)"
   ]
  },
  {
   "cell_type": "markdown",
   "id": "b9bdc89a",
   "metadata": {},
   "source": [
    "#### 📌 문자열 길이\n",
    "- 문자열 길이를 구하는 ```len()```` 함수"
   ]
  },
  {
   "cell_type": "code",
   "execution_count": 9,
   "id": "7f5e2da8",
   "metadata": {},
   "outputs": [
    {
     "name": "stdout",
     "output_type": "stream",
     "text": [
      "5\n"
     ]
    }
   ],
   "source": [
    "s = \"Hello\"\n",
    "print(len(s))"
   ]
  },
  {
   "cell_type": "markdown",
   "id": "353eb0f4",
   "metadata": {},
   "source": [
    "#### 📌 문자열 인덱싱(Indexing)\n",
    "- 문자열은 리스트처럼 문자 하나하나가 상대적인 주소(offset)을 가짐\n",
    "- 이 주소를 사용해 할당된 값을 가져오는 인덱싱을 사용"
   ]
  },
  {
   "cell_type": "code",
   "execution_count": 10,
   "id": "624f2253",
   "metadata": {},
   "outputs": [
    {
     "name": "stdout",
     "output_type": "stream",
     "text": [
      "H\n",
      "e\n",
      "l\n",
      "l\n",
      "o\n",
      "H\n",
      "e\n",
      "l\n",
      "l\n",
      "o\n"
     ]
    }
   ],
   "source": [
    "s = \"Hello\"\n",
    "\n",
    "print(s[0])\n",
    "print(s[1])\n",
    "print(s[2])\n",
    "print(s[3])\n",
    "print(s[4])\n",
    "\n",
    "print(s[-5])\n",
    "print(s[-4])\n",
    "print(s[-3])\n",
    "print(s[-2])\n",
    "print(s[-1])"
   ]
  },
  {
   "cell_type": "markdown",
   "id": "87deaa7f",
   "metadata": {},
   "source": [
    "#### 📌 문자열 슬라이싱(Slicing)\n",
    "- 문자열의 주소를 이용하여 문자열의 조각(부분)을 추출"
   ]
  },
  {
   "cell_type": "code",
   "execution_count": 11,
   "id": "cb60b149",
   "metadata": {},
   "outputs": [
    {
     "name": "stdout",
     "output_type": "stream",
     "text": [
      "Hello World.\n",
      "Hello World.\n",
      "Python is very easy.\n",
      "Python is very easy.\n",
      "Python is very easy.\n",
      "Hello World. Python is very easy\n",
      "Hello World. Python is very easy.\n"
     ]
    }
   ],
   "source": [
    "s = \"Hello World. Python is very easy.\"\n",
    "\n",
    "print(s[0:12])\n",
    "print(s[:12])\n",
    "print(s[13:33])\n",
    "print(s[13:])\n",
    "print(s[-20:])\n",
    "print(s[0:-1])\n",
    "print(s[:])"
   ]
  },
  {
   "cell_type": "markdown",
   "id": "e64e5ca2",
   "metadata": {},
   "source": [
    "## 🗂️ 문자열 메소드(String Method)\n",
    "- 파이썬은 문자열 처리를 아주 쉽게 처리할 수 있는 많은 메소드들을 제공\n",
    "\n",
    "|함수|설명|\n",
    "|:--:|:--:|\n",
    "|capitalize()|첫 문자를 대문자로 하고 나머지 문자를 소문자로 하는 문자열 반환|\n",
    "|casefold()|모든 문자를 소문자로 하는 문자열 변환|\n",
    "|count(sub[, start[, end]])|[start, end] 범위에서 부분 문자열 sub의 개수를 반환|\n",
    "|find(sub[, start[, end]])|[start, end] 범위에서 부분 문자열 sub의 가장 작은 위치 인덱스를 반환(sub가 발견되지 않는 경우 -1 반환)|\n",
    "|rfind(sub[, start[, end]])|[start, end] 범위에서 부분 문자열 sub의 가장 큰 위치 인덱스를 반환(sub가 발견되지 않는 경우 -1 반환)|\n",
    "|index(sub[, start[, end]])|find()와 유사하지만 부분 문자열 sub가 없으면 ValueError 발생|\n",
    "|rindex(sub[, start[, end]])|rfind()와 유사하지만 부분 문자열 sub가 없으면 ValueError 발생|\n",
    "|isalnum()|문자열의 모든 문자가 영문자 또는 숫자로만 구성되어 있으면 True 아니면 False 반환|\n",
    "|isalpha()|문자열의 모든 문자가 영문자로만 구성되어 있으면 True 아니면 False 반환|\n",
    "|isdecimal()|문자열의 모든 문자가 10진수 문자로만 구성되어 있으면 True 아니면 False 반환|\n",
    "|isdigit()|문자열의 모든 문자가 숫자로만 구성되어 있으면 True 아니면 False 반환|\n",
    "|isnumeric()|문자열의 모든 문자가 수치형으로만 구성되어 있으면 True 아니면 False 반환|\n",
    "|isidentifier()|문자열이 유효한 식별자인 경우 True 반환|\n",
    "|isspace()|문자열 내에 공백 문자가 있을 경우 True 반환 아니면 False 반환|\n",
    "|istitle()|문자열에서 모든 단어에 대해 첫 글자만 대문자이고 나머지는 소문자인 문자열일 경우 True 반환|\n",
    "|islower()|문자열의 모든 문자가 소문자일 경우 True 반환 아니면 False 반환|\n",
    "|isupper()|문자열의 모든 문자가 대문자일 경우 True 반환 아니면 False 반환|\n",
    "|join(iterable)|iterable에 있는 각 문자 사이에 연결된 문자열을 반환|\n",
    "|center(width[, fillchar])|너비만큼의 문자열에서 중앙 정렬된 문자열을 반환|\n",
    "|ljust(width[, fillchar])|너비만큼의 문자열에서 왼쪽 정렬된 문자열을 반환|\n",
    "|rjust(width[, fillchar])|너비만큼의 문자열에서 오른쪽 정렬된 문자열을 반환|\n",
    "|lower()|모든 문자가 소문자로 변환된 문자열을 반환|\n",
    "|upper()|모든 문자가 대문자로 변환된 문자열을 반환|\n",
    "|title()|문자열에서 모든 단어에 대해 첫 글자만 대문자이고 나머지는 소문자인 문자열 반환|\n",
    "|swapcase()|문자열에서 소문자를 대문자로 대문자를 소문자로 변환한 문자열 반환|\n",
    "|strip([chars])|문자열 양쪽에 지정된 chars 또는 공백을 제거한 문자열을 반환|\n",
    "|lstrip([chars])|문자열 왼쪽에 지정된 chars 또는 공백을 제거한 문자열을 반환|\n",
    "|rstrip([chars])|문자열 오른쪽에 지정된 chars 또는 공백을 제거한 문자열을 반환|\n",
    "|partition(sep)|문자열에서 첫번째 sep를 기준으로 분할하여 3개의 튜플을 반환|\n",
    "|rpartiion(sep)|문자열에서 마지막 sep를 기준으로 분할하여 3개의 튜플을 반환|\n",
    "|replace(old, new[, count])|문자열의 모든 old를 new로 교체한 문자열을 반환|\n",
    "|split(seq=None, maxsplit=1)|seq를 구분자 문자열로 사용하여 문자열의 단어 목록을 반환|\n",
    "|rsplit(seq=None, maxsplit=1)|seq를 구분자 문자열로 사용하여 문자열의 단어 목록을 반환|\n",
    "|splitlines([keepends])|문자열에서 라인 단위로 구분하여 리스트를 반환|\n",
    "|startswith(prefix[, start[, end]])|[start, end] 범위에서 지정한 prefix로 시작하면 True 아니면 False 반환|\n",
    "|endswith(suffix[, start[, end]])|[start, end] 범위에서 지정한 suffix로 끝나면 True 아니면 False 반환|\n",
    "|zfill(width)|너비 만큼의 문자열에서 비어있는 부분에 '0'이 채워진 문자열 반환|\n",
    "\n",
    "#### 📌 capitalize() · casefold()"
   ]
  },
  {
   "cell_type": "code",
   "execution_count": 12,
   "id": "03bae4ca",
   "metadata": {},
   "outputs": [
    {
     "name": "stdout",
     "output_type": "stream",
     "text": [
      "String\n"
     ]
    }
   ],
   "source": [
    "s = \"string\"\n",
    "print(s.capitalize())"
   ]
  },
  {
   "cell_type": "code",
   "execution_count": 13,
   "id": "ec2445a5",
   "metadata": {},
   "outputs": [
    {
     "name": "stdout",
     "output_type": "stream",
     "text": [
      "string\n"
     ]
    }
   ],
   "source": [
    "s = \"String\"\n",
    "print(s.casefold())"
   ]
  },
  {
   "cell_type": "markdown",
   "id": "cb0f24c6",
   "metadata": {},
   "source": [
    "#### 📌 count()"
   ]
  },
  {
   "cell_type": "code",
   "execution_count": 14,
   "id": "d9f81108",
   "metadata": {},
   "outputs": [
    {
     "name": "stdout",
     "output_type": "stream",
     "text": [
      "2\n",
      "2\n"
     ]
    }
   ],
   "source": [
    "s = \"string string\"\n",
    "print(s.count(\"s\"))\n",
    "print(s.count(\"string\"))"
   ]
  },
  {
   "cell_type": "markdown",
   "id": "60e16ba4",
   "metadata": {},
   "source": [
    "#### 📌 find() · rfind()"
   ]
  },
  {
   "cell_type": "code",
   "execution_count": 15,
   "id": "d81811fd",
   "metadata": {},
   "outputs": [
    {
     "name": "stdout",
     "output_type": "stream",
     "text": [
      "0\n",
      "3\n",
      "7\n",
      "10\n"
     ]
    }
   ],
   "source": [
    "s = \"string string\"\n",
    "print(s.find(\"s\"))\n",
    "print(s.find(\"ing\"))\n",
    "print(s.rfind(\"s\"))\n",
    "print(s.rfind(\"ing\"))"
   ]
  },
  {
   "cell_type": "markdown",
   "id": "6010f37c",
   "metadata": {},
   "source": [
    "#### 📌 index() · rindex()"
   ]
  },
  {
   "cell_type": "code",
   "execution_count": 16,
   "id": "e457ff09",
   "metadata": {},
   "outputs": [
    {
     "name": "stdout",
     "output_type": "stream",
     "text": [
      "0\n",
      "3\n",
      "7\n",
      "10\n"
     ]
    },
    {
     "ename": "ValueError",
     "evalue": "substring not found",
     "output_type": "error",
     "traceback": [
      "\u001b[1;31m---------------------------------------------------------------------------\u001b[0m",
      "\u001b[1;31mValueError\u001b[0m                                Traceback (most recent call last)",
      "Input \u001b[1;32mIn [16]\u001b[0m, in \u001b[0;36m<cell line: 6>\u001b[1;34m()\u001b[0m\n\u001b[0;32m      4\u001b[0m \u001b[38;5;28mprint\u001b[39m(s\u001b[38;5;241m.\u001b[39mrindex(\u001b[38;5;124m\"\u001b[39m\u001b[38;5;124ms\u001b[39m\u001b[38;5;124m\"\u001b[39m))\n\u001b[0;32m      5\u001b[0m \u001b[38;5;28mprint\u001b[39m(s\u001b[38;5;241m.\u001b[39mrindex(\u001b[38;5;124m\"\u001b[39m\u001b[38;5;124ming\u001b[39m\u001b[38;5;124m\"\u001b[39m))\n\u001b[1;32m----> 6\u001b[0m \u001b[38;5;28mprint\u001b[39m(\u001b[43ms\u001b[49m\u001b[38;5;241;43m.\u001b[39;49m\u001b[43mindex\u001b[49m\u001b[43m(\u001b[49m\u001b[38;5;124;43m\"\u001b[39;49m\u001b[38;5;124;43mz\u001b[39;49m\u001b[38;5;124;43m\"\u001b[39;49m\u001b[43m)\u001b[49m)\n",
      "\u001b[1;31mValueError\u001b[0m: substring not found"
     ]
    }
   ],
   "source": [
    "s = \"string string\"\n",
    "print(s.index(\"s\"))\n",
    "print(s.index(\"ing\"))\n",
    "print(s.rindex(\"s\"))\n",
    "print(s.rindex(\"ing\"))\n",
    "print(s.index(\"z\"))"
   ]
  },
  {
   "cell_type": "markdown",
   "id": "7e43c3e4",
   "metadata": {},
   "source": [
    "#### 📌 isalnum()"
   ]
  },
  {
   "cell_type": "code",
   "execution_count": 17,
   "id": "bd298d43",
   "metadata": {},
   "outputs": [
    {
     "name": "stdout",
     "output_type": "stream",
     "text": [
      "True\n",
      "True\n",
      "True\n",
      "False\n",
      "False\n"
     ]
    }
   ],
   "source": [
    "print(\"string\".isalnum())\n",
    "print(\"한글\".isalnum())\n",
    "print(\"123\".isalnum())\n",
    "print(\"!@#\".isalnum()) # 특수문자\n",
    "print(\"Hello World\".isalnum()) # 공백 포함"
   ]
  },
  {
   "cell_type": "markdown",
   "id": "71d51de3",
   "metadata": {},
   "source": [
    "#### 📌 isalpha()"
   ]
  },
  {
   "cell_type": "code",
   "execution_count": 18,
   "id": "24c9ec69",
   "metadata": {},
   "outputs": [
    {
     "name": "stdout",
     "output_type": "stream",
     "text": [
      "True\n",
      "True\n",
      "False\n",
      "False\n",
      "False\n"
     ]
    }
   ],
   "source": [
    "print(\"string\".isalpha())\n",
    "print(\"한글\".isalpha())\n",
    "print(\"123\".isalpha()) # 숫자\n",
    "print(\"!@#\".isalpha()) # 특수문자\n",
    "print(\"Hello World\".isalpha()) # 공백 포함"
   ]
  },
  {
   "cell_type": "markdown",
   "id": "b6876c2f",
   "metadata": {},
   "source": [
    "#### 📌 isdecimal()"
   ]
  },
  {
   "cell_type": "code",
   "execution_count": 19,
   "id": "c77909fd",
   "metadata": {},
   "outputs": [
    {
     "name": "stdout",
     "output_type": "stream",
     "text": [
      "True\n",
      "False\n",
      "False\n",
      "True\n"
     ]
    }
   ],
   "source": [
    "print(\"123\".isdecimal())\n",
    "print(\"1.23\".isdecimal())\n",
    "print(\"3²\".isdecimal())\n",
    "print(\"½\".isnumeric())"
   ]
  },
  {
   "cell_type": "markdown",
   "id": "0f82bede",
   "metadata": {},
   "source": [
    "#### 📌 isdigit()"
   ]
  },
  {
   "cell_type": "code",
   "execution_count": 20,
   "id": "6dea371f",
   "metadata": {},
   "outputs": [
    {
     "name": "stdout",
     "output_type": "stream",
     "text": [
      "True\n",
      "False\n",
      "True\n",
      "False\n"
     ]
    }
   ],
   "source": [
    "print(\"123\".isdigit())\n",
    "print(\"1.23\".isdigit())\n",
    "print(\"3²\".isdigit())\n",
    "print(\"½\".isdigit())"
   ]
  },
  {
   "cell_type": "markdown",
   "id": "0bd54151",
   "metadata": {},
   "source": [
    "#### 📌 isnumeric()"
   ]
  },
  {
   "cell_type": "code",
   "execution_count": 21,
   "id": "441162c6",
   "metadata": {},
   "outputs": [
    {
     "name": "stdout",
     "output_type": "stream",
     "text": [
      "True\n",
      "False\n",
      "True\n",
      "True\n"
     ]
    }
   ],
   "source": [
    "print(\"123\".isnumeric())\n",
    "print(\"1.23\".isnumeric())\n",
    "print(\"3²\".isnumeric())\n",
    "print(\"½\".isnumeric())"
   ]
  },
  {
   "cell_type": "markdown",
   "id": "3dea6816",
   "metadata": {},
   "source": [
    "#### 📌 isidentifier()"
   ]
  },
  {
   "cell_type": "code",
   "execution_count": 22,
   "id": "c805793b",
   "metadata": {},
   "outputs": [
    {
     "name": "stdout",
     "output_type": "stream",
     "text": [
      "False\n",
      "True\n",
      "True\n",
      "True\n",
      "True\n"
     ]
    }
   ],
   "source": [
    "print(\"123\".isidentifier())\n",
    "print(\"Ture\".isidentifier()) # 예약어 True\n",
    "print(\"False\".isidentifier()) # 예약어 False\n",
    "print(\"print\".isidentifier()) # 예약어 print\n",
    "print(\"s\".isidentifier()) # 변수명"
   ]
  },
  {
   "cell_type": "markdown",
   "id": "8115b111",
   "metadata": {},
   "source": [
    "#### 📌 isspace()"
   ]
  },
  {
   "cell_type": "code",
   "execution_count": 23,
   "id": "374f8475",
   "metadata": {},
   "outputs": [
    {
     "name": "stdout",
     "output_type": "stream",
     "text": [
      "True\n",
      "False\n"
     ]
    }
   ],
   "source": [
    "print(\" \".isspace())\n",
    "print(\"Hello World\".isspace())"
   ]
  },
  {
   "cell_type": "markdown",
   "id": "7a3bdbb6",
   "metadata": {},
   "source": [
    "#### 📌 istitle()"
   ]
  },
  {
   "cell_type": "code",
   "execution_count": 24,
   "id": "fdb1af5e",
   "metadata": {},
   "outputs": [
    {
     "name": "stdout",
     "output_type": "stream",
     "text": [
      "True\n",
      "False\n",
      "True\n",
      "False\n"
     ]
    }
   ],
   "source": [
    "print(\"String\".istitle())\n",
    "print(\"STRING\".istitle())\n",
    "print(\"String String\".istitle())\n",
    "print(\"String string\".istitle())"
   ]
  },
  {
   "cell_type": "markdown",
   "id": "91dfedbc",
   "metadata": {},
   "source": [
    "#### 📌 islower()"
   ]
  },
  {
   "cell_type": "code",
   "execution_count": 25,
   "id": "10d4a788",
   "metadata": {},
   "outputs": [
    {
     "name": "stdout",
     "output_type": "stream",
     "text": [
      "True\n",
      "False\n",
      "False\n"
     ]
    }
   ],
   "source": [
    "print(\"string\".islower())\n",
    "print(\"String\".islower())\n",
    "print(\"STRING\".islower())"
   ]
  },
  {
   "cell_type": "markdown",
   "id": "7350eaa2",
   "metadata": {},
   "source": [
    "#### 📌 isupper()"
   ]
  },
  {
   "cell_type": "code",
   "execution_count": 26,
   "id": "9cf8b8bd",
   "metadata": {},
   "outputs": [
    {
     "name": "stdout",
     "output_type": "stream",
     "text": [
      "False\n",
      "False\n",
      "True\n"
     ]
    }
   ],
   "source": [
    "print(\"string\".isupper())\n",
    "print(\"String\".isupper())\n",
    "print(\"STRING\".isupper())"
   ]
  },
  {
   "cell_type": "markdown",
   "id": "8e1459fe",
   "metadata": {},
   "source": [
    "#### 📌 join()"
   ]
  },
  {
   "cell_type": "code",
   "execution_count": 27,
   "id": "7de46c79",
   "metadata": {},
   "outputs": [
    {
     "name": "stdout",
     "output_type": "stream",
     "text": [
      "s t r i n g\n",
      "s_t_r_i_n_g\n",
      "s|t|r|i|n|g\n"
     ]
    }
   ],
   "source": [
    "s = \"string\"\n",
    "print(\" \".join(s))\n",
    "print(\"_\".join(s))\n",
    "print(\"|\".join(s))"
   ]
  },
  {
   "cell_type": "markdown",
   "id": "f029b63c",
   "metadata": {},
   "source": [
    "#### 📌 center() · ljust() · rjust()"
   ]
  },
  {
   "cell_type": "code",
   "execution_count": 28,
   "id": "e687f5fd",
   "metadata": {},
   "outputs": [
    {
     "name": "stdout",
     "output_type": "stream",
     "text": [
      "'  String  '\n",
      "'String    '\n",
      "'    String'\n"
     ]
    }
   ],
   "source": [
    "print(\"'\" + \"String\".center(10) + \"'\")\n",
    "print(\"'\" + \"String\".ljust(10) + \"'\")\n",
    "print(\"'\" + \"String\".rjust(10) + \"'\")"
   ]
  },
  {
   "cell_type": "markdown",
   "id": "5d825a1d",
   "metadata": {},
   "source": [
    "#### 📌 lower() · upper() · title() · swapcase()"
   ]
  },
  {
   "cell_type": "code",
   "execution_count": 29,
   "id": "026d9105",
   "metadata": {},
   "outputs": [
    {
     "name": "stdout",
     "output_type": "stream",
     "text": [
      "string\n",
      "STRING\n",
      "String String\n",
      "sTRING\n"
     ]
    }
   ],
   "source": [
    "print(\"String\".lower())\n",
    "print(\"String\".upper())\n",
    "print(\"string string\".title())\n",
    "print(\"String\".swapcase())"
   ]
  },
  {
   "cell_type": "markdown",
   "id": "dd7f1e5d",
   "metadata": {},
   "source": [
    "#### 📌 strip() · lstrip() · rstrip()"
   ]
  },
  {
   "cell_type": "code",
   "execution_count": 30,
   "id": "012f283e",
   "metadata": {},
   "outputs": [
    {
     "name": "stdout",
     "output_type": "stream",
     "text": [
      "String\n",
      "String  \n",
      "  String\n"
     ]
    }
   ],
   "source": [
    "print(\"  String  \".strip())\n",
    "print(\"  String  \".lstrip())\n",
    "print(\"  String  \".rstrip())"
   ]
  },
  {
   "cell_type": "markdown",
   "id": "3ab6759f",
   "metadata": {},
   "source": [
    "#### 📌 partition() · rpartition()"
   ]
  },
  {
   "cell_type": "code",
   "execution_count": 31,
   "id": "8f378d86",
   "metadata": {},
   "outputs": [
    {
     "name": "stdout",
     "output_type": "stream",
     "text": [
      "('S', 't', 'ring String')\n",
      "('String S', 't', 'ring')\n"
     ]
    }
   ],
   "source": [
    "print(\"String String\".partition(\"t\"))\n",
    "print(\"String String\".rpartition(\"t\"))"
   ]
  },
  {
   "cell_type": "markdown",
   "id": "4b020408",
   "metadata": {},
   "source": [
    "#### 📌 replace()"
   ]
  },
  {
   "cell_type": "code",
   "execution_count": 32,
   "id": "74283cb9",
   "metadata": {},
   "outputs": [
    {
     "name": "stdout",
     "output_type": "stream",
     "text": [
      "Ring\n"
     ]
    }
   ],
   "source": [
    "print(\"String\".replace(\"Str\", \"R\"))"
   ]
  },
  {
   "cell_type": "markdown",
   "id": "fcda209b",
   "metadata": {},
   "source": [
    "#### 📌 split() · rsplit() · splitlines()"
   ]
  },
  {
   "cell_type": "code",
   "execution_count": 33,
   "id": "a55f52d1",
   "metadata": {},
   "outputs": [
    {
     "name": "stdout",
     "output_type": "stream",
     "text": [
      "['1', '2', '3']\n",
      "['1', '2', '3']\n",
      "['1', '2_3']\n",
      "['1', '2', '3']\n",
      "['1_2', '3']\n",
      "['123', '123', '123']\n"
     ]
    }
   ],
   "source": [
    "print(\"1 2 3\".split())\n",
    "print(\"1_2_3\".split(\"_\"))\n",
    "print(\"1_2_3\".split(\"_\", 1))\n",
    "print(\"1_2_3\".rsplit(\"_\"))\n",
    "print(\"1_2_3\".rsplit(\"_\", 1))\n",
    "print(\"123\\n123\\n123\".splitlines())"
   ]
  },
  {
   "cell_type": "markdown",
   "id": "e36a1bb4",
   "metadata": {},
   "source": [
    "#### 📌 startswith() · endswith()"
   ]
  },
  {
   "cell_type": "code",
   "execution_count": 34,
   "id": "ec62adae",
   "metadata": {},
   "outputs": [
    {
     "name": "stdout",
     "output_type": "stream",
     "text": [
      "True\n",
      "False\n",
      "True\n",
      "False\n"
     ]
    }
   ],
   "source": [
    "print(\"String\".startswith(\"S\"))\n",
    "print(\"String\".startswith(\"s\"))\n",
    "print(\"String\".endswith(\"g\"))\n",
    "print(\"String\".endswith(\"z\"))"
   ]
  },
  {
   "cell_type": "markdown",
   "id": "9021e09e",
   "metadata": {},
   "source": [
    "#### 📌 zfill()"
   ]
  },
  {
   "cell_type": "code",
   "execution_count": 35,
   "id": "a7530f70",
   "metadata": {},
   "outputs": [
    {
     "name": "stdout",
     "output_type": "stream",
     "text": [
      "0000000123\n"
     ]
    }
   ],
   "source": [
    "print(\"123\".zfill(10))"
   ]
  },
  {
   "cell_type": "markdown",
   "id": "473f1a44",
   "metadata": {},
   "source": [
    "## 🗂️ 문자열 서식(String Format)\n",
    "\n",
    "#### 📌 문자열 포맷팅(Stirng Formatting)\n",
    "- 문자열 내에서 서식에 맞추어 특정 값을 삽입 또는 변경\n",
    "- 기호 ```%``` 뒤에 있는 값이 문자열 내의 서식에 순서대로 매핑"
   ]
  },
  {
   "cell_type": "code",
   "execution_count": 36,
   "id": "10d0f83c",
   "metadata": {},
   "outputs": [
    {
     "name": "stdout",
     "output_type": "stream",
     "text": [
      "나는 사과가 2개 있다\n",
      "나는 사과가 2개 있다\n"
     ]
    }
   ],
   "source": [
    "print(\"나는 사과가 %d개 있다\" % 2)\n",
    "print(\"나는 %s가 %d개 있다\" % (\"사과\", 2))"
   ]
  },
  {
   "cell_type": "markdown",
   "id": "5def6f95",
   "metadata": {},
   "source": [
    "#### 📌 문자열 포맷 코드(String Format Code)\n",
    "- 문자열 포맷팅에서 사용할 수 있는 다양한 포맷 코드\n",
    "\n",
    "|코드|설명|\n",
    "|:--:|:--:|\n",
    "|%s|문자열(string)|\n",
    "|%c|문자(character)|\n",
    "|%d|정수(integer)|\n",
    "|%f|부동소수(floating-point)|\n",
    "|%o|8진수(octal)|\n",
    "|%x|16진수(hexadecimal)|\n",
    "|%%|문자 '%'|\n",
    "\n",
    "#### 📌 정렬, 공백, 소수점 포맷\n",
    "- ```.``` 앞의 숫자는 길이를 의미\n",
    "- ```.``` 뒤의 숫자는 소수점 이하의 개수를 의미\n",
    "- ```-```는 왼쪽 정렬을 의미"
   ]
  },
  {
   "cell_type": "code",
   "execution_count": 37,
   "id": "b9b4cf7b",
   "metadata": {},
   "outputs": [
    {
     "name": "stdout",
     "output_type": "stream",
     "text": [
      "'      1.23'\n",
      "'1.23      '\n"
     ]
    }
   ],
   "source": [
    "print(\"'\" + \"%10.2f\" % 1.2345 + \"'\")\n",
    "print(\"'\" + \"%-10.2f\" % 1.2345 + \"'\")"
   ]
  },
  {
   "cell_type": "markdown",
   "id": "9fcb4ac0",
   "metadata": {},
   "source": [
    "#### 📌 문자열 format 메소드\n",
    "- 문자열 ```format()```의 인덱스를 이용한 고급 포맷팅\n",
    "- 인덱스에 따라 ```format()``` 함수의 각 값들이 매핑"
   ]
  },
  {
   "cell_type": "code",
   "execution_count": 38,
   "id": "2091bac6",
   "metadata": {},
   "outputs": [
    {
     "name": "stdout",
     "output_type": "stream",
     "text": [
      "나는 사과가 2개 있다\n",
      "나는 사과가 2개 있다\n",
      "나는 바나나가 5개 있다\n",
      "나는 포도가 10개 있다.\n"
     ]
    }
   ],
   "source": [
    "print(\"나는 사과가 {0}개 있다\".format(2))\n",
    "print(\"나는 {0}가 {1}개 있다\".format(\"사과\", 2))\n",
    "\n",
    "fruit = \"바나나\"\n",
    "count = 5\n",
    "print(\"나는 {0}가 {1}개 있다\".format(fruit, count))\n",
    "\n",
    "print(\"나는 {fruit}가 {count}개 있다.\".format(count = 10, fruit = \"포도\"))"
   ]
  },
  {
   "cell_type": "markdown",
   "id": "767a5d52",
   "metadata": {},
   "source": [
    "- 문자열 ```format()``` 함수의 정렬, 공백, 소수점 표현\n",
    "\n",
    "|포맷|설명|\n",
    "|:--:|:--:|\n",
    "|:9|길이 9|\n",
    "|:<|왼쪽 정렬|\n",
    "|:>|오른쪽 정렬|\n",
    "|:^|가운데 정렬|\n",
    "|:~|'~'로 공백 채우기|\n",
    "|:0.2f|소수점을 2자리까지 표현|\n",
    "|:10.2f|길이 10, 소수점 2자리|\n",
    "|{{|'{' 문자 표현|\n",
    "|}}|'}' 문자 표현|"
   ]
  },
  {
   "cell_type": "code",
   "execution_count": 39,
   "id": "fe8a2d0d",
   "metadata": {},
   "outputs": [
    {
     "name": "stdout",
     "output_type": "stream",
     "text": [
      "'Hello    '\n",
      "'Hello    '\n",
      "'    Hello'\n",
      "'  Hello  '\n",
      "'~~Hello~~'\n",
      "'--Hello--'\n",
      "'3.14'\n",
      "'      3.14'\n",
      "{중괄호}\n"
     ]
    }
   ],
   "source": [
    "print(\"'\" + \"{0:9}\".format(\"Hello\") + \"'\")\n",
    "print(\"'\" + \"{0:<9}\".format(\"Hello\") + \"'\")\n",
    "print(\"'\" + \"{0:>9}\".format(\"Hello\") + \"'\")\n",
    "print(\"'\" + \"{0:^9}\".format(\"Hello\") + \"'\")\n",
    "print(\"'\" + \"{0:~^9}\".format(\"Hello\") + \"'\")\n",
    "print(\"'\" + \"{0:-^9}\".format(\"Hello\") + \"'\")\n",
    "print(\"'\" + \"{0:0.2f}\".format(3.1415925635) + \"'\")\n",
    "print(\"'\" + \"{0:10.2f}\".format(3.1415925635) + \"'\")\n",
    "print(\"{{중괄호}}\".format())"
   ]
  },
  {
   "cell_type": "markdown",
   "id": "36490109",
   "metadata": {},
   "source": [
    "#### 📌 f 문자열 포맷팅\n",
    "- 문자열 포맷팅을 위해서 새롭게 나온 기능으로 문자열 앞에 f를 붙여서 구분"
   ]
  },
  {
   "cell_type": "code",
   "execution_count": 40,
   "id": "abde76ed",
   "metadata": {},
   "outputs": [
    {
     "name": "stdout",
     "output_type": "stream",
     "text": [
      "나는 사과가 2개 있다\n"
     ]
    }
   ],
   "source": [
    "fruit = \"사과\"\n",
    "count = 2\n",
    "print(f\"나는 {fruit}가 {count}개 있다\")"
   ]
  },
  {
   "cell_type": "markdown",
   "id": "06771491",
   "metadata": {},
   "source": [
    "- 기존의 문자열 포맷을 문자열 다음기호 ```:``` 뒤에 표현하여 그대로 사용 가능"
   ]
  },
  {
   "cell_type": "code",
   "execution_count": 41,
   "id": "7c4ed277",
   "metadata": {},
   "outputs": [
    {
     "name": "stdout",
     "output_type": "stream",
     "text": [
      "'Hello    '\n",
      "'Hello    '\n",
      "'    Hello'\n",
      "'  Hello  '\n",
      "'~~Hello~~'\n",
      "'--Hello--'\n",
      "'3.14'\n",
      "'      3.14'\n",
      "{중괄호}\n"
     ]
    }
   ],
   "source": [
    "print(\"'\" + f\"{'Hello':9}\" + \"'\")\n",
    "print(\"'\" + f\"{'Hello':<9}\" + \"'\")\n",
    "print(\"'\" + f\"{'Hello':>9}\" + \"'\")\n",
    "print(\"'\" + f\"{'Hello':^9}\" + \"'\")\n",
    "print(\"'\" + f\"{'Hello':~^9}\" + \"'\")\n",
    "print(\"'\" + f\"{'Hello':-^9}\" + \"'\")\n",
    "print(\"'\" + f\"{3.1415925635:0.2f}\" + \"'\")\n",
    "print(\"'\" + f\"{3.1415925635:10.2f}\" + \"'\")\n",
    "print(f'{{중괄호}}')"
   ]
  }
 ],
 "metadata": {
  "kernelspec": {
   "display_name": "Python 3 (ipykernel)",
   "language": "python",
   "name": "python3"
  },
  "language_info": {
   "codemirror_mode": {
    "name": "ipython",
    "version": 3
   },
   "file_extension": ".py",
   "mimetype": "text/x-python",
   "name": "python",
   "nbconvert_exporter": "python",
   "pygments_lexer": "ipython3",
   "version": "3.9.12"
  }
 },
 "nbformat": 4,
 "nbformat_minor": 5
}
